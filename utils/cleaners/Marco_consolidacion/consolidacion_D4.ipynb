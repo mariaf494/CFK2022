{
 "cells": [
  {
   "cell_type": "code",
   "execution_count": 1,
   "metadata": {
    "collapsed": true
   },
   "outputs": [],
   "source": [
    "import pandas as pd\n",
    "import pathlib\n",
    "import plotly.express as px"
   ]
  },
  {
   "cell_type": "markdown",
   "source": [
    "## Desarrollo profesional Dimensión 4"
   ],
   "metadata": {
    "collapsed": false,
    "pycharm": {
     "name": "#%% md\n"
    }
   }
  },
  {
   "cell_type": "markdown",
   "source": [
    "#### Docentes"
   ],
   "metadata": {
    "collapsed": false,
    "pycharm": {
     "name": "#%% md\n"
    }
   }
  },
  {
   "cell_type": "code",
   "execution_count": 2,
   "outputs": [],
   "source": [
    "ruta_git = pathlib.Path().cwd().parent.parent.parent"
   ],
   "metadata": {
    "collapsed": false,
    "pycharm": {
     "name": "#%%\n"
    }
   }
  },
  {
   "cell_type": "code",
   "source": [
    "doc = pd.read_excel(ruta_git/'data/descargables/DocentesCFK.xlsx')\n",
    "print(doc.shape)\n",
    "print(doc.columns)\n"
   ],
   "metadata": {
    "collapsed": false,
    "pycharm": {
     "name": "#%%\n"
    }
   },
   "execution_count": 3,
   "outputs": [
    {
     "name": "stdout",
     "output_type": "stream",
     "text": [
      "(6346, 91)\n",
      "Index(['N registro', 'Instrumento', 'Fecha', 'Política de datos', 'Código IE',\n",
      "       'Tipo ID', 'ID', 'Email', 'Edad', 'Sexo', 'Cabeza de hogar',\n",
      "       'Estado civil', 'Líder comunitario', 'Formado CFK', 'Implementa fichas',\n",
      "       'Formado tecnología e informática',\n",
      "       '¿Cuáles de las siguientes áreas enseña y en qué grado? [Ciencias naturales y educación ambiental.]',\n",
      "       '¿Cuáles de las siguientes áreas enseña y en qué grado? [Ciencias sociales, historia, geografía, constitución política y democracia.]',\n",
      "       '¿Cuáles de las siguientes áreas enseña y en qué grado? [Educación artística.]',\n",
      "       '¿Cuáles de las siguientes áreas enseña y en qué grado? [Educación ética y en valores humanos.]',\n",
      "       '¿Cuáles de las siguientes áreas enseña y en qué grado? [Educación física, recreación y deportes.]',\n",
      "       '¿Cuáles de las siguientes áreas enseña y en qué grado? [Educación religiosa.]',\n",
      "       '¿Cuáles de las siguientes áreas enseña y en qué grado? [Humanidades, lengua castellana e idiomas extranjeros.]',\n",
      "       '¿Cuáles de las siguientes áreas enseña y en qué grado? [Matemáticas.]',\n",
      "       '¿Cuáles de las siguientes áreas enseña y en qué grado? [Tecnología e informática.]',\n",
      "       '¿Cuáles de las siguientes áreas enseña y en qué grado? [Otro]',\n",
      "       'Enseña STEM', 'Formado STEM',\n",
      "       'Considera importante enseñar el pensamiento computacional desde los primeros niveles educativos',\n",
      "       '1.1 Siento que puedo aplicar las prácticas y habilidades del pensamiento computacional a mi trabajo',\n",
      "       '1.2 Siento que puedo definir el pensamiento computacional',\n",
      "       '1.3 Siento que puedo describir las prácticas y habilidades que componen el pensamiento computacional a mis estudiantes',\n",
      "       '1.4 Siento que puedo aplicar las prácticas y habilidades del pensamiento computacional a mi vida diaria',\n",
      "       '2.1 Creo que tengo las habilidades para desarrollar el pensamiento computacional en mis estudiantes',\n",
      "       '2.2 Siento que puedo enseñar fácilmente sobre nuevas prácticas computacionales',\n",
      "       '2.3 Siento que puedo diseñar una clase que desarrolle el pensamiento computacional en los estudiantes',\n",
      "       '2.4 Siento que puedo aplicar mis habilidades en pensamiento computacional para ayudar a los estudiantes a perseguir sus intereses individuales',\n",
      "       '2.5 Siento que puedo evaluar la idoneidad de una estrategia pedagógica para desarrollar pensamiento computacional',\n",
      "       '3.1 El colegio ofrece espacios adicionales para fomentar el pensamiento computacional',\n",
      "       '3.2 En la programación anual del colegio existen actividades asociadas al pensamiento computacional',\n",
      "       '3.3 Cuando he intentado enseñar pensamiento computacional me he encontrado con obstáculos para gestionar espacios y materiales en el colegio.',\n",
      "       '3.4 Recibo apoyo del colegio cuando propongo nuevas ideas y temáticas afines al pensamiento computacional',\n",
      "       '3.5 Siento que por más que lo he intentado mis esfuerzos por incluir pensamiento computacional en las clases no han sido efectivos por la rigidez del plan de estudio',\n",
      "       '3.6 Los directivos incentivan la implementación de nuevas prácticas pedagógicas sobre pensamiento computacional en el aula',\n",
      "       '3.7 Puedo incluir espacios en mis clases para implementar actividades sobre el pensamiento computacional',\n",
      "       '3.8 Me siento frustrado porque la programación de las clases y compromisos institucionales no me permite incluir actividades de pensamiento computacional',\n",
      "       '3.9 Tener educación en pensamiento computacional mejoraría significativamente las futuras opciones de ocupación para los estudiantes de mi escuela.',\n",
      "       '4.1 Creo que sé cómo resolver los problemas técnicos cuando fallan las TIC',\n",
      "       '4.2 Siento que puedo aprender sobre nuevas tecnologías fácilmente',\n",
      "       '4.3 Creo que sé cómo usar las TIC con los estudiantes en clase',\n",
      "       '5.1 Me apoyo en mis colegas para resolver problemas sobre cómo trabajar algún tema',\n",
      "       '5.2 Puedo hablar con otros docentes sobre el diseño de cursos',\n",
      "       '5.3 Siento que tengo apoyo de otros docentes para el diseño de mis cursos',\n",
      "       '5.4 Siento que no tengo con quién conversar sobre el diseño de mis cursos',\n",
      "       '6.1 Actividades desconectadas', '6.2 Usa-Modifica-Crea',\n",
      "       '6.3 Clase magistral', '6.4 Programación en pares',\n",
      "       '6.5 Lectura del código', '6.6 Le explicaría la respuesta correcta',\n",
      "       '6.7 Le sugeriría ir paso a paso por el programa simulando su ejecución',\n",
      "       '6.8 Le diría que revise sus notas',\n",
      "       '6.9 Le sugeriría que revise las memorias colectivas',\n",
      "       '7.1 Le sugeriría volver a leer el problema',\n",
      "       '7.2 Le sugeriría intentar con varios valores para evaluar el programa',\n",
      "       '7.3 Le explicaría el problema nuevamente', 'Comentarios P1-7',\n",
      "       'Un algoritmo es:', '¿Para qué sirven los algoritmos?', 'Un bucle es:',\n",
      "       '¿Cuál es el error conceptual de Tim?',\n",
      "       '¿Cuál es el error conceptual de Ana?', 'Comentarios Conocimientos',\n",
      "       '¿Cuáles de las siguientes estrategias usted ha usado en sus clases?',\n",
      "       '8.1 Es preferible que las mujeres enseñen ciencias sociales y los hombres ciencias exactas.',\n",
      "       '8.2 Es normal que la mayoría de ingenieros mecánicos sean varones porque los hombres son mejores para los números.',\n",
      "       '8.3 Por su esencia una mujer tiene mejor desempeño en un proyecto de alto impacto social que en un proyecto de robótica industrial.',\n",
      "       '8.4 Los hombres son mejores para la tecnología que las mujeres.',\n",
      "       '8.5 Las mujeres tienen mayores habilidades para proyectos sociales que tecnológicos.',\n",
      "       '8.6 Los grandes aportes en la computación han sido hechos por hombres.',\n",
      "       '8.7 Que la mayoría de mujeres no opte por áreas exactas es simplemente una cuestión de preferencias.',\n",
      "       '8.8 Que la mayoría de personas en artes y humanidades sean mujeres es muestra de su sensibilidad.',\n",
      "       '8.9 Es natural que los hombres sean buenos para los números y las mujeres para las letras.',\n",
      "       '8.10 Los hombres son muy ágiles tomando decisiones importantes.',\n",
      "       '8.11 Las niñas son más ordenadas que los niños.',\n",
      "       '8.12 Muchas mujeres se caracterizan por una pureza que pocos hombres poseen.',\n",
      "       '8.13 Las mujeres deben ser queridas y protegidas por los hombres.',\n",
      "       '8.14 Todo hombre debe tener una mujer a quien amar.',\n",
      "       '8.15 El hombre está incompleto sin la mujer.',\n",
      "       '8.16 Las mujeres en comparación con los hombres, tienden a tener un sentido más refinado de la cultura y el buen gusto.',\n",
      "       'Comentarios género'],\n",
      "      dtype='object')\n"
     ]
    }
   ]
  },
  {
   "cell_type": "code",
   "execution_count": 3,
   "outputs": [
    {
     "data": {
      "text/plain": "                Timestamp Política de datos                  Código IE  \\\n3 2022-04-18 07:59:42.646                Sí  Nueva Esperanza La Palma    \n4 2022-04-18 08:03:32.288                Sí                        206   \n5 2022-04-18 08:05:14.497                Sí                        206   \n6 2022-04-18 08:07:11.041                Sí                        206   \n7 2022-04-18 08:07:35.471                Sí                        206   \n\n                Tipo ID            ID                            Email  Edad  \\\n3  Cédula de ciudadanía  1.110475e+09               ydur912@gmail.com   33.0   \n4  Cédula de ciudadanía  5.828243e+06        Mosquera.fabio@gmail.com   40.0   \n5  Cédula de ciudadanía  9.337793e+07                 nixong@yahoo.com  52.0   \n6  Cédula de ciudadanía  3.836377e+07      ivonne.saavedrab@nep.edu.co  38.0   \n7  Cédula de ciudadanía  5.827991e+06  javierlunarodriguez@hotmail.com  42.0   \n\n        Sexo Cabeza de hogar                Estado civil  ...  \\\n3  Masculino              Sí                   Soltero/a  ...   \n4  Masculino              Sí  Casado/a o  En unión libre  ...   \n5  Masculino              Sí  Casado/a o  En unión libre  ...   \n6   Femenino              No                   Soltero/a  ...   \n7  Masculino              Sí  Casado/a o  En unión libre  ...   \n\n  8.9 Es natural que los hombres sean buenos para los números y las mujeres para las letras.  \\\n3                                             Neutro                                           \n4                                             Neutro                                           \n5                           Totalmente en desacuerdo                                           \n6                           Totalmente en desacuerdo                                           \n7                                      En desacuerdo                                           \n\n  8.10 Los hombres son muy ágiles tomando decisiones importantes.  \\\n3                                             Neutro                \n4                                             Neutro                \n5                           Totalmente en desacuerdo                \n6                           Totalmente en desacuerdo                \n7                                      En desacuerdo                \n\n  8.11 Las niñas son más ordenadas que los niños.  \\\n3                                          Neutro   \n4                                          Neutro   \n5                                      De acuerdo   \n6                        Totalmente en desacuerdo   \n7                                   En desacuerdo   \n\n  8.12 Muchas mujeres se caracterizan por una pureza que pocos hombres poseen.  \\\n3                                             Neutro                             \n4                                             Neutro                             \n5                                             Neutro                             \n6                           Totalmente en desacuerdo                             \n7                                      En desacuerdo                             \n\n  8.13 Las mujeres deben ser queridas y protegidas por los hombres.  \\\n3                                             Neutro                  \n4                                             Neutro                  \n5                                             Neutro                  \n6                           Totalmente en desacuerdo                  \n7                                      En desacuerdo                  \n\n  8.14 Todo hombre debe tener una mujer a quien amar.  \\\n3                                             Neutro    \n4                                             Neutro    \n5                           Totalmente en desacuerdo    \n6                           Totalmente en desacuerdo    \n7                                      En desacuerdo    \n\n  8.15 El hombre está incompleto sin la mujer.  \\\n3                                       Neutro   \n4                                       Neutro   \n5                     Totalmente en desacuerdo   \n6                     Totalmente en desacuerdo   \n7                                En desacuerdo   \n\n  8.16 Las mujeres en comparación con los hombres, tienden a tener un sentido más refinado de la cultura y el buen gusto.  \\\n3                                             Neutro                                                                        \n4                                             Neutro                                                                        \n5                           Totalmente en desacuerdo                                                                        \n6                           Totalmente en desacuerdo                                                                        \n7                                      En desacuerdo                                                                        \n\n  Comentarios género  Fecha  \n3                NaN  18/04  \n4            Ninguno  18/04  \n5                NaN  18/04  \n6                NaN  18/04  \n7                NaN  18/04  \n\n[5 rows x 90 columns]",
      "text/html": "<div>\n<style scoped>\n    .dataframe tbody tr th:only-of-type {\n        vertical-align: middle;\n    }\n\n    .dataframe tbody tr th {\n        vertical-align: top;\n    }\n\n    .dataframe thead th {\n        text-align: right;\n    }\n</style>\n<table border=\"1\" class=\"dataframe\">\n  <thead>\n    <tr style=\"text-align: right;\">\n      <th></th>\n      <th>Timestamp</th>\n      <th>Política de datos</th>\n      <th>Código IE</th>\n      <th>Tipo ID</th>\n      <th>ID</th>\n      <th>Email</th>\n      <th>Edad</th>\n      <th>Sexo</th>\n      <th>Cabeza de hogar</th>\n      <th>Estado civil</th>\n      <th>...</th>\n      <th>8.9 Es natural que los hombres sean buenos para los números y las mujeres para las letras.</th>\n      <th>8.10 Los hombres son muy ágiles tomando decisiones importantes.</th>\n      <th>8.11 Las niñas son más ordenadas que los niños.</th>\n      <th>8.12 Muchas mujeres se caracterizan por una pureza que pocos hombres poseen.</th>\n      <th>8.13 Las mujeres deben ser queridas y protegidas por los hombres.</th>\n      <th>8.14 Todo hombre debe tener una mujer a quien amar.</th>\n      <th>8.15 El hombre está incompleto sin la mujer.</th>\n      <th>8.16 Las mujeres en comparación con los hombres, tienden a tener un sentido más refinado de la cultura y el buen gusto.</th>\n      <th>Comentarios género</th>\n      <th>Fecha</th>\n    </tr>\n  </thead>\n  <tbody>\n    <tr>\n      <th>3</th>\n      <td>2022-04-18 07:59:42.646</td>\n      <td>Sí</td>\n      <td>Nueva Esperanza La Palma</td>\n      <td>Cédula de ciudadanía</td>\n      <td>1.110475e+09</td>\n      <td>ydur912@gmail.com</td>\n      <td>33.0</td>\n      <td>Masculino</td>\n      <td>Sí</td>\n      <td>Soltero/a</td>\n      <td>...</td>\n      <td>Neutro</td>\n      <td>Neutro</td>\n      <td>Neutro</td>\n      <td>Neutro</td>\n      <td>Neutro</td>\n      <td>Neutro</td>\n      <td>Neutro</td>\n      <td>Neutro</td>\n      <td>NaN</td>\n      <td>18/04</td>\n    </tr>\n    <tr>\n      <th>4</th>\n      <td>2022-04-18 08:03:32.288</td>\n      <td>Sí</td>\n      <td>206</td>\n      <td>Cédula de ciudadanía</td>\n      <td>5.828243e+06</td>\n      <td>Mosquera.fabio@gmail.com</td>\n      <td>40.0</td>\n      <td>Masculino</td>\n      <td>Sí</td>\n      <td>Casado/a o  En unión libre</td>\n      <td>...</td>\n      <td>Neutro</td>\n      <td>Neutro</td>\n      <td>Neutro</td>\n      <td>Neutro</td>\n      <td>Neutro</td>\n      <td>Neutro</td>\n      <td>Neutro</td>\n      <td>Neutro</td>\n      <td>Ninguno</td>\n      <td>18/04</td>\n    </tr>\n    <tr>\n      <th>5</th>\n      <td>2022-04-18 08:05:14.497</td>\n      <td>Sí</td>\n      <td>206</td>\n      <td>Cédula de ciudadanía</td>\n      <td>9.337793e+07</td>\n      <td>nixong@yahoo.com</td>\n      <td>52.0</td>\n      <td>Masculino</td>\n      <td>Sí</td>\n      <td>Casado/a o  En unión libre</td>\n      <td>...</td>\n      <td>Totalmente en desacuerdo</td>\n      <td>Totalmente en desacuerdo</td>\n      <td>De acuerdo</td>\n      <td>Neutro</td>\n      <td>Neutro</td>\n      <td>Totalmente en desacuerdo</td>\n      <td>Totalmente en desacuerdo</td>\n      <td>Totalmente en desacuerdo</td>\n      <td>NaN</td>\n      <td>18/04</td>\n    </tr>\n    <tr>\n      <th>6</th>\n      <td>2022-04-18 08:07:11.041</td>\n      <td>Sí</td>\n      <td>206</td>\n      <td>Cédula de ciudadanía</td>\n      <td>3.836377e+07</td>\n      <td>ivonne.saavedrab@nep.edu.co</td>\n      <td>38.0</td>\n      <td>Femenino</td>\n      <td>No</td>\n      <td>Soltero/a</td>\n      <td>...</td>\n      <td>Totalmente en desacuerdo</td>\n      <td>Totalmente en desacuerdo</td>\n      <td>Totalmente en desacuerdo</td>\n      <td>Totalmente en desacuerdo</td>\n      <td>Totalmente en desacuerdo</td>\n      <td>Totalmente en desacuerdo</td>\n      <td>Totalmente en desacuerdo</td>\n      <td>Totalmente en desacuerdo</td>\n      <td>NaN</td>\n      <td>18/04</td>\n    </tr>\n    <tr>\n      <th>7</th>\n      <td>2022-04-18 08:07:35.471</td>\n      <td>Sí</td>\n      <td>206</td>\n      <td>Cédula de ciudadanía</td>\n      <td>5.827991e+06</td>\n      <td>javierlunarodriguez@hotmail.com</td>\n      <td>42.0</td>\n      <td>Masculino</td>\n      <td>Sí</td>\n      <td>Casado/a o  En unión libre</td>\n      <td>...</td>\n      <td>En desacuerdo</td>\n      <td>En desacuerdo</td>\n      <td>En desacuerdo</td>\n      <td>En desacuerdo</td>\n      <td>En desacuerdo</td>\n      <td>En desacuerdo</td>\n      <td>En desacuerdo</td>\n      <td>En desacuerdo</td>\n      <td>NaN</td>\n      <td>18/04</td>\n    </tr>\n  </tbody>\n</table>\n<p>5 rows × 90 columns</p>\n</div>"
     },
     "execution_count": 3,
     "metadata": {},
     "output_type": "execute_result"
    }
   ],
   "source": [
    "doc.head()"
   ],
   "metadata": {
    "collapsed": false,
    "pycharm": {
     "name": "#%%\n"
    }
   }
  },
  {
   "cell_type": "code",
   "execution_count": 4,
   "outputs": [
    {
     "data": {
      "text/plain": "                       Formado tecnología e informática  Formacion en el area\n0     Sí, otro tipo de formación (diplomados, especi...                     1\n1     Sí, otro tipo de formación (diplomados, especi...                     1\n2                                                    No                     0\n3                                                    No                     0\n4     Sí, otro tipo de formación (diplomados, especi...                     1\n...                                                 ...                   ...\n6341  Sí, otro tipo de formación (diplomados, especi...                     1\n6342                                                 No                     0\n6343                                                 No                     0\n6344                                                 No                     0\n6345                                                 No                     0\n\n[6346 rows x 2 columns]",
      "text/html": "<div>\n<style scoped>\n    .dataframe tbody tr th:only-of-type {\n        vertical-align: middle;\n    }\n\n    .dataframe tbody tr th {\n        vertical-align: top;\n    }\n\n    .dataframe thead th {\n        text-align: right;\n    }\n</style>\n<table border=\"1\" class=\"dataframe\">\n  <thead>\n    <tr style=\"text-align: right;\">\n      <th></th>\n      <th>Formado tecnología e informática</th>\n      <th>Formacion en el area</th>\n    </tr>\n  </thead>\n  <tbody>\n    <tr>\n      <th>0</th>\n      <td>Sí, otro tipo de formación (diplomados, especi...</td>\n      <td>1</td>\n    </tr>\n    <tr>\n      <th>1</th>\n      <td>Sí, otro tipo de formación (diplomados, especi...</td>\n      <td>1</td>\n    </tr>\n    <tr>\n      <th>2</th>\n      <td>No</td>\n      <td>0</td>\n    </tr>\n    <tr>\n      <th>3</th>\n      <td>No</td>\n      <td>0</td>\n    </tr>\n    <tr>\n      <th>4</th>\n      <td>Sí, otro tipo de formación (diplomados, especi...</td>\n      <td>1</td>\n    </tr>\n    <tr>\n      <th>...</th>\n      <td>...</td>\n      <td>...</td>\n    </tr>\n    <tr>\n      <th>6341</th>\n      <td>Sí, otro tipo de formación (diplomados, especi...</td>\n      <td>1</td>\n    </tr>\n    <tr>\n      <th>6342</th>\n      <td>No</td>\n      <td>0</td>\n    </tr>\n    <tr>\n      <th>6343</th>\n      <td>No</td>\n      <td>0</td>\n    </tr>\n    <tr>\n      <th>6344</th>\n      <td>No</td>\n      <td>0</td>\n    </tr>\n    <tr>\n      <th>6345</th>\n      <td>No</td>\n      <td>0</td>\n    </tr>\n  </tbody>\n</table>\n<p>6346 rows × 2 columns</p>\n</div>"
     },
     "execution_count": 4,
     "metadata": {},
     "output_type": "execute_result"
    }
   ],
   "source": [
    "doc['Formacion en el area'] = 1*(~doc['Formado tecnología e informática'].str.contains(\"No\"))\n",
    "doc[['Formado tecnología e informática', 'Formacion en el area']]"
   ],
   "metadata": {
    "collapsed": false,
    "pycharm": {
     "name": "#%%\n"
    }
   }
  },
  {
   "cell_type": "code",
   "execution_count": 5,
   "outputs": [
    {
     "data": {
      "text/plain": "      Enseña TI  \\\n0             0   \n1             0   \n2             1   \n3             0   \n4             0   \n...         ...   \n6341          0   \n6342          1   \n6343          0   \n6344          0   \n6345          0   \n\n     ¿Cuáles de las siguientes áreas enseña y en qué grado? [Tecnología e informática.]  \n0                                                   NaN                                  \n1                                                   NaN                                  \n2                                                    1°                                  \n3                                                   NaN                                  \n4                                                   NaN                                  \n...                                                 ...                                  \n6341                                                NaN                                  \n6342                                             1°, 2°                                  \n6343                                                NaN                                  \n6344                                                NaN                                  \n6345                                                NaN                                  \n\n[6346 rows x 2 columns]",
      "text/html": "<div>\n<style scoped>\n    .dataframe tbody tr th:only-of-type {\n        vertical-align: middle;\n    }\n\n    .dataframe tbody tr th {\n        vertical-align: top;\n    }\n\n    .dataframe thead th {\n        text-align: right;\n    }\n</style>\n<table border=\"1\" class=\"dataframe\">\n  <thead>\n    <tr style=\"text-align: right;\">\n      <th></th>\n      <th>Enseña TI</th>\n      <th>¿Cuáles de las siguientes áreas enseña y en qué grado? [Tecnología e informática.]</th>\n    </tr>\n  </thead>\n  <tbody>\n    <tr>\n      <th>0</th>\n      <td>0</td>\n      <td>NaN</td>\n    </tr>\n    <tr>\n      <th>1</th>\n      <td>0</td>\n      <td>NaN</td>\n    </tr>\n    <tr>\n      <th>2</th>\n      <td>1</td>\n      <td>1°</td>\n    </tr>\n    <tr>\n      <th>3</th>\n      <td>0</td>\n      <td>NaN</td>\n    </tr>\n    <tr>\n      <th>4</th>\n      <td>0</td>\n      <td>NaN</td>\n    </tr>\n    <tr>\n      <th>...</th>\n      <td>...</td>\n      <td>...</td>\n    </tr>\n    <tr>\n      <th>6341</th>\n      <td>0</td>\n      <td>NaN</td>\n    </tr>\n    <tr>\n      <th>6342</th>\n      <td>1</td>\n      <td>1°, 2°</td>\n    </tr>\n    <tr>\n      <th>6343</th>\n      <td>0</td>\n      <td>NaN</td>\n    </tr>\n    <tr>\n      <th>6344</th>\n      <td>0</td>\n      <td>NaN</td>\n    </tr>\n    <tr>\n      <th>6345</th>\n      <td>0</td>\n      <td>NaN</td>\n    </tr>\n  </tbody>\n</table>\n<p>6346 rows × 2 columns</p>\n</div>"
     },
     "execution_count": 5,
     "metadata": {},
     "output_type": "execute_result"
    }
   ],
   "source": [
    "doc['Enseña TI'] = 1*(~doc['¿Cuáles de las siguientes áreas enseña y en qué grado? [Tecnología e informática.]'].isna())\n",
    "doc[[ 'Enseña TI', '¿Cuáles de las siguientes áreas enseña y en qué grado? [Tecnología e informática.]']]"
   ],
   "metadata": {
    "collapsed": false,
    "pycharm": {
     "name": "#%%\n"
    }
   }
  },
  {
   "cell_type": "code",
   "execution_count": 6,
   "outputs": [
    {
     "data": {
      "text/plain": "      Enseña TI  Formacion en el area  Enseña y tiene formacion\n0             0                     1                         0\n1             0                     1                         0\n2             1                     0                         0\n3             0                     0                         0\n4             0                     1                         0\n...         ...                   ...                       ...\n6341          0                     1                         0\n6342          1                     0                         0\n6343          0                     0                         0\n6344          0                     0                         0\n6345          0                     0                         0\n\n[6346 rows x 3 columns]",
      "text/html": "<div>\n<style scoped>\n    .dataframe tbody tr th:only-of-type {\n        vertical-align: middle;\n    }\n\n    .dataframe tbody tr th {\n        vertical-align: top;\n    }\n\n    .dataframe thead th {\n        text-align: right;\n    }\n</style>\n<table border=\"1\" class=\"dataframe\">\n  <thead>\n    <tr style=\"text-align: right;\">\n      <th></th>\n      <th>Enseña TI</th>\n      <th>Formacion en el area</th>\n      <th>Enseña y tiene formacion</th>\n    </tr>\n  </thead>\n  <tbody>\n    <tr>\n      <th>0</th>\n      <td>0</td>\n      <td>1</td>\n      <td>0</td>\n    </tr>\n    <tr>\n      <th>1</th>\n      <td>0</td>\n      <td>1</td>\n      <td>0</td>\n    </tr>\n    <tr>\n      <th>2</th>\n      <td>1</td>\n      <td>0</td>\n      <td>0</td>\n    </tr>\n    <tr>\n      <th>3</th>\n      <td>0</td>\n      <td>0</td>\n      <td>0</td>\n    </tr>\n    <tr>\n      <th>4</th>\n      <td>0</td>\n      <td>1</td>\n      <td>0</td>\n    </tr>\n    <tr>\n      <th>...</th>\n      <td>...</td>\n      <td>...</td>\n      <td>...</td>\n    </tr>\n    <tr>\n      <th>6341</th>\n      <td>0</td>\n      <td>1</td>\n      <td>0</td>\n    </tr>\n    <tr>\n      <th>6342</th>\n      <td>1</td>\n      <td>0</td>\n      <td>0</td>\n    </tr>\n    <tr>\n      <th>6343</th>\n      <td>0</td>\n      <td>0</td>\n      <td>0</td>\n    </tr>\n    <tr>\n      <th>6344</th>\n      <td>0</td>\n      <td>0</td>\n      <td>0</td>\n    </tr>\n    <tr>\n      <th>6345</th>\n      <td>0</td>\n      <td>0</td>\n      <td>0</td>\n    </tr>\n  </tbody>\n</table>\n<p>6346 rows × 3 columns</p>\n</div>"
     },
     "execution_count": 6,
     "metadata": {},
     "output_type": "execute_result"
    }
   ],
   "source": [
    "doc['Enseña y tiene formacion'] = 1*((doc['Enseña TI'] + doc['Formacion en el area'])==2)\n",
    "doc[['Enseña TI', 'Formacion en el area', 'Enseña y tiene formacion']]"
   ],
   "metadata": {
    "collapsed": false,
    "pycharm": {
     "name": "#%%\n"
    }
   }
  },
  {
   "cell_type": "code",
   "execution_count": 7,
   "outputs": [
    {
     "data": {
      "text/plain": "           Enseña TI  Enseña y tiene formacion  Formacion en el area  ID\nCódigo IE                                                               \n1                  6                         5                    31  46\n2                  3                         2                     7  15\n3                  2                         2                    13  21\n4                  1                         0                     4  12\n5                  8                         8                    44  50\n...              ...                       ...                   ...  ..\n248                3                         0                     1   8\n249                4                         3                    10  18\n250               14                         9                    30  43\n251               13                        11                    32  52\n252                3                         2                    11  22\n\n[246 rows x 4 columns]",
      "text/html": "<div>\n<style scoped>\n    .dataframe tbody tr th:only-of-type {\n        vertical-align: middle;\n    }\n\n    .dataframe tbody tr th {\n        vertical-align: top;\n    }\n\n    .dataframe thead th {\n        text-align: right;\n    }\n</style>\n<table border=\"1\" class=\"dataframe\">\n  <thead>\n    <tr style=\"text-align: right;\">\n      <th></th>\n      <th>Enseña TI</th>\n      <th>Enseña y tiene formacion</th>\n      <th>Formacion en el area</th>\n      <th>ID</th>\n    </tr>\n    <tr>\n      <th>Código IE</th>\n      <th></th>\n      <th></th>\n      <th></th>\n      <th></th>\n    </tr>\n  </thead>\n  <tbody>\n    <tr>\n      <th>1</th>\n      <td>6</td>\n      <td>5</td>\n      <td>31</td>\n      <td>46</td>\n    </tr>\n    <tr>\n      <th>2</th>\n      <td>3</td>\n      <td>2</td>\n      <td>7</td>\n      <td>15</td>\n    </tr>\n    <tr>\n      <th>3</th>\n      <td>2</td>\n      <td>2</td>\n      <td>13</td>\n      <td>21</td>\n    </tr>\n    <tr>\n      <th>4</th>\n      <td>1</td>\n      <td>0</td>\n      <td>4</td>\n      <td>12</td>\n    </tr>\n    <tr>\n      <th>5</th>\n      <td>8</td>\n      <td>8</td>\n      <td>44</td>\n      <td>50</td>\n    </tr>\n    <tr>\n      <th>...</th>\n      <td>...</td>\n      <td>...</td>\n      <td>...</td>\n      <td>...</td>\n    </tr>\n    <tr>\n      <th>248</th>\n      <td>3</td>\n      <td>0</td>\n      <td>1</td>\n      <td>8</td>\n    </tr>\n    <tr>\n      <th>249</th>\n      <td>4</td>\n      <td>3</td>\n      <td>10</td>\n      <td>18</td>\n    </tr>\n    <tr>\n      <th>250</th>\n      <td>14</td>\n      <td>9</td>\n      <td>30</td>\n      <td>43</td>\n    </tr>\n    <tr>\n      <th>251</th>\n      <td>13</td>\n      <td>11</td>\n      <td>32</td>\n      <td>52</td>\n    </tr>\n    <tr>\n      <th>252</th>\n      <td>3</td>\n      <td>2</td>\n      <td>11</td>\n      <td>22</td>\n    </tr>\n  </tbody>\n</table>\n<p>246 rows × 4 columns</p>\n</div>"
     },
     "execution_count": 7,
     "metadata": {},
     "output_type": "execute_result"
    }
   ],
   "source": [
    "doc_D4 = doc.pivot_table(index='Código IE', values=['Enseña TI', 'Formacion en el area', 'Enseña y tiene formacion', 'ID'], aggfunc={'Enseña TI': 'sum','Formacion en el area': 'sum','Enseña y tiene formacion': 'sum', 'ID': 'count'})\n",
    "doc_D4"
   ],
   "metadata": {
    "collapsed": false,
    "pycharm": {
     "name": "#%%\n"
    }
   }
  },
  {
   "cell_type": "code",
   "execution_count": 8,
   "outputs": [],
   "source": [
    "doc_D4['% docentes de informatica que tienen formacion'] = (doc_D4['Enseña y tiene formacion'] / doc_D4[ 'Enseña TI'])*100\n",
    "\n",
    "\n",
    "doc_D4['Nivel docentes'] = pd.cut(doc_D4['% docentes de informatica que tienen formacion'], bins=[0, 20, 60, 100], labels=['1A', \"1B\", '4'], include_lowest=True)\n",
    "doc_D4 = doc_D4.reset_index()"
   ],
   "metadata": {
    "collapsed": false,
    "pycharm": {
     "name": "#%%\n"
    }
   }
  },
  {
   "cell_type": "code",
   "execution_count": 9,
   "outputs": [
    {
     "data": {
      "text/plain": "     Código IE Nivel docentes\n0            1              4\n1            2              4\n2            3              4\n3            4             1A\n4            5              4\n..         ...            ...\n241        248             1A\n242        249              4\n243        250              4\n244        251              4\n245        252              4\n\n[233 rows x 2 columns]",
      "text/html": "<div>\n<style scoped>\n    .dataframe tbody tr th:only-of-type {\n        vertical-align: middle;\n    }\n\n    .dataframe tbody tr th {\n        vertical-align: top;\n    }\n\n    .dataframe thead th {\n        text-align: right;\n    }\n</style>\n<table border=\"1\" class=\"dataframe\">\n  <thead>\n    <tr style=\"text-align: right;\">\n      <th></th>\n      <th>Código IE</th>\n      <th>Nivel docentes</th>\n    </tr>\n  </thead>\n  <tbody>\n    <tr>\n      <th>0</th>\n      <td>1</td>\n      <td>4</td>\n    </tr>\n    <tr>\n      <th>1</th>\n      <td>2</td>\n      <td>4</td>\n    </tr>\n    <tr>\n      <th>2</th>\n      <td>3</td>\n      <td>4</td>\n    </tr>\n    <tr>\n      <th>3</th>\n      <td>4</td>\n      <td>1A</td>\n    </tr>\n    <tr>\n      <th>4</th>\n      <td>5</td>\n      <td>4</td>\n    </tr>\n    <tr>\n      <th>...</th>\n      <td>...</td>\n      <td>...</td>\n    </tr>\n    <tr>\n      <th>241</th>\n      <td>248</td>\n      <td>1A</td>\n    </tr>\n    <tr>\n      <th>242</th>\n      <td>249</td>\n      <td>4</td>\n    </tr>\n    <tr>\n      <th>243</th>\n      <td>250</td>\n      <td>4</td>\n    </tr>\n    <tr>\n      <th>244</th>\n      <td>251</td>\n      <td>4</td>\n    </tr>\n    <tr>\n      <th>245</th>\n      <td>252</td>\n      <td>4</td>\n    </tr>\n  </tbody>\n</table>\n<p>233 rows × 2 columns</p>\n</div>"
     },
     "execution_count": 9,
     "metadata": {},
     "output_type": "execute_result"
    }
   ],
   "source": [
    "df_institucion = doc_D4.loc[~doc_D4['Nivel docentes'].isna(),['Código IE', 'Nivel docentes']]\n",
    "df_institucion"
   ],
   "metadata": {
    "collapsed": false,
    "pycharm": {
     "name": "#%%\n"
    }
   }
  },
  {
   "cell_type": "markdown",
   "source": [
    "#### Lista chequeo lider"
   ],
   "metadata": {
    "collapsed": false,
    "pycharm": {
     "name": "#%% md\n"
    }
   }
  },
  {
   "cell_type": "code",
   "source": [
    "lid = pd.read_excel(ruta_git/'data/descargables/LiderCFK.xlsx', index_col=0)\n",
    "print(lid.shape)\n",
    "print(lid.columns)\n"
   ],
   "metadata": {
    "collapsed": false,
    "pycharm": {
     "name": "#%%\n"
    }
   },
   "execution_count": 16,
   "outputs": [
    {
     "name": "stdout",
     "output_type": "stream",
     "text": [
      "(245, 52)\n",
      "Index(['N registro', 'Fecha', 'Instrumento', 'ID', 'Código IE',\n",
      "       '1.1 Los docentes encargados del área son los responsables de definir lo que se enseña',\n",
      "       '1.2 El plan de estudios del área cuenta con mejoras realizadas por los docentes de la IE gracias a espacios colaborativos',\n",
      "       '1.3 El plan de estudio incluye actividades básicas de ofimática y/o alfabetización digital, programación y/o desarrollo del pensamiento computacional.',\n",
      "       '1.4 En el plan de estudio se da mayor relevancia al pensamiento computacional',\n",
      "       '1.5 El plan de estudio del área promueve la transición desde la alfabetización digital a las ciencias de la computación',\n",
      "       '1.6 El plan de estudios del área comprende el pensamiento computacional y su impacto dentro del proceso enseñanza-aprendizaje',\n",
      "       '1.7 El plan de estudios del área es coherente con la transición de un grado a otro y permite al estudiante desarrollar conocimientos, habilidades y comprensión del pensamiento computacional',\n",
      "       '1.8 El plan de estudios del área incluye trabajo práctico para el desarrollo del pensamiento computacional.',\n",
      "       '1.9 El plan de estudio del área cuenta con espacios de socialización a los estudiantes de personas que trabajan en ocupaciones relacionadas al área STEM',\n",
      "       '1.10 El plan de estudio de las asignaturas No-STEM integran eficientemente los aprendizajes adquiridos por sus estudiantes sobre pensamiento computacional',\n",
      "       '1.11 La visión institucional menciona el impacto y lugar de la enseñanza del desarrollo del pensamiento computacional dentro del plan de estudios.',\n",
      "       'Comentarios P1',\n",
      "       '2.1 La IE identifica a los estudiantes que cuentan con necesidades educativas especiales',\n",
      "       '2.2 La IE implementa algunas acciones para brindar apoyo a los estudiantes con necesidades educativas especiales en su participación en el área',\n",
      "       '2.3 La IE establece un plan para la atención de estudiantes con necesidades educativas especiales para su participación en actividades asociadas al pensamiento computacional',\n",
      "       '2.4 La IE promueve la participación de personas con necesidades educativas especiales en actividades extracurricules para garantiza la inclusión y participación en áreas STEM',\n",
      "       '2.5 La IE genera estrategias que visibilizan modelos a seguir en carreras en áreas STEM en estudiantes con necesidades educativas especiales',\n",
      "       '2.6 Los docentes del área que incluyen pensamiento computacional y/o ciencias de la computación muestran la asignatura como accesible para todos(as)',\n",
      "       '2.7 La IE promueve al trabajo conjunto entre los docente y profesionales externos para impulsar prácticas inclusivas en la enseñanza de la computación y/o pensamiento computacional',\n",
      "       '2.8 El plan de estudio considera aspectos para la inclusión de estudiantes con trastornos de aprendizaje y/o discapacidad',\n",
      "       '2.9 El plan de estudios del área incluye acciones de apoyo y adecuaciones a los materiales educativos articuladas con las estrategias de atención de estudiantes con necesidades educativas especiales',\n",
      "       '2.10  El plan de estudios del área y los recursos educativos se revisan con apoyo de personal experto en la atención a estudiantes con necesidades educativas especiales',\n",
      "       '2.11 El plan de estudios del área hace explícita la pedagogía a utilizar que incluye adaptaciones para estudiantes con necesidades educativas especiales',\n",
      "       'Comentarios P2',\n",
      "       '3.1 La IE hace seguimiento de las diferencias de género en los resultados y el desempeño académico de niños y niñas en áreas STEM',\n",
      "       '3.2 La IE crea espacios de reflexión sobre las causas y orígenes de las diferencias entre niños y niñas',\n",
      "       '3.3 La IE realiza iniciativas cívicas y campañas comunicativas con estudiantes para visibilizar las diferencias de género en áreas STEM',\n",
      "       '3.4 La IE toma acciones concretas para disminuir la diferencias de resultados entre niños y niñas Por ejemplo: organizar competencias diferenciadas entre niños y niñas en áreas STEM',\n",
      "       '3.5 La IE tiene alianzas con entidades externas que promuevan la equidad género en las áreas STEM',\n",
      "       '3.6 La institución posee una propuesta estructurada donde garantiza que los niños y niñas continúen su trayectoria de formación educativa en pensamiento computacional y/o ciencias de la computación.',\n",
      "       '3.7 El plan de estudios del área promueve en niños y niñas el desarrollo de sus conocimientos, habilidades y actitudes',\n",
      "       '3.8 El plan de estudio del área cuentan con una estructura clara que permite disminuir las diferencias en el desempeño de niños y niñas',\n",
      "       '3.9 El plan de estudio del área se encuentran en constante revisión e incorporan nuevas estrategias para promover la igualdad en el desempeño de niños y niñas',\n",
      "       '3.10 El plan de estudio considera aspectos para disminuir las diferencias entre niños y niñas y la inclusión de estudiantes con trastornos de aprendizaje y/o discapacidad',\n",
      "       'Comentarios P3',\n",
      "       '4.1 La IE tiene en cuenta el plan de estudios para determinar las actividades de desarrollo profesional',\n",
      "       '4.2 La IE identifica las necesidades de los docentes para determinar actividades de desarrollo profesional',\n",
      "       '4.3 La IE cuenta con espacios de discusión y planeación para actividades de desarrollo profesional',\n",
      "       '4.4 La IE capacita a los docentes en temas de equidad de género y apoya la implementación de acciones afirmativas en el aula de clases',\n",
      "       '4.5 La IE lleva un registro formal de las necesidades y participación de los docentes en actividades de desarrollo profesional',\n",
      "       '4.6 Los docentes de otras áreas se interesan por el área de tecnología e informática y la integran a su enseñanza',\n",
      "       '4.7 La IE incentiva el trabajo coordinado entre los/las responsables del área',\n",
      "       '4.8 La IE tiene en cuenta los conocimientos del personal docente para enriquecer la visión institucional sobre la enseñanza de la computación y potenciar la comprensión de las/los estudiantes y desarrollo',\n",
      "       '4.9 La IE promueve al trabajo conjunto entre los docente y profesionales líderes externos para impulsar prácticas inclusivas en la enseñanza de la computación y/o pensamiento computacional',\n",
      "       '4.10 El Consejo Directivo del colegio está al tanto de que en la institución se está enseñando ciencias de la computación, y se encuentran involucrados en el proceso.',\n",
      "       '4.11 Las directivas y el Consejo Directivo participan y evalúan la implementación de sistemas eficientes del plan de estudios del área.]',\n",
      "       'Comentarios P4'],\n",
      "      dtype='object')\n"
     ]
    }
   ]
  },
  {
   "cell_type": "code",
   "execution_count": 17,
   "outputs": [
    {
     "data": {
      "text/plain": "array(['Sí', 'No', 'No aplica'], dtype=object)"
     },
     "execution_count": 17,
     "metadata": {},
     "output_type": "execute_result"
    }
   ],
   "source": [
    "lid['4.1 La IE tiene en cuenta el plan de estudios para determinar las actividades de desarrollo profesional'].unique()"
   ],
   "metadata": {
    "collapsed": false,
    "pycharm": {
     "name": "#%%\n"
    }
   }
  },
  {
   "cell_type": "code",
   "execution_count": 18,
   "outputs": [],
   "source": [
    "cols_lid_d4 = {\n",
    "                  '4.1 La IE tiene en cuenta el plan de estudios para determinar las actividades de desarrollo profesional':\n",
    "                      { \"No\":\"2A\", \"No aplica\": \"2A\", \"Sí\": \"4\"},\n",
    "                  '4.2 La IE identifica las necesidades de los docentes para determinar actividades de desarrollo profesional':\n",
    "                      {\"No\":\"2B\", \"No aplica\": \"2B\", \"Sí\": \"4\"},\n",
    "                  '4.3 La IE cuenta con espacios de discusión y planeación para actividades de desarrollo profesional':\n",
    "                      {\"No\":\"2A\", \"No aplica\": \"2A\", \"Sí\": \"4\"},\n",
    "                  '4.5 La IE lleva un registro formal de las necesidades y participación de los docentes en actividades de desarrollo profesional':\n",
    "                      {\"No\":\"2A\", \"No aplica\": \"2A\", \"Sí\": \"4\"}}"
   ],
   "metadata": {
    "collapsed": false,
    "pycharm": {
     "name": "#%%\n"
    }
   }
  },
  {
   "cell_type": "code",
   "execution_count": 19,
   "outputs": [
    {
     "data": {
      "text/plain": "13     3\n218    2\n164    2\n43     2\n46     2\n      ..\n181    1\n178    1\n217    1\n188    1\n236    1\nName: Código IE, Length: 228, dtype: int64"
     },
     "execution_count": 19,
     "metadata": {},
     "output_type": "execute_result"
    }
   ],
   "source": [
    "lid['Código IE'].value_counts()"
   ],
   "metadata": {
    "collapsed": false,
    "pycharm": {
     "name": "#%%\n"
    }
   }
  },
  {
   "cell_type": "code",
   "execution_count": 20,
   "outputs": [
    {
     "data": {
      "text/plain": "    N registro  Fecha       Instrumento  ID  Código IE  \\\n12          12  19/04  Encuesta Líderes  12        166   \n15          15  19/04  Encuesta Líderes  15        166   \n\n   1.1 Los docentes encargados del área son los responsables de definir lo que se enseña  \\\n12                                                 Sí                                      \n15                                                 Sí                                      \n\n   1.2 El plan de estudios del área cuenta con mejoras realizadas por los docentes de la IE gracias a espacios colaborativos  \\\n12                                                 Sí                                                                          \n15                                                 Sí                                                                          \n\n   1.3 El plan de estudio incluye actividades básicas de ofimática y/o alfabetización digital, programación y/o desarrollo del pensamiento computacional.  \\\n12                                                 Sí                                                                                                       \n15                                                 Sí                                                                                                       \n\n   1.4 En el plan de estudio se da mayor relevancia al pensamiento computacional  \\\n12                                                 Sí                              \n15                                                 Sí                              \n\n   1.5 El plan de estudio del área promueve la transición desde la alfabetización digital a las ciencias de la computación  \\\n12                                                 Sí                                                                        \n15                                                 Sí                                                                        \n\n    ...  \\\n12  ...   \n15  ...   \n\n   4.3 La IE cuenta con espacios de discusión y planeación para actividades de desarrollo profesional  \\\n12                                                 Sí                                                   \n15                                                 Sí                                                   \n\n   4.4 La IE capacita a los docentes en temas de equidad de género y apoya la implementación de acciones afirmativas en el aula de clases  \\\n12                                                 No                                                                                       \n15                                                 Sí                                                                                       \n\n   4.5 La IE lleva un registro formal de las necesidades y participación de los docentes en actividades de desarrollo profesional  \\\n12                                          No aplica                                                                               \n15                                                 Sí                                                                               \n\n   4.6 Los docentes de otras áreas se interesan por el área de tecnología e informática y la integran a su enseñanza  \\\n12                                                 Sí                                                                  \n15                                                 No                                                                  \n\n   4.7 La IE incentiva el trabajo coordinado entre los/las responsables del área  \\\n12                                                 Sí                              \n15                                                 Sí                              \n\n   4.8 La IE tiene en cuenta los conocimientos del personal docente para enriquecer la visión institucional sobre la enseñanza de la computación y potenciar la comprensión de las/los estudiantes y desarrollo  \\\n12                                                 Sí                                                                                                                                                             \n15                                                 Sí                                                                                                                                                             \n\n   4.9 La IE promueve al trabajo conjunto entre los docente y profesionales líderes externos para impulsar prácticas inclusivas en la enseñanza de la computación y/o pensamiento computacional  \\\n12                                                 No                                                                                                                                             \n15                                                 Sí                                                                                                                                             \n\n   4.10 El Consejo Directivo del colegio está al tanto de que en la institución se está enseñando ciencias de la computación, y se encuentran involucrados en el proceso.  \\\n12                                                 Sí                                                                                                                       \n15                                                 No                                                                                                                       \n\n   4.11 Las directivas y el Consejo Directivo participan y evalúan la implementación de sistemas eficientes del plan de estudios del área.]  \\\n12                                                 No                                                                                         \n15                                                 Sí                                                                                         \n\n   Comentarios P4  \n12            NaN  \n15            NaN  \n\n[2 rows x 52 columns]",
      "text/html": "<div>\n<style scoped>\n    .dataframe tbody tr th:only-of-type {\n        vertical-align: middle;\n    }\n\n    .dataframe tbody tr th {\n        vertical-align: top;\n    }\n\n    .dataframe thead th {\n        text-align: right;\n    }\n</style>\n<table border=\"1\" class=\"dataframe\">\n  <thead>\n    <tr style=\"text-align: right;\">\n      <th></th>\n      <th>N registro</th>\n      <th>Fecha</th>\n      <th>Instrumento</th>\n      <th>ID</th>\n      <th>Código IE</th>\n      <th>1.1 Los docentes encargados del área son los responsables de definir lo que se enseña</th>\n      <th>1.2 El plan de estudios del área cuenta con mejoras realizadas por los docentes de la IE gracias a espacios colaborativos</th>\n      <th>1.3 El plan de estudio incluye actividades básicas de ofimática y/o alfabetización digital, programación y/o desarrollo del pensamiento computacional.</th>\n      <th>1.4 En el plan de estudio se da mayor relevancia al pensamiento computacional</th>\n      <th>1.5 El plan de estudio del área promueve la transición desde la alfabetización digital a las ciencias de la computación</th>\n      <th>...</th>\n      <th>4.3 La IE cuenta con espacios de discusión y planeación para actividades de desarrollo profesional</th>\n      <th>4.4 La IE capacita a los docentes en temas de equidad de género y apoya la implementación de acciones afirmativas en el aula de clases</th>\n      <th>4.5 La IE lleva un registro formal de las necesidades y participación de los docentes en actividades de desarrollo profesional</th>\n      <th>4.6 Los docentes de otras áreas se interesan por el área de tecnología e informática y la integran a su enseñanza</th>\n      <th>4.7 La IE incentiva el trabajo coordinado entre los/las responsables del área</th>\n      <th>4.8 La IE tiene en cuenta los conocimientos del personal docente para enriquecer la visión institucional sobre la enseñanza de la computación y potenciar la comprensión de las/los estudiantes y desarrollo</th>\n      <th>4.9 La IE promueve al trabajo conjunto entre los docente y profesionales líderes externos para impulsar prácticas inclusivas en la enseñanza de la computación y/o pensamiento computacional</th>\n      <th>4.10 El Consejo Directivo del colegio está al tanto de que en la institución se está enseñando ciencias de la computación, y se encuentran involucrados en el proceso.</th>\n      <th>4.11 Las directivas y el Consejo Directivo participan y evalúan la implementación de sistemas eficientes del plan de estudios del área.]</th>\n      <th>Comentarios P4</th>\n    </tr>\n  </thead>\n  <tbody>\n    <tr>\n      <th>12</th>\n      <td>12</td>\n      <td>19/04</td>\n      <td>Encuesta Líderes</td>\n      <td>12</td>\n      <td>166</td>\n      <td>Sí</td>\n      <td>Sí</td>\n      <td>Sí</td>\n      <td>Sí</td>\n      <td>Sí</td>\n      <td>...</td>\n      <td>Sí</td>\n      <td>No</td>\n      <td>No aplica</td>\n      <td>Sí</td>\n      <td>Sí</td>\n      <td>Sí</td>\n      <td>No</td>\n      <td>Sí</td>\n      <td>No</td>\n      <td>NaN</td>\n    </tr>\n    <tr>\n      <th>15</th>\n      <td>15</td>\n      <td>19/04</td>\n      <td>Encuesta Líderes</td>\n      <td>15</td>\n      <td>166</td>\n      <td>Sí</td>\n      <td>Sí</td>\n      <td>Sí</td>\n      <td>Sí</td>\n      <td>Sí</td>\n      <td>...</td>\n      <td>Sí</td>\n      <td>Sí</td>\n      <td>Sí</td>\n      <td>No</td>\n      <td>Sí</td>\n      <td>Sí</td>\n      <td>Sí</td>\n      <td>No</td>\n      <td>Sí</td>\n      <td>NaN</td>\n    </tr>\n  </tbody>\n</table>\n<p>2 rows × 52 columns</p>\n</div>"
     },
     "execution_count": 20,
     "metadata": {},
     "output_type": "execute_result"
    }
   ],
   "source": [
    "lid[lid['Código IE']==166]"
   ],
   "metadata": {
    "collapsed": false,
    "pycharm": {
     "name": "#%%\n"
    }
   }
  },
  {
   "cell_type": "code",
   "execution_count": 21,
   "outputs": [
    {
     "data": {
      "text/plain": "     Código IE  \\\n0            1   \n1            2   \n2            3   \n3            4   \n4            5   \n..         ...   \n223        248   \n224        249   \n225        250   \n226        251   \n227        252   \n\n    4.1 La IE tiene en cuenta el plan de estudios para determinar las actividades de desarrollo profesional  \\\n0                                                    4                                                        \n1                                                    4                                                        \n2                                                    4                                                        \n3                                                   2A                                                        \n4                                                    4                                                        \n..                                                 ...                                                        \n223                                                 2A                                                        \n224                                                  4                                                        \n225                                                 2A                                                        \n226                                                  4                                                        \n227                                                  4                                                        \n\n    4.2 La IE identifica las necesidades de los docentes para determinar actividades de desarrollo profesional  \\\n0                                                   2B                                                           \n1                                                    4                                                           \n2                                                    4                                                           \n3                                                   2B                                                           \n4                                                    4                                                           \n..                                                 ...                                                           \n223                                                  4                                                           \n224                                                  4                                                           \n225                                                 2B                                                           \n226                                                  4                                                           \n227                                                  4                                                           \n\n    4.3 La IE cuenta con espacios de discusión y planeación para actividades de desarrollo profesional  \\\n0                                                    4                                                   \n1                                                    4                                                   \n2                                                    4                                                   \n3                                                   2A                                                   \n4                                                    4                                                   \n..                                                 ...                                                   \n223                                                  4                                                   \n224                                                  4                                                   \n225                                                 2A                                                   \n226                                                  4                                                   \n227                                                  4                                                   \n\n    4.5 La IE lleva un registro formal de las necesidades y participación de los docentes en actividades de desarrollo profesional  \n0                                                    4                                                                              \n1                                                   2A                                                                              \n2                                                    4                                                                              \n3                                                   2A                                                                              \n4                                                    4                                                                              \n..                                                 ...                                                                              \n223                                                  4                                                                              \n224                                                  4                                                                              \n225                                                 2A                                                                              \n226                                                  4                                                                              \n227                                                  4                                                                              \n\n[228 rows x 5 columns]",
      "text/html": "<div>\n<style scoped>\n    .dataframe tbody tr th:only-of-type {\n        vertical-align: middle;\n    }\n\n    .dataframe tbody tr th {\n        vertical-align: top;\n    }\n\n    .dataframe thead th {\n        text-align: right;\n    }\n</style>\n<table border=\"1\" class=\"dataframe\">\n  <thead>\n    <tr style=\"text-align: right;\">\n      <th></th>\n      <th>Código IE</th>\n      <th>4.1 La IE tiene en cuenta el plan de estudios para determinar las actividades de desarrollo profesional</th>\n      <th>4.2 La IE identifica las necesidades de los docentes para determinar actividades de desarrollo profesional</th>\n      <th>4.3 La IE cuenta con espacios de discusión y planeación para actividades de desarrollo profesional</th>\n      <th>4.5 La IE lleva un registro formal de las necesidades y participación de los docentes en actividades de desarrollo profesional</th>\n    </tr>\n  </thead>\n  <tbody>\n    <tr>\n      <th>0</th>\n      <td>1</td>\n      <td>4</td>\n      <td>2B</td>\n      <td>4</td>\n      <td>4</td>\n    </tr>\n    <tr>\n      <th>1</th>\n      <td>2</td>\n      <td>4</td>\n      <td>4</td>\n      <td>4</td>\n      <td>2A</td>\n    </tr>\n    <tr>\n      <th>2</th>\n      <td>3</td>\n      <td>4</td>\n      <td>4</td>\n      <td>4</td>\n      <td>4</td>\n    </tr>\n    <tr>\n      <th>3</th>\n      <td>4</td>\n      <td>2A</td>\n      <td>2B</td>\n      <td>2A</td>\n      <td>2A</td>\n    </tr>\n    <tr>\n      <th>4</th>\n      <td>5</td>\n      <td>4</td>\n      <td>4</td>\n      <td>4</td>\n      <td>4</td>\n    </tr>\n    <tr>\n      <th>...</th>\n      <td>...</td>\n      <td>...</td>\n      <td>...</td>\n      <td>...</td>\n      <td>...</td>\n    </tr>\n    <tr>\n      <th>223</th>\n      <td>248</td>\n      <td>2A</td>\n      <td>4</td>\n      <td>4</td>\n      <td>4</td>\n    </tr>\n    <tr>\n      <th>224</th>\n      <td>249</td>\n      <td>4</td>\n      <td>4</td>\n      <td>4</td>\n      <td>4</td>\n    </tr>\n    <tr>\n      <th>225</th>\n      <td>250</td>\n      <td>2A</td>\n      <td>2B</td>\n      <td>2A</td>\n      <td>2A</td>\n    </tr>\n    <tr>\n      <th>226</th>\n      <td>251</td>\n      <td>4</td>\n      <td>4</td>\n      <td>4</td>\n      <td>4</td>\n    </tr>\n    <tr>\n      <th>227</th>\n      <td>252</td>\n      <td>4</td>\n      <td>4</td>\n      <td>4</td>\n      <td>4</td>\n    </tr>\n  </tbody>\n</table>\n<p>228 rows × 5 columns</p>\n</div>"
     },
     "execution_count": 21,
     "metadata": {},
     "output_type": "execute_result"
    }
   ],
   "source": [
    "lid_D4 = lid[['Código IE']+list(cols_lid_d4.keys())]\n",
    "lid_D4 = lid_D4.replace(cols_lid_d4)\n",
    "lid_D4 = lid_D4.groupby('Código IE').max().reset_index()\n",
    "lid_D4"
   ],
   "metadata": {
    "collapsed": false,
    "pycharm": {
     "name": "#%%\n"
    }
   }
  },
  {
   "cell_type": "code",
   "execution_count": 22,
   "outputs": [
    {
     "data": {
      "text/plain": "     Código IE Nivel docentes  \\\n0            1              4   \n1            2              4   \n2            3              4   \n3            4             1A   \n4            5              4   \n..         ...            ...   \n211        248             1A   \n212        249              4   \n213        250              4   \n214        251              4   \n215        252              4   \n\n    4.1 La IE tiene en cuenta el plan de estudios para determinar las actividades de desarrollo profesional  \\\n0                                                    4                                                        \n1                                                    4                                                        \n2                                                    4                                                        \n3                                                   2A                                                        \n4                                                    4                                                        \n..                                                 ...                                                        \n211                                                 2A                                                        \n212                                                  4                                                        \n213                                                 2A                                                        \n214                                                  4                                                        \n215                                                  4                                                        \n\n    4.2 La IE identifica las necesidades de los docentes para determinar actividades de desarrollo profesional  \\\n0                                                   2B                                                           \n1                                                    4                                                           \n2                                                    4                                                           \n3                                                   2B                                                           \n4                                                    4                                                           \n..                                                 ...                                                           \n211                                                  4                                                           \n212                                                  4                                                           \n213                                                 2B                                                           \n214                                                  4                                                           \n215                                                  4                                                           \n\n    4.3 La IE cuenta con espacios de discusión y planeación para actividades de desarrollo profesional  \\\n0                                                    4                                                   \n1                                                    4                                                   \n2                                                    4                                                   \n3                                                   2A                                                   \n4                                                    4                                                   \n..                                                 ...                                                   \n211                                                  4                                                   \n212                                                  4                                                   \n213                                                 2A                                                   \n214                                                  4                                                   \n215                                                  4                                                   \n\n    4.5 La IE lleva un registro formal de las necesidades y participación de los docentes en actividades de desarrollo profesional  \n0                                                    4                                                                              \n1                                                   2A                                                                              \n2                                                    4                                                                              \n3                                                   2A                                                                              \n4                                                    4                                                                              \n..                                                 ...                                                                              \n211                                                  4                                                                              \n212                                                  4                                                                              \n213                                                 2A                                                                              \n214                                                  4                                                                              \n215                                                  4                                                                              \n\n[216 rows x 6 columns]",
      "text/html": "<div>\n<style scoped>\n    .dataframe tbody tr th:only-of-type {\n        vertical-align: middle;\n    }\n\n    .dataframe tbody tr th {\n        vertical-align: top;\n    }\n\n    .dataframe thead th {\n        text-align: right;\n    }\n</style>\n<table border=\"1\" class=\"dataframe\">\n  <thead>\n    <tr style=\"text-align: right;\">\n      <th></th>\n      <th>Código IE</th>\n      <th>Nivel docentes</th>\n      <th>4.1 La IE tiene en cuenta el plan de estudios para determinar las actividades de desarrollo profesional</th>\n      <th>4.2 La IE identifica las necesidades de los docentes para determinar actividades de desarrollo profesional</th>\n      <th>4.3 La IE cuenta con espacios de discusión y planeación para actividades de desarrollo profesional</th>\n      <th>4.5 La IE lleva un registro formal de las necesidades y participación de los docentes en actividades de desarrollo profesional</th>\n    </tr>\n  </thead>\n  <tbody>\n    <tr>\n      <th>0</th>\n      <td>1</td>\n      <td>4</td>\n      <td>4</td>\n      <td>2B</td>\n      <td>4</td>\n      <td>4</td>\n    </tr>\n    <tr>\n      <th>1</th>\n      <td>2</td>\n      <td>4</td>\n      <td>4</td>\n      <td>4</td>\n      <td>4</td>\n      <td>2A</td>\n    </tr>\n    <tr>\n      <th>2</th>\n      <td>3</td>\n      <td>4</td>\n      <td>4</td>\n      <td>4</td>\n      <td>4</td>\n      <td>4</td>\n    </tr>\n    <tr>\n      <th>3</th>\n      <td>4</td>\n      <td>1A</td>\n      <td>2A</td>\n      <td>2B</td>\n      <td>2A</td>\n      <td>2A</td>\n    </tr>\n    <tr>\n      <th>4</th>\n      <td>5</td>\n      <td>4</td>\n      <td>4</td>\n      <td>4</td>\n      <td>4</td>\n      <td>4</td>\n    </tr>\n    <tr>\n      <th>...</th>\n      <td>...</td>\n      <td>...</td>\n      <td>...</td>\n      <td>...</td>\n      <td>...</td>\n      <td>...</td>\n    </tr>\n    <tr>\n      <th>211</th>\n      <td>248</td>\n      <td>1A</td>\n      <td>2A</td>\n      <td>4</td>\n      <td>4</td>\n      <td>4</td>\n    </tr>\n    <tr>\n      <th>212</th>\n      <td>249</td>\n      <td>4</td>\n      <td>4</td>\n      <td>4</td>\n      <td>4</td>\n      <td>4</td>\n    </tr>\n    <tr>\n      <th>213</th>\n      <td>250</td>\n      <td>4</td>\n      <td>2A</td>\n      <td>2B</td>\n      <td>2A</td>\n      <td>2A</td>\n    </tr>\n    <tr>\n      <th>214</th>\n      <td>251</td>\n      <td>4</td>\n      <td>4</td>\n      <td>4</td>\n      <td>4</td>\n      <td>4</td>\n    </tr>\n    <tr>\n      <th>215</th>\n      <td>252</td>\n      <td>4</td>\n      <td>4</td>\n      <td>4</td>\n      <td>4</td>\n      <td>4</td>\n    </tr>\n  </tbody>\n</table>\n<p>216 rows × 6 columns</p>\n</div>"
     },
     "execution_count": 22,
     "metadata": {},
     "output_type": "execute_result"
    }
   ],
   "source": [
    "df_institucion = pd.merge(df_institucion, lid_D4, on='Código IE', how='inner')\n",
    "df_institucion"
   ],
   "metadata": {
    "collapsed": false,
    "pycharm": {
     "name": "#%%\n"
    }
   }
  },
  {
   "cell_type": "markdown",
   "source": [
    "#### Directivos"
   ],
   "metadata": {
    "collapsed": false,
    "pycharm": {
     "name": "#%% md\n"
    }
   }
  },
  {
   "cell_type": "code",
   "execution_count": 24,
   "outputs": [],
   "source": [
    "dir = pd.read_excel(ruta_git/'data/descargables/DirectivosCFK.xlsx')\n"
   ],
   "metadata": {
    "collapsed": false,
    "pycharm": {
     "name": "#%%\n"
    }
   }
  },
  {
   "cell_type": "code",
   "execution_count": 25,
   "outputs": [
    {
     "data": {
      "text/plain": "     N registro          Instrumento  Fecha Política de datos        ID  Edad  \\\n0             3  Encuesta Directivos  18/04                Sí  93410609    43   \n1             4  Encuesta Directivos  18/04                Sí   5933717    66   \n2             5  Encuesta Directivos  18/04                Sí  60311721    56   \n3             6  Encuesta Directivos  18/04                Sí  98525547    52   \n4             7  Encuesta Directivos  18/04                Sí  14244219    59   \n..          ...                  ...    ...               ...       ...   ...   \n529         628  Encuesta Directivos  25/05                Sí  38670079    48   \n530         629  Encuesta Directivos  25/05                Sí   9093940    67   \n531         630  Encuesta Directivos  25/05                Sí   9083130    69   \n532         631  Encuesta Directivos  25/05                Sí  79825576    43   \n533         632  Encuesta Directivos  25/05                Sí   8532932    54   \n\n          Sexo Cabeza de hogar               Estado civil Líder comunitario  \\\n0    Masculino              Sí  Casado/a - En unión libre                No   \n1    Masculino              Sí  Casado/a - En unión libre                Sí   \n2     Femenino              Sí                  Soltero/a                Sí   \n3    Masculino              Sí  Casado/a - En unión libre                No   \n4    Masculino              Sí  Casado/a - En unión libre                No   \n..         ...             ...                        ...               ...   \n529   Femenino              No  Casado/a - En unión libre                No   \n530  Masculino              No  Casado/a - En unión libre                No   \n531  Masculino              No  Casado/a - En unión libre                No   \n532  Masculino              Sí  Casado/a - En unión libre                Sí   \n533  Masculino              Sí  Casado/a - En unión libre                Sí   \n\n     ...  \\\n0    ...   \n1    ...   \n2    ...   \n3    ...   \n4    ...   \n..   ...   \n529  ...   \n530  ...   \n531  ...   \n532  ...   \n533  ...   \n\n    1.10 Conozco y puedo recomendar a mis estudiantes diferentes programas de formación relacionadas al pensamiento computacional y/o ciencias de la computación  \\\n0                                                   No                                                                                                             \n1                                                   Sí                                                                                                             \n2                                                   Sí                                                                                                             \n3                                                   Sí                                                                                                             \n4                                                   No                                                                                                             \n..                                                 ...                                                                                                             \n529                                                 No                                                                                                             \n530                                                 Sí                                                                                                             \n531                                                 No                                                                                                             \n532                                                 Sí                                                                                                             \n533                                                 No                                                                                                             \n\n    1.11 Los estudiantes reciben asesoría vocacional sobre alternativas u oportunidades relacionadas a carreras STEM  \\\n0                                                   No                                                                 \n1                                                   No                                                                 \n2                                                   Sí                                                                 \n3                                                   No                                                                 \n4                                                   Sí                                                                 \n..                                                 ...                                                                 \n529                                                 Sí                                                                 \n530                                                 Sí                                                                 \n531                                                 Sí                                                                 \n532                                                 Sí                                                                 \n533                                                 No                                                                 \n\n    1.12 Informo a mis estudiantes sobre oportunidades que existen para continuar los estudios en áreas relacionadas al pensamiento computacional y/o ciencias de la computación  \\\n0                                                   No                                                                                                                             \n1                                                   Sí                                                                                                                             \n2                                                   Sí                                                                                                                             \n3                                                   Sí                                                                                                                             \n4                                                   No                                                                                                                             \n..                                                 ...                                                                                                                             \n529                                                 Sí                                                                                                                             \n530                                                 Sí                                                                                                                             \n531                                                 Sí                                                                                                                             \n532                                                 Sí                                                                                                                             \n533                                                 No                                                                                                                             \n\n                           Comentarios autodiagnóstico  \\\n0    Hay ítems que no se hacen porque desconozco la...   \n1                       Es interesante abordar el yema   \n2    Hay compromisos con la media tecnica y con ñro...   \n3    Es necesario cualificar el acompañamiento a lo...   \n4                                              Ninguno   \n..                                                 ...   \n529                                                NaN   \n530                                                NaN   \n531                                                NaN   \n532                                                NaN   \n533  El pensamiento computacional es vital para los...   \n\n     Actividades que se promueven en esta institución educativa para apoyar la formación docente enfocadas en pensamiento computacional  \\\n0                                  Observación de aula                                                                                    \n1                                  Observación de aula                                                                                    \n2                        Observación de aula, Mentoría                                                                                    \n3                                 Investigación-Acción                                                                                    \n4                                          Autoestudio                                                                                    \n..                                                 ...                                                                                    \n529                          Ninguna de las anteriores                                                                                    \n530  Observación de aula, Autoestudio, Investigació...                                                                                    \n531                                        Autoestudio                                                                                    \n532                          Ninguna de las anteriores                                                                                    \n533                                Observación de aula                                                                                    \n\n     ¿La rotación de los docentes de tecnología e informática influye sobre la calidad y el aprendizaje del área de los estudiantes en los diferentes grados?  \\\n0                                         Casi siempre                                                                                                          \n1                                                Nunca                                                                                                          \n2                                              A veces                                                                                                          \n3                                         Casi siempre                                                                                                          \n4                                           Casi nunca                                                                                                          \n..                                                 ...                                                                                                          \n529                                              Nunca                                                                                                          \n530                                            A veces                                                                                                          \n531                                         Casi nunca                                                                                                          \n532                                            Siempre                                                                                                          \n533                                            Siempre                                                                                                          \n\n     Código IE            Tipo de ID  Número de estudiantes matriculados  \\\n0          206  Cédula de ciudadanía                                 NaN   \n1          206  Cédula de ciudadanía                                 NaN   \n2          235  Cédula de ciudadanía                                 NaN   \n3          235  Cédula de ciudadanía                                 NaN   \n4           32  Cédula de ciudadanía                              2000.0   \n..         ...                   ...                                 ...   \n529         45  Cédula de ciudadanía                               825.0   \n530        145  Cédula de ciudadanía                              2400.0   \n531        142  Cédula de ciudadanía                              1200.0   \n532         45  Cédula de ciudadanía                              1900.0   \n533         25  Cédula de ciudadanía                              2350.0   \n\n     Número de docentes que laboran  \n0                               NaN  \n1                               NaN  \n2                               NaN  \n3                               NaN  \n4                               NaN  \n..                              ...  \n529                            26.0  \n530                            52.0  \n531                            53.0  \n532                           100.0  \n533                            76.0  \n\n[534 rows x 42 columns]",
      "text/html": "<div>\n<style scoped>\n    .dataframe tbody tr th:only-of-type {\n        vertical-align: middle;\n    }\n\n    .dataframe tbody tr th {\n        vertical-align: top;\n    }\n\n    .dataframe thead th {\n        text-align: right;\n    }\n</style>\n<table border=\"1\" class=\"dataframe\">\n  <thead>\n    <tr style=\"text-align: right;\">\n      <th></th>\n      <th>N registro</th>\n      <th>Instrumento</th>\n      <th>Fecha</th>\n      <th>Política de datos</th>\n      <th>ID</th>\n      <th>Edad</th>\n      <th>Sexo</th>\n      <th>Cabeza de hogar</th>\n      <th>Estado civil</th>\n      <th>Líder comunitario</th>\n      <th>...</th>\n      <th>1.10 Conozco y puedo recomendar a mis estudiantes diferentes programas de formación relacionadas al pensamiento computacional y/o ciencias de la computación</th>\n      <th>1.11 Los estudiantes reciben asesoría vocacional sobre alternativas u oportunidades relacionadas a carreras STEM</th>\n      <th>1.12 Informo a mis estudiantes sobre oportunidades que existen para continuar los estudios en áreas relacionadas al pensamiento computacional y/o ciencias de la computación</th>\n      <th>Comentarios autodiagnóstico</th>\n      <th>Actividades que se promueven en esta institución educativa para apoyar la formación docente enfocadas en pensamiento computacional</th>\n      <th>¿La rotación de los docentes de tecnología e informática influye sobre la calidad y el aprendizaje del área de los estudiantes en los diferentes grados?</th>\n      <th>Código IE</th>\n      <th>Tipo de ID</th>\n      <th>Número de estudiantes matriculados</th>\n      <th>Número de docentes que laboran</th>\n    </tr>\n  </thead>\n  <tbody>\n    <tr>\n      <th>0</th>\n      <td>3</td>\n      <td>Encuesta Directivos</td>\n      <td>18/04</td>\n      <td>Sí</td>\n      <td>93410609</td>\n      <td>43</td>\n      <td>Masculino</td>\n      <td>Sí</td>\n      <td>Casado/a - En unión libre</td>\n      <td>No</td>\n      <td>...</td>\n      <td>No</td>\n      <td>No</td>\n      <td>No</td>\n      <td>Hay ítems que no se hacen porque desconozco la...</td>\n      <td>Observación de aula</td>\n      <td>Casi siempre</td>\n      <td>206</td>\n      <td>Cédula de ciudadanía</td>\n      <td>NaN</td>\n      <td>NaN</td>\n    </tr>\n    <tr>\n      <th>1</th>\n      <td>4</td>\n      <td>Encuesta Directivos</td>\n      <td>18/04</td>\n      <td>Sí</td>\n      <td>5933717</td>\n      <td>66</td>\n      <td>Masculino</td>\n      <td>Sí</td>\n      <td>Casado/a - En unión libre</td>\n      <td>Sí</td>\n      <td>...</td>\n      <td>Sí</td>\n      <td>No</td>\n      <td>Sí</td>\n      <td>Es interesante abordar el yema</td>\n      <td>Observación de aula</td>\n      <td>Nunca</td>\n      <td>206</td>\n      <td>Cédula de ciudadanía</td>\n      <td>NaN</td>\n      <td>NaN</td>\n    </tr>\n    <tr>\n      <th>2</th>\n      <td>5</td>\n      <td>Encuesta Directivos</td>\n      <td>18/04</td>\n      <td>Sí</td>\n      <td>60311721</td>\n      <td>56</td>\n      <td>Femenino</td>\n      <td>Sí</td>\n      <td>Soltero/a</td>\n      <td>Sí</td>\n      <td>...</td>\n      <td>Sí</td>\n      <td>Sí</td>\n      <td>Sí</td>\n      <td>Hay compromisos con la media tecnica y con ñro...</td>\n      <td>Observación de aula, Mentoría</td>\n      <td>A veces</td>\n      <td>235</td>\n      <td>Cédula de ciudadanía</td>\n      <td>NaN</td>\n      <td>NaN</td>\n    </tr>\n    <tr>\n      <th>3</th>\n      <td>6</td>\n      <td>Encuesta Directivos</td>\n      <td>18/04</td>\n      <td>Sí</td>\n      <td>98525547</td>\n      <td>52</td>\n      <td>Masculino</td>\n      <td>Sí</td>\n      <td>Casado/a - En unión libre</td>\n      <td>No</td>\n      <td>...</td>\n      <td>Sí</td>\n      <td>No</td>\n      <td>Sí</td>\n      <td>Es necesario cualificar el acompañamiento a lo...</td>\n      <td>Investigación-Acción</td>\n      <td>Casi siempre</td>\n      <td>235</td>\n      <td>Cédula de ciudadanía</td>\n      <td>NaN</td>\n      <td>NaN</td>\n    </tr>\n    <tr>\n      <th>4</th>\n      <td>7</td>\n      <td>Encuesta Directivos</td>\n      <td>18/04</td>\n      <td>Sí</td>\n      <td>14244219</td>\n      <td>59</td>\n      <td>Masculino</td>\n      <td>Sí</td>\n      <td>Casado/a - En unión libre</td>\n      <td>No</td>\n      <td>...</td>\n      <td>No</td>\n      <td>Sí</td>\n      <td>No</td>\n      <td>Ninguno</td>\n      <td>Autoestudio</td>\n      <td>Casi nunca</td>\n      <td>32</td>\n      <td>Cédula de ciudadanía</td>\n      <td>2000.0</td>\n      <td>NaN</td>\n    </tr>\n    <tr>\n      <th>...</th>\n      <td>...</td>\n      <td>...</td>\n      <td>...</td>\n      <td>...</td>\n      <td>...</td>\n      <td>...</td>\n      <td>...</td>\n      <td>...</td>\n      <td>...</td>\n      <td>...</td>\n      <td>...</td>\n      <td>...</td>\n      <td>...</td>\n      <td>...</td>\n      <td>...</td>\n      <td>...</td>\n      <td>...</td>\n      <td>...</td>\n      <td>...</td>\n      <td>...</td>\n      <td>...</td>\n    </tr>\n    <tr>\n      <th>529</th>\n      <td>628</td>\n      <td>Encuesta Directivos</td>\n      <td>25/05</td>\n      <td>Sí</td>\n      <td>38670079</td>\n      <td>48</td>\n      <td>Femenino</td>\n      <td>No</td>\n      <td>Casado/a - En unión libre</td>\n      <td>No</td>\n      <td>...</td>\n      <td>No</td>\n      <td>Sí</td>\n      <td>Sí</td>\n      <td>NaN</td>\n      <td>Ninguna de las anteriores</td>\n      <td>Nunca</td>\n      <td>45</td>\n      <td>Cédula de ciudadanía</td>\n      <td>825.0</td>\n      <td>26.0</td>\n    </tr>\n    <tr>\n      <th>530</th>\n      <td>629</td>\n      <td>Encuesta Directivos</td>\n      <td>25/05</td>\n      <td>Sí</td>\n      <td>9093940</td>\n      <td>67</td>\n      <td>Masculino</td>\n      <td>No</td>\n      <td>Casado/a - En unión libre</td>\n      <td>No</td>\n      <td>...</td>\n      <td>Sí</td>\n      <td>Sí</td>\n      <td>Sí</td>\n      <td>NaN</td>\n      <td>Observación de aula, Autoestudio, Investigació...</td>\n      <td>A veces</td>\n      <td>145</td>\n      <td>Cédula de ciudadanía</td>\n      <td>2400.0</td>\n      <td>52.0</td>\n    </tr>\n    <tr>\n      <th>531</th>\n      <td>630</td>\n      <td>Encuesta Directivos</td>\n      <td>25/05</td>\n      <td>Sí</td>\n      <td>9083130</td>\n      <td>69</td>\n      <td>Masculino</td>\n      <td>No</td>\n      <td>Casado/a - En unión libre</td>\n      <td>No</td>\n      <td>...</td>\n      <td>No</td>\n      <td>Sí</td>\n      <td>Sí</td>\n      <td>NaN</td>\n      <td>Autoestudio</td>\n      <td>Casi nunca</td>\n      <td>142</td>\n      <td>Cédula de ciudadanía</td>\n      <td>1200.0</td>\n      <td>53.0</td>\n    </tr>\n    <tr>\n      <th>532</th>\n      <td>631</td>\n      <td>Encuesta Directivos</td>\n      <td>25/05</td>\n      <td>Sí</td>\n      <td>79825576</td>\n      <td>43</td>\n      <td>Masculino</td>\n      <td>Sí</td>\n      <td>Casado/a - En unión libre</td>\n      <td>Sí</td>\n      <td>...</td>\n      <td>Sí</td>\n      <td>Sí</td>\n      <td>Sí</td>\n      <td>NaN</td>\n      <td>Ninguna de las anteriores</td>\n      <td>Siempre</td>\n      <td>45</td>\n      <td>Cédula de ciudadanía</td>\n      <td>1900.0</td>\n      <td>100.0</td>\n    </tr>\n    <tr>\n      <th>533</th>\n      <td>632</td>\n      <td>Encuesta Directivos</td>\n      <td>25/05</td>\n      <td>Sí</td>\n      <td>8532932</td>\n      <td>54</td>\n      <td>Masculino</td>\n      <td>Sí</td>\n      <td>Casado/a - En unión libre</td>\n      <td>Sí</td>\n      <td>...</td>\n      <td>No</td>\n      <td>No</td>\n      <td>No</td>\n      <td>El pensamiento computacional es vital para los...</td>\n      <td>Observación de aula</td>\n      <td>Siempre</td>\n      <td>25</td>\n      <td>Cédula de ciudadanía</td>\n      <td>2350.0</td>\n      <td>76.0</td>\n    </tr>\n  </tbody>\n</table>\n<p>534 rows × 42 columns</p>\n</div>"
     },
     "execution_count": 25,
     "metadata": {},
     "output_type": "execute_result"
    }
   ],
   "source": [
    "\n",
    "dir"
   ],
   "metadata": {
    "collapsed": false,
    "pycharm": {
     "name": "#%%\n"
    }
   }
  },
  {
   "cell_type": "code",
   "execution_count": 26,
   "outputs": [],
   "source": [
    "cols_dir_d4 = ['Código IE']"
   ],
   "metadata": {
    "collapsed": false,
    "pycharm": {
     "name": "#%%\n"
    }
   }
  },
  {
   "cell_type": "code",
   "execution_count": 27,
   "outputs": [],
   "source": [
    "dir['Actividades PC'] = 1*(dir['Actividades que se promueven en esta institución educativa para apoyar la formación docente enfocadas en pensamiento computacional'].str.contains(\"Ninguna de las anteriores\"))\n",
    "dir['Actividades PC'] = dir['Actividades PC'].replace({1:'2A', 0:\"4\"})\n",
    "dir['Actividades PC']\n",
    "\n",
    "cols_dir_d4.append('Actividades PC')"
   ],
   "metadata": {
    "collapsed": false,
    "pycharm": {
     "name": "#%%\n"
    }
   }
  },
  {
   "cell_type": "code",
   "execution_count": 28,
   "outputs": [
    {
     "data": {
      "text/plain": "['Casi siempre', 'Nunca', 'A veces', 'Casi nunca', 'Siempre']"
     },
     "execution_count": 28,
     "metadata": {},
     "output_type": "execute_result"
    }
   ],
   "source": [
    "list(dir['¿La rotación de los docentes de tecnología e informática influye sobre la calidad y el aprendizaje del área de los estudiantes en los diferentes grados?'].unique())"
   ],
   "metadata": {
    "collapsed": false,
    "pycharm": {
     "name": "#%%\n"
    }
   }
  },
  {
   "cell_type": "code",
   "execution_count": 29,
   "outputs": [
    {
     "data": {
      "text/plain": "0      Casi siempre\n1             Nunca\n2           A veces\n3      Casi siempre\n4        Casi nunca\n           ...     \n529           Nunca\n530         A veces\n531      Casi nunca\n532         Siempre\n533         Siempre\nName: ¿La rotación de los docentes de tecnología e informática influye sobre la calidad y el aprendizaje del área de los estudiantes en los diferentes grados?, Length: 534, dtype: object"
     },
     "execution_count": 29,
     "metadata": {},
     "output_type": "execute_result"
    }
   ],
   "source": [
    "dir['¿La rotación de los docentes de tecnología e informática influye sobre la calidad y el aprendizaje del área de los estudiantes en los diferentes grados?']"
   ],
   "metadata": {
    "collapsed": false,
    "pycharm": {
     "name": "#%%\n"
    }
   }
  },
  {
   "cell_type": "code",
   "execution_count": 30,
   "outputs": [],
   "source": [
    "dir['Rotación influye'] = dir['¿La rotación de los docentes de tecnología e informática influye sobre la calidad y el aprendizaje del área de los estudiantes en los diferentes grados?'].isin(['Nunca', 'Casi nunca']).replace({True:\"3\", False: \"2B\"})\n",
    "dir['Rotación influye']\n",
    "\n",
    "cols_dir_d4.append('Rotación influye')"
   ],
   "metadata": {
    "collapsed": false,
    "pycharm": {
     "name": "#%%\n"
    }
   }
  },
  {
   "cell_type": "code",
   "execution_count": 31,
   "outputs": [],
   "source": [
    "dict_d4 = {\n",
    "                  '1.3 Animo a los maestros de otras disciplinas a asistir a oportunidades de desarrollo profesional enfocadas en pensamiento computacional.':\n",
    "                      { \"No\":\"2B\", \"No aplica\": \"2B\", \"Sí\": \"3\"},\n",
    "}\n",
    "cols_dir_d4.append(list(dict_d4.keys())[0])"
   ],
   "metadata": {
    "collapsed": false,
    "pycharm": {
     "name": "#%%\n"
    }
   }
  },
  {
   "cell_type": "code",
   "execution_count": 32,
   "outputs": [
    {
     "data": {
      "text/plain": "['Código IE',\n 'Actividades PC',\n 'Rotación influye',\n '1.3 Animo a los maestros de otras disciplinas a asistir a oportunidades de desarrollo profesional enfocadas en pensamiento computacional.']"
     },
     "execution_count": 32,
     "metadata": {},
     "output_type": "execute_result"
    }
   ],
   "source": [
    "cols_dir_d4"
   ],
   "metadata": {
    "collapsed": false,
    "pycharm": {
     "name": "#%%\n"
    }
   }
  },
  {
   "cell_type": "code",
   "execution_count": 33,
   "outputs": [
    {
     "data": {
      "text/plain": "     Código IE Actividades PC Rotación influye  \\\n0            1              4               2B   \n1            2              4               2B   \n2            3              4                3   \n3            4              4               2B   \n4            5              4               2B   \n..         ...            ...              ...   \n222        247              4               2B   \n223        248              4               2B   \n224        249              4               2B   \n225        251              4               2B   \n226        252              4               2B   \n\n    1.3 Animo a los maestros de otras disciplinas a asistir a oportunidades de desarrollo profesional enfocadas en pensamiento computacional.  \n0                                                    3                                                                                         \n1                                                    3                                                                                         \n2                                                    3                                                                                         \n3                                                   2B                                                                                         \n4                                                    3                                                                                         \n..                                                 ...                                                                                         \n222                                                  3                                                                                         \n223                                                  3                                                                                         \n224                                                  3                                                                                         \n225                                                  3                                                                                         \n226                                                  3                                                                                         \n\n[227 rows x 4 columns]",
      "text/html": "<div>\n<style scoped>\n    .dataframe tbody tr th:only-of-type {\n        vertical-align: middle;\n    }\n\n    .dataframe tbody tr th {\n        vertical-align: top;\n    }\n\n    .dataframe thead th {\n        text-align: right;\n    }\n</style>\n<table border=\"1\" class=\"dataframe\">\n  <thead>\n    <tr style=\"text-align: right;\">\n      <th></th>\n      <th>Código IE</th>\n      <th>Actividades PC</th>\n      <th>Rotación influye</th>\n      <th>1.3 Animo a los maestros de otras disciplinas a asistir a oportunidades de desarrollo profesional enfocadas en pensamiento computacional.</th>\n    </tr>\n  </thead>\n  <tbody>\n    <tr>\n      <th>0</th>\n      <td>1</td>\n      <td>4</td>\n      <td>2B</td>\n      <td>3</td>\n    </tr>\n    <tr>\n      <th>1</th>\n      <td>2</td>\n      <td>4</td>\n      <td>2B</td>\n      <td>3</td>\n    </tr>\n    <tr>\n      <th>2</th>\n      <td>3</td>\n      <td>4</td>\n      <td>3</td>\n      <td>3</td>\n    </tr>\n    <tr>\n      <th>3</th>\n      <td>4</td>\n      <td>4</td>\n      <td>2B</td>\n      <td>2B</td>\n    </tr>\n    <tr>\n      <th>4</th>\n      <td>5</td>\n      <td>4</td>\n      <td>2B</td>\n      <td>3</td>\n    </tr>\n    <tr>\n      <th>...</th>\n      <td>...</td>\n      <td>...</td>\n      <td>...</td>\n      <td>...</td>\n    </tr>\n    <tr>\n      <th>222</th>\n      <td>247</td>\n      <td>4</td>\n      <td>2B</td>\n      <td>3</td>\n    </tr>\n    <tr>\n      <th>223</th>\n      <td>248</td>\n      <td>4</td>\n      <td>2B</td>\n      <td>3</td>\n    </tr>\n    <tr>\n      <th>224</th>\n      <td>249</td>\n      <td>4</td>\n      <td>2B</td>\n      <td>3</td>\n    </tr>\n    <tr>\n      <th>225</th>\n      <td>251</td>\n      <td>4</td>\n      <td>2B</td>\n      <td>3</td>\n    </tr>\n    <tr>\n      <th>226</th>\n      <td>252</td>\n      <td>4</td>\n      <td>2B</td>\n      <td>3</td>\n    </tr>\n  </tbody>\n</table>\n<p>227 rows × 4 columns</p>\n</div>"
     },
     "execution_count": 33,
     "metadata": {},
     "output_type": "execute_result"
    }
   ],
   "source": [
    "dir = dir.replace(dict_d4)\n",
    "dir_d4 = dir[cols_dir_d4]\n",
    "dir_d4 = dir_d4.groupby('Código IE').max().reset_index()\n",
    "dir_d4\n"
   ],
   "metadata": {
    "collapsed": false,
    "pycharm": {
     "name": "#%%\n"
    }
   }
  },
  {
   "cell_type": "code",
   "execution_count": 34,
   "outputs": [
    {
     "data": {
      "text/plain": "     Código IE Nivel docentes  \\\n0            1              4   \n1            2              4   \n2            3              4   \n3            4             1A   \n4            5              4   \n..         ...            ...   \n192        247             1B   \n193        248             1A   \n194        249              4   \n195        251              4   \n196        252              4   \n\n    4.1 La IE tiene en cuenta el plan de estudios para determinar las actividades de desarrollo profesional  \\\n0                                                    4                                                        \n1                                                    4                                                        \n2                                                    4                                                        \n3                                                   2A                                                        \n4                                                    4                                                        \n..                                                 ...                                                        \n192                                                  4                                                        \n193                                                 2A                                                        \n194                                                  4                                                        \n195                                                  4                                                        \n196                                                  4                                                        \n\n    4.2 La IE identifica las necesidades de los docentes para determinar actividades de desarrollo profesional  \\\n0                                                   2B                                                           \n1                                                    4                                                           \n2                                                    4                                                           \n3                                                   2B                                                           \n4                                                    4                                                           \n..                                                 ...                                                           \n192                                                  4                                                           \n193                                                  4                                                           \n194                                                  4                                                           \n195                                                  4                                                           \n196                                                  4                                                           \n\n    4.3 La IE cuenta con espacios de discusión y planeación para actividades de desarrollo profesional  \\\n0                                                    4                                                   \n1                                                    4                                                   \n2                                                    4                                                   \n3                                                   2A                                                   \n4                                                    4                                                   \n..                                                 ...                                                   \n192                                                  4                                                   \n193                                                  4                                                   \n194                                                  4                                                   \n195                                                  4                                                   \n196                                                  4                                                   \n\n    4.5 La IE lleva un registro formal de las necesidades y participación de los docentes en actividades de desarrollo profesional  \\\n0                                                    4                                                                               \n1                                                   2A                                                                               \n2                                                    4                                                                               \n3                                                   2A                                                                               \n4                                                    4                                                                               \n..                                                 ...                                                                               \n192                                                 2A                                                                               \n193                                                  4                                                                               \n194                                                  4                                                                               \n195                                                  4                                                                               \n196                                                  4                                                                               \n\n    Actividades PC Rotación influye  \\\n0                4               2B   \n1                4               2B   \n2                4                3   \n3                4               2B   \n4                4               2B   \n..             ...              ...   \n192              4               2B   \n193              4               2B   \n194              4               2B   \n195              4               2B   \n196              4               2B   \n\n    1.3 Animo a los maestros de otras disciplinas a asistir a oportunidades de desarrollo profesional enfocadas en pensamiento computacional.  \n0                                                    3                                                                                         \n1                                                    3                                                                                         \n2                                                    3                                                                                         \n3                                                   2B                                                                                         \n4                                                    3                                                                                         \n..                                                 ...                                                                                         \n192                                                  3                                                                                         \n193                                                  3                                                                                         \n194                                                  3                                                                                         \n195                                                  3                                                                                         \n196                                                  3                                                                                         \n\n[197 rows x 9 columns]",
      "text/html": "<div>\n<style scoped>\n    .dataframe tbody tr th:only-of-type {\n        vertical-align: middle;\n    }\n\n    .dataframe tbody tr th {\n        vertical-align: top;\n    }\n\n    .dataframe thead th {\n        text-align: right;\n    }\n</style>\n<table border=\"1\" class=\"dataframe\">\n  <thead>\n    <tr style=\"text-align: right;\">\n      <th></th>\n      <th>Código IE</th>\n      <th>Nivel docentes</th>\n      <th>4.1 La IE tiene en cuenta el plan de estudios para determinar las actividades de desarrollo profesional</th>\n      <th>4.2 La IE identifica las necesidades de los docentes para determinar actividades de desarrollo profesional</th>\n      <th>4.3 La IE cuenta con espacios de discusión y planeación para actividades de desarrollo profesional</th>\n      <th>4.5 La IE lleva un registro formal de las necesidades y participación de los docentes en actividades de desarrollo profesional</th>\n      <th>Actividades PC</th>\n      <th>Rotación influye</th>\n      <th>1.3 Animo a los maestros de otras disciplinas a asistir a oportunidades de desarrollo profesional enfocadas en pensamiento computacional.</th>\n    </tr>\n  </thead>\n  <tbody>\n    <tr>\n      <th>0</th>\n      <td>1</td>\n      <td>4</td>\n      <td>4</td>\n      <td>2B</td>\n      <td>4</td>\n      <td>4</td>\n      <td>4</td>\n      <td>2B</td>\n      <td>3</td>\n    </tr>\n    <tr>\n      <th>1</th>\n      <td>2</td>\n      <td>4</td>\n      <td>4</td>\n      <td>4</td>\n      <td>4</td>\n      <td>2A</td>\n      <td>4</td>\n      <td>2B</td>\n      <td>3</td>\n    </tr>\n    <tr>\n      <th>2</th>\n      <td>3</td>\n      <td>4</td>\n      <td>4</td>\n      <td>4</td>\n      <td>4</td>\n      <td>4</td>\n      <td>4</td>\n      <td>3</td>\n      <td>3</td>\n    </tr>\n    <tr>\n      <th>3</th>\n      <td>4</td>\n      <td>1A</td>\n      <td>2A</td>\n      <td>2B</td>\n      <td>2A</td>\n      <td>2A</td>\n      <td>4</td>\n      <td>2B</td>\n      <td>2B</td>\n    </tr>\n    <tr>\n      <th>4</th>\n      <td>5</td>\n      <td>4</td>\n      <td>4</td>\n      <td>4</td>\n      <td>4</td>\n      <td>4</td>\n      <td>4</td>\n      <td>2B</td>\n      <td>3</td>\n    </tr>\n    <tr>\n      <th>...</th>\n      <td>...</td>\n      <td>...</td>\n      <td>...</td>\n      <td>...</td>\n      <td>...</td>\n      <td>...</td>\n      <td>...</td>\n      <td>...</td>\n      <td>...</td>\n    </tr>\n    <tr>\n      <th>192</th>\n      <td>247</td>\n      <td>1B</td>\n      <td>4</td>\n      <td>4</td>\n      <td>4</td>\n      <td>2A</td>\n      <td>4</td>\n      <td>2B</td>\n      <td>3</td>\n    </tr>\n    <tr>\n      <th>193</th>\n      <td>248</td>\n      <td>1A</td>\n      <td>2A</td>\n      <td>4</td>\n      <td>4</td>\n      <td>4</td>\n      <td>4</td>\n      <td>2B</td>\n      <td>3</td>\n    </tr>\n    <tr>\n      <th>194</th>\n      <td>249</td>\n      <td>4</td>\n      <td>4</td>\n      <td>4</td>\n      <td>4</td>\n      <td>4</td>\n      <td>4</td>\n      <td>2B</td>\n      <td>3</td>\n    </tr>\n    <tr>\n      <th>195</th>\n      <td>251</td>\n      <td>4</td>\n      <td>4</td>\n      <td>4</td>\n      <td>4</td>\n      <td>4</td>\n      <td>4</td>\n      <td>2B</td>\n      <td>3</td>\n    </tr>\n    <tr>\n      <th>196</th>\n      <td>252</td>\n      <td>4</td>\n      <td>4</td>\n      <td>4</td>\n      <td>4</td>\n      <td>4</td>\n      <td>4</td>\n      <td>2B</td>\n      <td>3</td>\n    </tr>\n  </tbody>\n</table>\n<p>197 rows × 9 columns</p>\n</div>"
     },
     "execution_count": 34,
     "metadata": {},
     "output_type": "execute_result"
    }
   ],
   "source": [
    "df_institucion = pd.merge(df_institucion, dir_d4, on='Código IE')\n",
    "df_institucion"
   ],
   "metadata": {
    "collapsed": false,
    "pycharm": {
     "name": "#%%\n"
    }
   }
  },
  {
   "cell_type": "code",
   "execution_count": 35,
   "outputs": [],
   "source": [
    "df_institucion['Dimensión 4'] = df_institucion.iloc[:,1:].min(axis=1)"
   ],
   "metadata": {
    "collapsed": false,
    "pycharm": {
     "name": "#%%\n"
    }
   }
  },
  {
   "cell_type": "code",
   "execution_count": 36,
   "outputs": [],
   "source": [
    "df_institucion.to_excel(\"Dimension 4.xlsx\")"
   ],
   "metadata": {
    "collapsed": false,
    "pycharm": {
     "name": "#%%\n"
    }
   }
  }
 ],
 "metadata": {
  "kernelspec": {
   "display_name": "Python 3",
   "language": "python",
   "name": "python3"
  },
  "language_info": {
   "codemirror_mode": {
    "name": "ipython",
    "version": 2
   },
   "file_extension": ".py",
   "mimetype": "text/x-python",
   "name": "python",
   "nbconvert_exporter": "python",
   "pygments_lexer": "ipython2",
   "version": "2.7.6"
  }
 },
 "nbformat": 4,
 "nbformat_minor": 0
}