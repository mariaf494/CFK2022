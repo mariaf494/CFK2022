{
 "cells": [
  {
   "cell_type": "markdown",
   "source": [
    "## Cuaderno para leer todas las dimensiones y unirlas"
   ],
   "metadata": {
    "collapsed": false,
    "pycharm": {
     "name": "#%% md\n"
    }
   }
  },
  {
   "cell_type": "code",
   "execution_count": 10,
   "metadata": {
    "collapsed": true
   },
   "outputs": [],
   "source": [
    "import pandas as pd"
   ]
  },
  {
   "cell_type": "code",
   "execution_count": null,
   "outputs": [],
   "source": [
    "D1 = pd.read_excel('Dimensión 1.xlsx')\n",
    "D1 = D1.loc[:,['Código IE', 'Dimensión 1']]\n",
    "D1['Código IE'] = D1['Código IE'].astype(float).astype(int)\n",
    "D1 = D1.set_index('Código IE')"
   ],
   "metadata": {
    "collapsed": false,
    "pycharm": {
     "name": "#%%\n"
    }
   }
  },
  {
   "cell_type": "code",
   "execution_count": 11,
   "outputs": [],
   "source": [
    "D2 = pd.read_excel('Dimensión 2.xlsx')\n",
    "D2 = D2.loc[:,['Código IE', 'Dimensión 2']]\n",
    "D2['Código IE'] = D2['Código IE'].astype(float).astype(int)\n",
    "D2 = D2.set_index('Código IE')"
   ],
   "metadata": {
    "collapsed": false,
    "pycharm": {
     "name": "#%%\n"
    }
   }
  },
  {
   "cell_type": "code",
   "execution_count": 12,
   "outputs": [],
   "source": [
    "D4 = pd.read_excel('Dimension 4.xlsx')\n",
    "D4 = D4.loc[:,['Código IE', 'Dimensión 4']]\n",
    "D4['Código IE'] = D4['Código IE'].astype(float).astype(int)\n",
    "D4 = D4.set_index('Código IE')"
   ],
   "metadata": {
    "collapsed": false,
    "pycharm": {
     "name": "#%%\n"
    }
   }
  },
  {
   "cell_type": "code",
   "execution_count": 13,
   "outputs": [],
   "source": [
    "D5 = pd.read_excel('Dimensión 5.xlsx')\n",
    "D5 = D5.loc[:,['Código IE', 'Dimensión 5']]\n",
    "D5['Código IE'] = D5['Código IE'].astype(float).astype(int)\n",
    "D5 = D5.set_index('Código IE')"
   ],
   "metadata": {
    "collapsed": false,
    "pycharm": {
     "name": "#%%\n"
    }
   }
  },
  {
   "cell_type": "code",
   "execution_count": 14,
   "outputs": [],
   "source": [
    "D7 = pd.read_excel('Dimensión 7.xlsx')\n",
    "D7 = D7.loc[:,['Código IE', 'Dimensión 7']]\n",
    "D7['Código IE'] = D7['Código IE'].astype(float).astype(int)\n",
    "D7 = D7.set_index('Código IE')"
   ],
   "metadata": {
    "collapsed": false,
    "pycharm": {
     "name": "#%%\n"
    }
   }
  },
  {
   "cell_type": "code",
   "execution_count": 7,
   "outputs": [],
   "source": [
    "D8 = pd.read_excel('Dimensión 8.xlsx')\n",
    "D8 = D8.loc[:,['Código IE', 'Dimensión 8']]\n",
    "D8['Código IE'] = D8['Código IE'].astype(float).astype(int)\n",
    "D8 = D8.set_index('Código IE')"
   ],
   "metadata": {
    "collapsed": false,
    "pycharm": {
     "name": "#%%\n"
    }
   }
  },
  {
   "cell_type": "code",
   "execution_count": 15,
   "outputs": [],
   "source": [
    "marco = pd.concat([D2,D4,D5,D7,D8],ignore_index=False, axis=1)\n",
    "marco = marco.fillna(\"0\")\n",
    "marco = marco.reset_index()"
   ],
   "metadata": {
    "collapsed": false,
    "pycharm": {
     "name": "#%%\n"
    }
   }
  },
  {
   "cell_type": "code",
   "execution_count": 16,
   "outputs": [
    {
     "data": {
      "text/plain": "     Código IE Dimensión 2 Dimensión 4 Dimensión 5 Dimensión 7 Dimensión 8\n0            2          1B          2A          1A          2A          1A\n1            3          1B           3          1A          2A          1A\n2            4          1B          1A          1A          2A          1A\n3            5          1B          2B          1A          2A           4\n4            6          1B          2A          1A          2A          1A\n..         ...         ...         ...         ...         ...         ...\n237        193           0           0           0          1B           0\n238        207           0           0           0          1B           0\n239        234           0           0           0          2A           0\n240        242           0           0           0          2A           0\n241        245           0           0           0          2A           0\n\n[242 rows x 6 columns]",
      "text/html": "<div>\n<style scoped>\n    .dataframe tbody tr th:only-of-type {\n        vertical-align: middle;\n    }\n\n    .dataframe tbody tr th {\n        vertical-align: top;\n    }\n\n    .dataframe thead th {\n        text-align: right;\n    }\n</style>\n<table border=\"1\" class=\"dataframe\">\n  <thead>\n    <tr style=\"text-align: right;\">\n      <th></th>\n      <th>Código IE</th>\n      <th>Dimensión 2</th>\n      <th>Dimensión 4</th>\n      <th>Dimensión 5</th>\n      <th>Dimensión 7</th>\n      <th>Dimensión 8</th>\n    </tr>\n  </thead>\n  <tbody>\n    <tr>\n      <th>0</th>\n      <td>2</td>\n      <td>1B</td>\n      <td>2A</td>\n      <td>1A</td>\n      <td>2A</td>\n      <td>1A</td>\n    </tr>\n    <tr>\n      <th>1</th>\n      <td>3</td>\n      <td>1B</td>\n      <td>3</td>\n      <td>1A</td>\n      <td>2A</td>\n      <td>1A</td>\n    </tr>\n    <tr>\n      <th>2</th>\n      <td>4</td>\n      <td>1B</td>\n      <td>1A</td>\n      <td>1A</td>\n      <td>2A</td>\n      <td>1A</td>\n    </tr>\n    <tr>\n      <th>3</th>\n      <td>5</td>\n      <td>1B</td>\n      <td>2B</td>\n      <td>1A</td>\n      <td>2A</td>\n      <td>4</td>\n    </tr>\n    <tr>\n      <th>4</th>\n      <td>6</td>\n      <td>1B</td>\n      <td>2A</td>\n      <td>1A</td>\n      <td>2A</td>\n      <td>1A</td>\n    </tr>\n    <tr>\n      <th>...</th>\n      <td>...</td>\n      <td>...</td>\n      <td>...</td>\n      <td>...</td>\n      <td>...</td>\n      <td>...</td>\n    </tr>\n    <tr>\n      <th>237</th>\n      <td>193</td>\n      <td>0</td>\n      <td>0</td>\n      <td>0</td>\n      <td>1B</td>\n      <td>0</td>\n    </tr>\n    <tr>\n      <th>238</th>\n      <td>207</td>\n      <td>0</td>\n      <td>0</td>\n      <td>0</td>\n      <td>1B</td>\n      <td>0</td>\n    </tr>\n    <tr>\n      <th>239</th>\n      <td>234</td>\n      <td>0</td>\n      <td>0</td>\n      <td>0</td>\n      <td>2A</td>\n      <td>0</td>\n    </tr>\n    <tr>\n      <th>240</th>\n      <td>242</td>\n      <td>0</td>\n      <td>0</td>\n      <td>0</td>\n      <td>2A</td>\n      <td>0</td>\n    </tr>\n    <tr>\n      <th>241</th>\n      <td>245</td>\n      <td>0</td>\n      <td>0</td>\n      <td>0</td>\n      <td>2A</td>\n      <td>0</td>\n    </tr>\n  </tbody>\n</table>\n<p>242 rows × 6 columns</p>\n</div>"
     },
     "execution_count": 16,
     "metadata": {},
     "output_type": "execute_result"
    }
   ],
   "source": [
    "marco"
   ],
   "metadata": {
    "collapsed": false,
    "pycharm": {
     "name": "#%%\n"
    }
   }
  },
  {
   "cell_type": "code",
   "execution_count": 17,
   "outputs": [],
   "source": [
    "marco.to_excel('Marco acumulativo.xlsx', index=False)"
   ],
   "metadata": {
    "collapsed": false,
    "pycharm": {
     "name": "#%%\n"
    }
   }
  },
  {
   "cell_type": "code",
   "execution_count": null,
   "outputs": [],
   "source": [],
   "metadata": {
    "collapsed": false,
    "pycharm": {
     "name": "#%%\n"
    }
   }
  }
 ],
 "metadata": {
  "kernelspec": {
   "display_name": "Python 3",
   "language": "python",
   "name": "python3"
  },
  "language_info": {
   "codemirror_mode": {
    "name": "ipython",
    "version": 2
   },
   "file_extension": ".py",
   "mimetype": "text/x-python",
   "name": "python",
   "nbconvert_exporter": "python",
   "pygments_lexer": "ipython2",
   "version": "2.7.6"
  }
 },
 "nbformat": 4,
 "nbformat_minor": 0
}