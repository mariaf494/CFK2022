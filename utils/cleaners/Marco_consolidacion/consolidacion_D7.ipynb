{
 "cells": [
  {
   "cell_type": "code",
   "execution_count": 46,
   "metadata": {
    "collapsed": true,
    "jupyter": {
     "outputs_hidden": true
    }
   },
   "outputs": [],
   "source": [
    "import pandas as pd\n",
    "import pathlib\n",
    "import plotly.express as px"
   ]
  },
  {
   "cell_type": "markdown",
   "source": [
    "## Calificar examen estudiantes: Dimensión 7"
   ],
   "metadata": {
    "collapsed": false
   }
  },
  {
   "cell_type": "code",
   "execution_count": 47,
   "outputs": [],
   "source": [
    "ruta_git = pathlib.Path().cwd().parent.parent.parent"
   ],
   "metadata": {
    "collapsed": false,
    "pycharm": {
     "name": "#%%\n"
    }
   }
  },
  {
   "cell_type": "code",
   "execution_count": 48,
   "metadata": {
    "collapsed": false,
    "jupyter": {
     "outputs_hidden": false
    },
    "pycharm": {
     "name": "#%%\n"
    }
   },
   "outputs": [
    {
     "name": "stdout",
     "output_type": "stream",
     "text": [
      "(16469, 74)\n"
     ]
    },
    {
     "data": {
      "text/plain": "Index(['N registro', 'Deseo participar en el estudio', 'Código IE', 'Grupo',\n       'Nombre', 'Fecha', 'ID', 'Número de lista', 'Edad', 'Sexo',\n       'Sector vivienda', 'Internet', 'Uso del dispositivo móvil',\n       'Nivel escolaridad madre', 'Nivel escolaridad padre', 'Ocupación madre',\n       'Ocupación padre', '¿Con quién vives?', 'Grado', '1.1. Ingeniería',\n       '1.2 Matemáticas', '1.3 Educación', '1.4 Medicina',\n       '1.5 Diseño gráfico', '1.6 Química', '1.7 Enfermería',\n       '1.8 Desarrollo de software',\n       '2.1 Soy capaz de sacar buenas notas en esta asignatura',\n       '2.2 Si me va bien en esta asignatura, me ayudará en mi futura ocupación',\n       '2.3 A mis padres les gustaría que eligiera un futuro profesional relacionado a esta asignatura',\n       '2.4 Sé de alguien en mi familia que utiliza conocimientos relacionados a esta asignatura en su ocupación',\n       'Comentarios 1-2', 'Un algoritmo es:',\n       '¿Para qué sirven los algoritmos?', 'Un bucle es:',\n       '3.1 Siento que soy capaz de explicar lo que es el pensamiento computacional',\n       '3.2 Siento que puedo enumerar las sub-habilidades que componen el pensamiento computacional',\n       '3.3 Siento que soy capaz de dar ejemplos para explicar las sub-habilidades del pensamiento computacional',\n       '3.4 Siento que puedo explicar la forma en que las sub-habilidades del pensamiento computacional se correlacionan con la programación',\n       '3.5 Siento que puedo analizar un ejercicio y determinar qué sub-habilidades de pensamiento computacional busca desarrollar',\n       '3.6 Siento que puedo resolver problemas a través de programación',\n       '3.7 Siento que puedo implementar algoritmos',\n       '3.8 Siento que puedo crear un programa de computador',\n       '3.9 Siento que puedo automatizar tareas a través de la programación',\n       '3.10 Siento que puedo utilizar la computación para resolver problemas simples',\n       'Comentarios P3',\n       '¿Cuál de las siguientes opciones sí le permite al robot completar la misión de fotografiar cada tortuga?',\n       '¿Qué mensaje deseaba enviar la líder Wayuú?',\n       '¿Cuál de los siguientes códigos permite que el robot complete su misión sembrando café?',\n       '¿Cuál será la foto con más vistas?',\n       'Ayuda al robot verde a salir del laberinto',\n       'Óscar lleva 2 loncheras a la escuela todos los días ¿Cuál de las siguientes afirmaciones es falsa?',\n       '¿Cuál de las siguientes hamburguesas tiene los ingredientes A, E y F?',\n       '¿Qué botella debe cambiarse de color para que el resultado final sea una botella de color blanco?',\n       'Comentarios conocimiento',\n       '5.1 ¿Quién crees que ganará el concurso de matemáticas?',\n       '5.2 ¿Quién crees que es capitán del barco?',\n       '5.3 ¿Quién es la persona excluida de la construcción de la casa de madera?',\n       '5.4 ¿Quién crees que es el personaje que está sentado y esperando junto a la ventana?',\n       '5.5 ¿Quién es la persona que trabaja en educación?',\n       '5.6 ¿Quién crees que es la persona que prefiere estudiar ingeniería?',\n       'Comentarios género',\n       '4.1 Es alarmante que el ritmo de desaparición de especies en la Amazonia Colombiana sea cada vez mayor.',\n       '4.2 El aumento de la temperatura atmosférica se debe al uso creciente y continuado de combustibles fósiles (carbón, petróleo…).',\n       '4.3 La acumulación de basura procedente de las ciudades es un problema realmente grave.',\n       '4.4 Hay una disminución de la superficie forestal y de áreas naturales en el país.',\n       '4.5 El planeta está tan contaminado por productos químicos que ya supone un problema para la salud.',\n       '4.6 Conozco los riesgos que representa para la vida humana la desaparición de especies animales y vegetales.',\n       '4.7 Me preocupa lo que sucede con la tala de árboles.',\n       'Comentarios medioambiente', 'Tipo de discapacidad',\n       '¿Te reconoces como una persona con algún tipo de discapacidad?',\n       'Conoce GreenTIC', 'Instrumento'],\n      dtype='object')"
     },
     "execution_count": 48,
     "metadata": {},
     "output_type": "execute_result"
    }
   ],
   "source": [
    "est = pd.read_excel(ruta_git/'data/descargables/EstudiantesCFK.xlsx')\n",
    "\n",
    "print(est.shape)\n",
    "est.columns"
   ]
  },
  {
   "cell_type": "markdown",
   "source": [
    "##### Pasar respuestas a números"
   ],
   "metadata": {
    "collapsed": false,
    "pycharm": {
     "name": "#%% md\n"
    }
   }
  },
  {
   "cell_type": "code",
   "execution_count": 49,
   "metadata": {
    "collapsed": false,
    "jupyter": {
     "outputs_hidden": false
    },
    "pycharm": {
     "name": "#%%\n"
    }
   },
   "outputs": [],
   "source": [
    "respuestas_correctas = {\n",
    "    \"Un algoritmo es:\":\"Una secuencia lógica de pasos para realizar una tarea\",\n",
    "    \"¿Para qué sirven los algoritmos?\":\"Para planificar la solución a un problema\",\n",
    "    \"Un bucle es:\":\"Un conjunto de instrucciones que se ejecuta mientras se cumpla una condición\",\n",
    "    \"¿Cuál de las siguientes opciones sí le permite al robot completar la misión de fotografiar cada tortuga?\":\"a.\",\n",
    "    \"¿Qué mensaje deseaba enviar la líder Wayuú?\":\"c. Nublado\",\n",
    "    \"¿Cuál de los siguientes códigos permite que el robot complete su misión sembrando café?\":\"a.\",\n",
    "    \"¿Cuál será la foto con más vistas?\":\"c) Julio\",\n",
    "    \"Ayuda al robot verde a salir del laberinto\":\"b.\",\n",
    "    \"Óscar lleva 2 loncheras a la escuela todos los días ¿Cuál de las siguientes afirmaciones es falsa?\":\"c) Si Óscar empaca Deditos para merendar, puede hacer Arroz de pollo para almorzar\",\n",
    "    \"¿Cuál de las siguientes hamburguesas tiene los ingredientes A, E y F?\":\"a.\",\n",
    "    \"¿Qué botella debe cambiarse de color para que el resultado final sea una botella de color blanco?\":\"a) La botella B debe ser verde\"}\n",
    "\n",
    "de_acuerdo = {\"Totalmente en desacuerdo\":1,\"En desacuerdo\":2, \"Neutro\":3,\n",
    "\"De acuerdo\":4,\"Totalmente de acuerdo\":5}\n",
    "\n",
    "interesa_carreras = {\"No la conozco\":0,\"La evitaría\":1,\"Me interesa poco\":2,\"Está entre mis preferidas\":3}\n",
    "\n",
    "estereotipo_h = {'a) Seguramente un hombre':2, 'b) Quizás un hombre':1,\n",
    "                 'c) Creo que puede ser un hombre o una mujer':0,\n",
    "                 'd) Quizás una mujer': -1, 'e) Seguramente una mujer':-2}\n",
    "\n",
    "estereotipo_m = {'a) Seguramente un hombre':-2, 'b) Quizás un hombre':-1,\n",
    "                 'c) Creo que puede ser un hombre o una mujer':0,\n",
    "                 'd) Quizás una mujer': 1, 'e) Seguramente una mujer':2}\n",
    "#The scores range from -2= ‘counter- stereotypic answer’ to 2= ‘stereotype congruent answer’ for all items.\n",
    "genero_estereotipos = {'5.1 ¿Quién crees que ganará el concurso de matemáticas?':estereotipo_h,\n",
    "                       '5.2 ¿Quién crees que es capitán del barco?':estereotipo_h,\n",
    "                       '5.3 ¿Quién es la persona excluida de la construcción de la casa de madera?':estereotipo_m,\n",
    "                       '5.4 ¿Quién crees que es el personaje que está sentado y esperando junto a la ventana?':estereotipo_m,\n",
    "                       '5.5 ¿Quién es la persona que trabaja en educación?':estereotipo_m,\n",
    "                       '5.6 ¿Quién crees que es la persona que prefiere estudiar ingeniería?':estereotipo_h}\n"
   ]
  },
  {
   "cell_type": "code",
   "execution_count": 50,
   "metadata": {
    "collapsed": false,
    "jupyter": {
     "outputs_hidden": false
    },
    "pycharm": {
     "name": "#%%\n"
    }
   },
   "outputs": [
    {
     "data": {
      "text/plain": "['5.1 ¿Quién crees que ganará el concurso de matemáticas?',\n '5.2 ¿Quién crees que es capitán del barco?',\n '5.3 ¿Quién es la persona excluida de la construcción de la casa de madera?',\n '5.4 ¿Quién crees que es el personaje que está sentado y esperando junto a la ventana?',\n '5.5 ¿Quién es la persona que trabaja en educación?',\n '5.6 ¿Quién crees que es la persona que prefiere estudiar ingeniería?']"
     },
     "execution_count": 50,
     "metadata": {},
     "output_type": "execute_result"
    }
   ],
   "source": [
    "col_index = ['Edad', 'Sexo', 'Código IE', '¿Te reconoces como una persona con algún tipo de discapacidad?']\n",
    "col_caract = ['N registro','Edad', 'Sexo', 'Sector vivienda', 'Internet', 'Uso del dispositivo móvil',\n",
    "              'Nivel escolaridad madre', 'Nivel escolaridad padre', 'Ocupación madre',\n",
    "              'Ocupación padre', '¿Con quién vives?', 'Grado', 'Código IE',\n",
    "              'Grupo', 'Conoce GreenTIC', 'Número de lista', '¿Te reconoces como una persona con algún tipo de discapacidad?']\n",
    "#col_conocePC = est.filter(regex=r'^3.*', axis=1).columns.tolist()[0]\n",
    "#col_PC = est.filter(regex=r'^3.*', axis=1).columns.tolist()[1:5]\n",
    "col_autoeficacia = est.filter(regex=r'^3.*', axis=1).columns.tolist()\n",
    "col_carreras = est.filter(regex=r'^1.', axis=1).columns.tolist()\n",
    "col_interes = est.filter(regex=r'^2.1|2.2', axis=1).columns.tolist()\n",
    "col_conocimiento = list(respuestas_correctas.keys())\n",
    "col_ambiental = est.filter(regex=r'^4.', axis=1).columns.tolist()\n",
    "col_genero = est.filter(regex=r'^5.', axis=1).columns.tolist()\n",
    "col_genero"
   ]
  },
  {
   "cell_type": "code",
   "execution_count": 51,
   "outputs": [
    {
     "data": {
      "text/plain": "       N registro  Edad       Sexo Sector vivienda Internet  \\\n0               1  14.0  Masculino          Urbana       Sí   \n1               2  16.0  Masculino          Urbana       Sí   \n2               3  14.0   Femenino          Urbana       Sí   \n3               4  15.0  Masculino          Urbana       No   \n4               5  14.0   Femenino          Urbana       Sí   \n...           ...   ...        ...             ...      ...   \n16464       18656  14.0   Femenino          Urbana       Sí   \n16465       18658  13.0   Femenino          Urbana       Sí   \n16466       18659  11.0   Femenino          Urbana       No   \n16467       18660  11.0   Femenino          Urbana       Sí   \n16468       18661  11.0  Masculino          Urbana       No   \n\n                              Uso del dispositivo móvil  \\\n0                          Uso propio (solo lo usas tú)   \n1                          Uso propio (solo lo usas tú)   \n2                     Uso compartido con otras personas   \n3      No tengo acceso a ningún dispositivo electrónico   \n4                     Uso compartido con otras personas   \n...                                                 ...   \n16464                      Uso propio (solo lo usas tú)   \n16465                      Uso propio (solo lo usas tú)   \n16466  No tengo acceso a ningún dispositivo electrónico   \n16467  No tengo acceso a ningún dispositivo electrónico   \n16468  No tengo acceso a ningún dispositivo electrónico   \n\n      Nivel escolaridad madre Nivel escolaridad padre Ocupación madre  \\\n0         Técnico o tecnólogo    Titulo universitario         Trabaja   \n1        Titulo universitario     Técnico o tecnólogo         Trabaja   \n2                  Secundaría              Secundaría         Trabaja   \n3                       No sé                   No sé         Trabaja   \n4        Titulo universitario              Secundaría         Trabaja   \n...                       ...                     ...             ...   \n16464     Técnico o tecnólogo                   No sé         Trabaja   \n16465                Maestría                Maestría         Trabaja   \n16466                   No sé                   No sé  Cuida el hogar   \n16467              Secundaría              Secundaría         Trabaja   \n16468                   No sé                   No sé  Cuida el hogar   \n\n      Ocupación padre  ... Un algoritmo es:  Un bucle es:  \\\n0             Trabaja  ...                0             0   \n1             Trabaja  ...                0             1   \n2             Trabaja  ...                1             0   \n3             Trabaja  ...                1             0   \n4             Trabaja  ...                1             0   \n...               ...  ...              ...           ...   \n16464           No sé  ...                0             0   \n16465         Trabaja  ...                0             0   \n16466         Trabaja  ...                0             0   \n16467         Trabaja  ...                0             0   \n16468         Trabaja  ...                0             0   \n\n       ¿Cuál de las siguientes hamburguesas tiene los ingredientes A, E y F?  \\\n0                                                      1                       \n1                                                      0                       \n2                                                      1                       \n3                                                      0                       \n4                                                      1                       \n...                                                  ...                       \n16464                                                  1                       \n16465                                                  1                       \n16466                                                  0                       \n16467                                                  0                       \n16468                                                  0                       \n\n       ¿Cuál de las siguientes opciones sí le permite al robot completar la misión de fotografiar cada tortuga?  \\\n0                                                      1                                                          \n1                                                      0                                                          \n2                                                      1                                                          \n3                                                      0                                                          \n4                                                      0                                                          \n...                                                  ...                                                          \n16464                                                  1                                                          \n16465                                                  1                                                          \n16466                                                  0                                                          \n16467                                                  0                                                          \n16468                                                  0                                                          \n\n      ¿Cuál de los siguientes códigos permite que el robot complete su misión sembrando café?  \\\n0                                                      1                                        \n1                                                      1                                        \n2                                                      0                                        \n3                                                      0                                        \n4                                                      0                                        \n...                                                  ...                                        \n16464                                                  0                                        \n16465                                                  0                                        \n16466                                                  0                                        \n16467                                                  0                                        \n16468                                                  0                                        \n\n       ¿Cuál será la foto con más vistas? ¿Para qué sirven los algoritmos?  \\\n0                                       0                                0   \n1                                       0                                0   \n2                                       0                                1   \n3                                       0                                0   \n4                                       0                                1   \n...                                   ...                              ...   \n16464                                   0                                0   \n16465                                   1                                1   \n16466                                   0                                0   \n16467                                   0                                0   \n16468                                   0                                0   \n\n       ¿Qué botella debe cambiarse de color para que el resultado final sea una botella de color blanco?  \\\n0                                                      1                                                   \n1                                                      0                                                   \n2                                                      0                                                   \n3                                                      0                                                   \n4                                                      0                                                   \n...                                                  ...                                                   \n16464                                                  0                                                   \n16465                                                  0                                                   \n16466                                                  0                                                   \n16467                                                  0                                                   \n16468                                                  0                                                   \n\n       ¿Qué mensaje deseaba enviar la líder Wayuú?  \\\n0                                                0   \n1                                                0   \n2                                                0   \n3                                                1   \n4                                                1   \n...                                            ...   \n16464                                            0   \n16465                                            1   \n16466                                            0   \n16467                                            0   \n16468                                            0   \n\n       Óscar lleva 2 loncheras a la escuela todos los días ¿Cuál de las siguientes afirmaciones es falsa?  \n0                                                      1                                                   \n1                                                      0                                                   \n2                                                      0                                                   \n3                                                      0                                                   \n4                                                      0                                                   \n...                                                  ...                                                   \n16464                                                  1                                                   \n16465                                                  0                                                   \n16466                                                  0                                                   \n16467                                                  0                                                   \n16468                                                  0                                                   \n\n[16469 rows x 28 columns]",
      "text/html": "<div>\n<style scoped>\n    .dataframe tbody tr th:only-of-type {\n        vertical-align: middle;\n    }\n\n    .dataframe tbody tr th {\n        vertical-align: top;\n    }\n\n    .dataframe thead th {\n        text-align: right;\n    }\n</style>\n<table border=\"1\" class=\"dataframe\">\n  <thead>\n    <tr style=\"text-align: right;\">\n      <th></th>\n      <th>N registro</th>\n      <th>Edad</th>\n      <th>Sexo</th>\n      <th>Sector vivienda</th>\n      <th>Internet</th>\n      <th>Uso del dispositivo móvil</th>\n      <th>Nivel escolaridad madre</th>\n      <th>Nivel escolaridad padre</th>\n      <th>Ocupación madre</th>\n      <th>Ocupación padre</th>\n      <th>...</th>\n      <th>Un algoritmo es:</th>\n      <th>Un bucle es:</th>\n      <th>¿Cuál de las siguientes hamburguesas tiene los ingredientes A, E y F?</th>\n      <th>¿Cuál de las siguientes opciones sí le permite al robot completar la misión de fotografiar cada tortuga?</th>\n      <th>¿Cuál de los siguientes códigos permite que el robot complete su misión sembrando café?</th>\n      <th>¿Cuál será la foto con más vistas?</th>\n      <th>¿Para qué sirven los algoritmos?</th>\n      <th>¿Qué botella debe cambiarse de color para que el resultado final sea una botella de color blanco?</th>\n      <th>¿Qué mensaje deseaba enviar la líder Wayuú?</th>\n      <th>Óscar lleva 2 loncheras a la escuela todos los días ¿Cuál de las siguientes afirmaciones es falsa?</th>\n    </tr>\n  </thead>\n  <tbody>\n    <tr>\n      <th>0</th>\n      <td>1</td>\n      <td>14.0</td>\n      <td>Masculino</td>\n      <td>Urbana</td>\n      <td>Sí</td>\n      <td>Uso propio (solo lo usas tú)</td>\n      <td>Técnico o tecnólogo</td>\n      <td>Titulo universitario</td>\n      <td>Trabaja</td>\n      <td>Trabaja</td>\n      <td>...</td>\n      <td>0</td>\n      <td>0</td>\n      <td>1</td>\n      <td>1</td>\n      <td>1</td>\n      <td>0</td>\n      <td>0</td>\n      <td>1</td>\n      <td>0</td>\n      <td>1</td>\n    </tr>\n    <tr>\n      <th>1</th>\n      <td>2</td>\n      <td>16.0</td>\n      <td>Masculino</td>\n      <td>Urbana</td>\n      <td>Sí</td>\n      <td>Uso propio (solo lo usas tú)</td>\n      <td>Titulo universitario</td>\n      <td>Técnico o tecnólogo</td>\n      <td>Trabaja</td>\n      <td>Trabaja</td>\n      <td>...</td>\n      <td>0</td>\n      <td>1</td>\n      <td>0</td>\n      <td>0</td>\n      <td>1</td>\n      <td>0</td>\n      <td>0</td>\n      <td>0</td>\n      <td>0</td>\n      <td>0</td>\n    </tr>\n    <tr>\n      <th>2</th>\n      <td>3</td>\n      <td>14.0</td>\n      <td>Femenino</td>\n      <td>Urbana</td>\n      <td>Sí</td>\n      <td>Uso compartido con otras personas</td>\n      <td>Secundaría</td>\n      <td>Secundaría</td>\n      <td>Trabaja</td>\n      <td>Trabaja</td>\n      <td>...</td>\n      <td>1</td>\n      <td>0</td>\n      <td>1</td>\n      <td>1</td>\n      <td>0</td>\n      <td>0</td>\n      <td>1</td>\n      <td>0</td>\n      <td>0</td>\n      <td>0</td>\n    </tr>\n    <tr>\n      <th>3</th>\n      <td>4</td>\n      <td>15.0</td>\n      <td>Masculino</td>\n      <td>Urbana</td>\n      <td>No</td>\n      <td>No tengo acceso a ningún dispositivo electrónico</td>\n      <td>No sé</td>\n      <td>No sé</td>\n      <td>Trabaja</td>\n      <td>Trabaja</td>\n      <td>...</td>\n      <td>1</td>\n      <td>0</td>\n      <td>0</td>\n      <td>0</td>\n      <td>0</td>\n      <td>0</td>\n      <td>0</td>\n      <td>0</td>\n      <td>1</td>\n      <td>0</td>\n    </tr>\n    <tr>\n      <th>4</th>\n      <td>5</td>\n      <td>14.0</td>\n      <td>Femenino</td>\n      <td>Urbana</td>\n      <td>Sí</td>\n      <td>Uso compartido con otras personas</td>\n      <td>Titulo universitario</td>\n      <td>Secundaría</td>\n      <td>Trabaja</td>\n      <td>Trabaja</td>\n      <td>...</td>\n      <td>1</td>\n      <td>0</td>\n      <td>1</td>\n      <td>0</td>\n      <td>0</td>\n      <td>0</td>\n      <td>1</td>\n      <td>0</td>\n      <td>1</td>\n      <td>0</td>\n    </tr>\n    <tr>\n      <th>...</th>\n      <td>...</td>\n      <td>...</td>\n      <td>...</td>\n      <td>...</td>\n      <td>...</td>\n      <td>...</td>\n      <td>...</td>\n      <td>...</td>\n      <td>...</td>\n      <td>...</td>\n      <td>...</td>\n      <td>...</td>\n      <td>...</td>\n      <td>...</td>\n      <td>...</td>\n      <td>...</td>\n      <td>...</td>\n      <td>...</td>\n      <td>...</td>\n      <td>...</td>\n      <td>...</td>\n    </tr>\n    <tr>\n      <th>16464</th>\n      <td>18656</td>\n      <td>14.0</td>\n      <td>Femenino</td>\n      <td>Urbana</td>\n      <td>Sí</td>\n      <td>Uso propio (solo lo usas tú)</td>\n      <td>Técnico o tecnólogo</td>\n      <td>No sé</td>\n      <td>Trabaja</td>\n      <td>No sé</td>\n      <td>...</td>\n      <td>0</td>\n      <td>0</td>\n      <td>1</td>\n      <td>1</td>\n      <td>0</td>\n      <td>0</td>\n      <td>0</td>\n      <td>0</td>\n      <td>0</td>\n      <td>1</td>\n    </tr>\n    <tr>\n      <th>16465</th>\n      <td>18658</td>\n      <td>13.0</td>\n      <td>Femenino</td>\n      <td>Urbana</td>\n      <td>Sí</td>\n      <td>Uso propio (solo lo usas tú)</td>\n      <td>Maestría</td>\n      <td>Maestría</td>\n      <td>Trabaja</td>\n      <td>Trabaja</td>\n      <td>...</td>\n      <td>0</td>\n      <td>0</td>\n      <td>1</td>\n      <td>1</td>\n      <td>0</td>\n      <td>1</td>\n      <td>1</td>\n      <td>0</td>\n      <td>1</td>\n      <td>0</td>\n    </tr>\n    <tr>\n      <th>16466</th>\n      <td>18659</td>\n      <td>11.0</td>\n      <td>Femenino</td>\n      <td>Urbana</td>\n      <td>No</td>\n      <td>No tengo acceso a ningún dispositivo electrónico</td>\n      <td>No sé</td>\n      <td>No sé</td>\n      <td>Cuida el hogar</td>\n      <td>Trabaja</td>\n      <td>...</td>\n      <td>0</td>\n      <td>0</td>\n      <td>0</td>\n      <td>0</td>\n      <td>0</td>\n      <td>0</td>\n      <td>0</td>\n      <td>0</td>\n      <td>0</td>\n      <td>0</td>\n    </tr>\n    <tr>\n      <th>16467</th>\n      <td>18660</td>\n      <td>11.0</td>\n      <td>Femenino</td>\n      <td>Urbana</td>\n      <td>Sí</td>\n      <td>No tengo acceso a ningún dispositivo electrónico</td>\n      <td>Secundaría</td>\n      <td>Secundaría</td>\n      <td>Trabaja</td>\n      <td>Trabaja</td>\n      <td>...</td>\n      <td>0</td>\n      <td>0</td>\n      <td>0</td>\n      <td>0</td>\n      <td>0</td>\n      <td>0</td>\n      <td>0</td>\n      <td>0</td>\n      <td>0</td>\n      <td>0</td>\n    </tr>\n    <tr>\n      <th>16468</th>\n      <td>18661</td>\n      <td>11.0</td>\n      <td>Masculino</td>\n      <td>Urbana</td>\n      <td>No</td>\n      <td>No tengo acceso a ningún dispositivo electrónico</td>\n      <td>No sé</td>\n      <td>No sé</td>\n      <td>Cuida el hogar</td>\n      <td>Trabaja</td>\n      <td>...</td>\n      <td>0</td>\n      <td>0</td>\n      <td>0</td>\n      <td>0</td>\n      <td>0</td>\n      <td>0</td>\n      <td>0</td>\n      <td>0</td>\n      <td>0</td>\n      <td>0</td>\n    </tr>\n  </tbody>\n</table>\n<p>16469 rows × 28 columns</p>\n</div>"
     },
     "execution_count": 51,
     "metadata": {},
     "output_type": "execute_result"
    }
   ],
   "source": [
    "df_conocimientos = est[['N registro']+col_conocimiento].melt(id_vars='N registro', value_name='Respuesta estudiante', var_name='Pregunta')\n",
    "df_conocimientos['Respuesta correcta'] = df_conocimientos['Pregunta'].replace(respuestas_correctas)\n",
    "df_conocimientos['Puntaje conocimiento'] = 1*(df_conocimientos['Respuesta estudiante'] == df_conocimientos['Respuesta correcta'])\n",
    "df_estudiantes = df_conocimientos.pivot_table(index='N registro', columns='Pregunta', values='Puntaje conocimiento').reset_index()\n",
    "\n",
    "\n",
    "\n",
    "df_estudiantes= pd.merge(est[col_caract], df_estudiantes, on='N registro')\n",
    "df_estudiantes"
   ],
   "metadata": {
    "collapsed": false,
    "pycharm": {
     "name": "#%%\n"
    }
   }
  },
  {
   "cell_type": "markdown",
   "metadata": {},
   "source": []
  },
  {
   "cell_type": "code",
   "execution_count": 52,
   "outputs": [
    {
     "data": {
      "text/plain": "       N registro  Edad       Sexo Sector vivienda Internet  \\\n0               1  14.0  Masculino          Urbana       Sí   \n1               2  16.0  Masculino          Urbana       Sí   \n2               3  14.0   Femenino          Urbana       Sí   \n3               4  15.0  Masculino          Urbana       No   \n4               5  14.0   Femenino          Urbana       Sí   \n...           ...   ...        ...             ...      ...   \n16464       18656  14.0   Femenino          Urbana       Sí   \n16465       18658  13.0   Femenino          Urbana       Sí   \n16466       18659  11.0   Femenino          Urbana       No   \n16467       18660  11.0   Femenino          Urbana       Sí   \n16468       18661  11.0  Masculino          Urbana       No   \n\n                              Uso del dispositivo móvil  \\\n0                          Uso propio (solo lo usas tú)   \n1                          Uso propio (solo lo usas tú)   \n2                     Uso compartido con otras personas   \n3      No tengo acceso a ningún dispositivo electrónico   \n4                     Uso compartido con otras personas   \n...                                                 ...   \n16464                      Uso propio (solo lo usas tú)   \n16465                      Uso propio (solo lo usas tú)   \n16466  No tengo acceso a ningún dispositivo electrónico   \n16467  No tengo acceso a ningún dispositivo electrónico   \n16468  No tengo acceso a ningún dispositivo electrónico   \n\n      Nivel escolaridad madre Nivel escolaridad padre Ocupación madre  \\\n0         Técnico o tecnólogo    Titulo universitario         Trabaja   \n1        Titulo universitario     Técnico o tecnólogo         Trabaja   \n2                  Secundaría              Secundaría         Trabaja   \n3                       No sé                   No sé         Trabaja   \n4        Titulo universitario              Secundaría         Trabaja   \n...                       ...                     ...             ...   \n16464     Técnico o tecnólogo                   No sé         Trabaja   \n16465                Maestría                Maestría         Trabaja   \n16466                   No sé                   No sé  Cuida el hogar   \n16467              Secundaría              Secundaría         Trabaja   \n16468                   No sé                   No sé  Cuida el hogar   \n\n      Ocupación padre  ...  \\\n0             Trabaja  ...   \n1             Trabaja  ...   \n2             Trabaja  ...   \n3             Trabaja  ...   \n4             Trabaja  ...   \n...               ...  ...   \n16464           No sé  ...   \n16465         Trabaja  ...   \n16466         Trabaja  ...   \n16467         Trabaja  ...   \n16468         Trabaja  ...   \n\n      3.1 Siento que soy capaz de explicar lo que es el pensamiento computacional  \\\n0                                                      3                            \n1                                                      5                            \n2                                                      1                            \n3                                                      2                            \n4                                                      3                            \n...                                                  ...                            \n16464                                                  2                            \n16465                                                  4                            \n16466                                                  1                            \n16467                                                  1                            \n16468                                                  1                            \n\n       3.2 Siento que puedo enumerar las sub-habilidades que componen el pensamiento computacional  \\\n0                                                      1                                             \n1                                                      4                                             \n2                                                      1                                             \n3                                                      3                                             \n4                                                      3                                             \n...                                                  ...                                             \n16464                                                  2                                             \n16465                                                  2                                             \n16466                                                  1                                             \n16467                                                  1                                             \n16468                                                  1                                             \n\n       3.3 Siento que soy capaz de dar ejemplos para explicar las sub-habilidades del pensamiento computacional  \\\n0                                                      2                                                          \n1                                                      5                                                          \n2                                                      2                                                          \n3                                                      2                                                          \n4                                                      3                                                          \n...                                                  ...                                                          \n16464                                                  1                                                          \n16465                                                  2                                                          \n16466                                                  1                                                          \n16467                                                  1                                                          \n16468                                                  1                                                          \n\n       3.4 Siento que puedo explicar la forma en que las sub-habilidades del pensamiento computacional se correlacionan con la programación  \\\n0                                                      2                                                                                      \n1                                                      5                                                                                      \n2                                                      1                                                                                      \n3                                                      3                                                                                      \n4                                                      3                                                                                      \n...                                                  ...                                                                                      \n16464                                                  1                                                                                      \n16465                                                  2                                                                                      \n16466                                                  1                                                                                      \n16467                                                  1                                                                                      \n16468                                                  1                                                                                      \n\n      3.5 Siento que puedo analizar un ejercicio y determinar qué sub-habilidades de pensamiento computacional busca desarrollar  \\\n0                                                      3                                                                           \n1                                                      5                                                                           \n2                                                      1                                                                           \n3                                                      4                                                                           \n4                                                      3                                                                           \n...                                                  ...                                                                           \n16464                                                  1                                                                           \n16465                                                  3                                                                           \n16466                                                  1                                                                           \n16467                                                  1                                                                           \n16468                                                  1                                                                           \n\n       3.6 Siento que puedo resolver problemas a través de programación  \\\n0                                                      3                  \n1                                                      5                  \n2                                                      1                  \n3                                                      4                  \n4                                                      3                  \n...                                                  ...                  \n16464                                                  3                  \n16465                                                  3                  \n16466                                                  1                  \n16467                                                  1                  \n16468                                                  1                  \n\n      3.7 Siento que puedo implementar algoritmos  \\\n0                                               2   \n1                                               5   \n2                                               3   \n3                                               4   \n4                                               4   \n...                                           ...   \n16464                                           1   \n16465                                           2   \n16466                                           1   \n16467                                           1   \n16468                                           1   \n\n       3.8 Siento que puedo crear un programa de computador  \\\n0                                                      1      \n1                                                      5      \n2                                                      2      \n3                                                      1      \n4                                                      3      \n...                                                  ...      \n16464                                                  1      \n16465                                                  4      \n16466                                                  1      \n16467                                                  1      \n16468                                                  1      \n\n       3.9 Siento que puedo automatizar tareas a través de la programación  \\\n0                                                      2                     \n1                                                      5                     \n2                                                      2                     \n3                                                      3                     \n4                                                      3                     \n...                                                  ...                     \n16464                                                  3                     \n16465                                                  5                     \n16466                                                  1                     \n16467                                                  1                     \n16468                                                  1                     \n\n       3.10 Siento que puedo utilizar la computación para resolver problemas simples  \n0                                                      3                              \n1                                                      5                              \n2                                                      2                              \n3                                                      5                              \n4                                                      3                              \n...                                                  ...                              \n16464                                                  4                              \n16465                                                  5                              \n16466                                                  1                              \n16467                                                  1                              \n16468                                                  1                              \n\n[16469 rows x 45 columns]",
      "text/html": "<div>\n<style scoped>\n    .dataframe tbody tr th:only-of-type {\n        vertical-align: middle;\n    }\n\n    .dataframe tbody tr th {\n        vertical-align: top;\n    }\n\n    .dataframe thead th {\n        text-align: right;\n    }\n</style>\n<table border=\"1\" class=\"dataframe\">\n  <thead>\n    <tr style=\"text-align: right;\">\n      <th></th>\n      <th>N registro</th>\n      <th>Edad</th>\n      <th>Sexo</th>\n      <th>Sector vivienda</th>\n      <th>Internet</th>\n      <th>Uso del dispositivo móvil</th>\n      <th>Nivel escolaridad madre</th>\n      <th>Nivel escolaridad padre</th>\n      <th>Ocupación madre</th>\n      <th>Ocupación padre</th>\n      <th>...</th>\n      <th>3.1 Siento que soy capaz de explicar lo que es el pensamiento computacional</th>\n      <th>3.2 Siento que puedo enumerar las sub-habilidades que componen el pensamiento computacional</th>\n      <th>3.3 Siento que soy capaz de dar ejemplos para explicar las sub-habilidades del pensamiento computacional</th>\n      <th>3.4 Siento que puedo explicar la forma en que las sub-habilidades del pensamiento computacional se correlacionan con la programación</th>\n      <th>3.5 Siento que puedo analizar un ejercicio y determinar qué sub-habilidades de pensamiento computacional busca desarrollar</th>\n      <th>3.6 Siento que puedo resolver problemas a través de programación</th>\n      <th>3.7 Siento que puedo implementar algoritmos</th>\n      <th>3.8 Siento que puedo crear un programa de computador</th>\n      <th>3.9 Siento que puedo automatizar tareas a través de la programación</th>\n      <th>3.10 Siento que puedo utilizar la computación para resolver problemas simples</th>\n    </tr>\n  </thead>\n  <tbody>\n    <tr>\n      <th>0</th>\n      <td>1</td>\n      <td>14.0</td>\n      <td>Masculino</td>\n      <td>Urbana</td>\n      <td>Sí</td>\n      <td>Uso propio (solo lo usas tú)</td>\n      <td>Técnico o tecnólogo</td>\n      <td>Titulo universitario</td>\n      <td>Trabaja</td>\n      <td>Trabaja</td>\n      <td>...</td>\n      <td>3</td>\n      <td>1</td>\n      <td>2</td>\n      <td>2</td>\n      <td>3</td>\n      <td>3</td>\n      <td>2</td>\n      <td>1</td>\n      <td>2</td>\n      <td>3</td>\n    </tr>\n    <tr>\n      <th>1</th>\n      <td>2</td>\n      <td>16.0</td>\n      <td>Masculino</td>\n      <td>Urbana</td>\n      <td>Sí</td>\n      <td>Uso propio (solo lo usas tú)</td>\n      <td>Titulo universitario</td>\n      <td>Técnico o tecnólogo</td>\n      <td>Trabaja</td>\n      <td>Trabaja</td>\n      <td>...</td>\n      <td>5</td>\n      <td>4</td>\n      <td>5</td>\n      <td>5</td>\n      <td>5</td>\n      <td>5</td>\n      <td>5</td>\n      <td>5</td>\n      <td>5</td>\n      <td>5</td>\n    </tr>\n    <tr>\n      <th>2</th>\n      <td>3</td>\n      <td>14.0</td>\n      <td>Femenino</td>\n      <td>Urbana</td>\n      <td>Sí</td>\n      <td>Uso compartido con otras personas</td>\n      <td>Secundaría</td>\n      <td>Secundaría</td>\n      <td>Trabaja</td>\n      <td>Trabaja</td>\n      <td>...</td>\n      <td>1</td>\n      <td>1</td>\n      <td>2</td>\n      <td>1</td>\n      <td>1</td>\n      <td>1</td>\n      <td>3</td>\n      <td>2</td>\n      <td>2</td>\n      <td>2</td>\n    </tr>\n    <tr>\n      <th>3</th>\n      <td>4</td>\n      <td>15.0</td>\n      <td>Masculino</td>\n      <td>Urbana</td>\n      <td>No</td>\n      <td>No tengo acceso a ningún dispositivo electrónico</td>\n      <td>No sé</td>\n      <td>No sé</td>\n      <td>Trabaja</td>\n      <td>Trabaja</td>\n      <td>...</td>\n      <td>2</td>\n      <td>3</td>\n      <td>2</td>\n      <td>3</td>\n      <td>4</td>\n      <td>4</td>\n      <td>4</td>\n      <td>1</td>\n      <td>3</td>\n      <td>5</td>\n    </tr>\n    <tr>\n      <th>4</th>\n      <td>5</td>\n      <td>14.0</td>\n      <td>Femenino</td>\n      <td>Urbana</td>\n      <td>Sí</td>\n      <td>Uso compartido con otras personas</td>\n      <td>Titulo universitario</td>\n      <td>Secundaría</td>\n      <td>Trabaja</td>\n      <td>Trabaja</td>\n      <td>...</td>\n      <td>3</td>\n      <td>3</td>\n      <td>3</td>\n      <td>3</td>\n      <td>3</td>\n      <td>3</td>\n      <td>4</td>\n      <td>3</td>\n      <td>3</td>\n      <td>3</td>\n    </tr>\n    <tr>\n      <th>...</th>\n      <td>...</td>\n      <td>...</td>\n      <td>...</td>\n      <td>...</td>\n      <td>...</td>\n      <td>...</td>\n      <td>...</td>\n      <td>...</td>\n      <td>...</td>\n      <td>...</td>\n      <td>...</td>\n      <td>...</td>\n      <td>...</td>\n      <td>...</td>\n      <td>...</td>\n      <td>...</td>\n      <td>...</td>\n      <td>...</td>\n      <td>...</td>\n      <td>...</td>\n      <td>...</td>\n    </tr>\n    <tr>\n      <th>16464</th>\n      <td>18656</td>\n      <td>14.0</td>\n      <td>Femenino</td>\n      <td>Urbana</td>\n      <td>Sí</td>\n      <td>Uso propio (solo lo usas tú)</td>\n      <td>Técnico o tecnólogo</td>\n      <td>No sé</td>\n      <td>Trabaja</td>\n      <td>No sé</td>\n      <td>...</td>\n      <td>2</td>\n      <td>2</td>\n      <td>1</td>\n      <td>1</td>\n      <td>1</td>\n      <td>3</td>\n      <td>1</td>\n      <td>1</td>\n      <td>3</td>\n      <td>4</td>\n    </tr>\n    <tr>\n      <th>16465</th>\n      <td>18658</td>\n      <td>13.0</td>\n      <td>Femenino</td>\n      <td>Urbana</td>\n      <td>Sí</td>\n      <td>Uso propio (solo lo usas tú)</td>\n      <td>Maestría</td>\n      <td>Maestría</td>\n      <td>Trabaja</td>\n      <td>Trabaja</td>\n      <td>...</td>\n      <td>4</td>\n      <td>2</td>\n      <td>2</td>\n      <td>2</td>\n      <td>3</td>\n      <td>3</td>\n      <td>2</td>\n      <td>4</td>\n      <td>5</td>\n      <td>5</td>\n    </tr>\n    <tr>\n      <th>16466</th>\n      <td>18659</td>\n      <td>11.0</td>\n      <td>Femenino</td>\n      <td>Urbana</td>\n      <td>No</td>\n      <td>No tengo acceso a ningún dispositivo electrónico</td>\n      <td>No sé</td>\n      <td>No sé</td>\n      <td>Cuida el hogar</td>\n      <td>Trabaja</td>\n      <td>...</td>\n      <td>1</td>\n      <td>1</td>\n      <td>1</td>\n      <td>1</td>\n      <td>1</td>\n      <td>1</td>\n      <td>1</td>\n      <td>1</td>\n      <td>1</td>\n      <td>1</td>\n    </tr>\n    <tr>\n      <th>16467</th>\n      <td>18660</td>\n      <td>11.0</td>\n      <td>Femenino</td>\n      <td>Urbana</td>\n      <td>Sí</td>\n      <td>No tengo acceso a ningún dispositivo electrónico</td>\n      <td>Secundaría</td>\n      <td>Secundaría</td>\n      <td>Trabaja</td>\n      <td>Trabaja</td>\n      <td>...</td>\n      <td>1</td>\n      <td>1</td>\n      <td>1</td>\n      <td>1</td>\n      <td>1</td>\n      <td>1</td>\n      <td>1</td>\n      <td>1</td>\n      <td>1</td>\n      <td>1</td>\n    </tr>\n    <tr>\n      <th>16468</th>\n      <td>18661</td>\n      <td>11.0</td>\n      <td>Masculino</td>\n      <td>Urbana</td>\n      <td>No</td>\n      <td>No tengo acceso a ningún dispositivo electrónico</td>\n      <td>No sé</td>\n      <td>No sé</td>\n      <td>Cuida el hogar</td>\n      <td>Trabaja</td>\n      <td>...</td>\n      <td>1</td>\n      <td>1</td>\n      <td>1</td>\n      <td>1</td>\n      <td>1</td>\n      <td>1</td>\n      <td>1</td>\n      <td>1</td>\n      <td>1</td>\n      <td>1</td>\n    </tr>\n  </tbody>\n</table>\n<p>16469 rows × 45 columns</p>\n</div>"
     },
     "execution_count": 52,
     "metadata": {},
     "output_type": "execute_result"
    }
   ],
   "source": [
    "# carreras_df = est[['N registro'] + col_carreras].replace(interesa_carreras)\n",
    "# df_estudiantes = pd.merge(df_estudiantes, carreras_df, on='N registro')\n",
    "#\n",
    "# genero_df = est[['N registro']+col_genero].replace(genero_estereotipos)\n",
    "# df_estudiantes = pd.merge(df_estudiantes, genero_df, on='N registro')\n",
    "\n",
    "df_ambiente = est[['N registro']+col_ambiental].replace(de_acuerdo)\n",
    "\n",
    "df_estudiantes = pd.merge(df_estudiantes, df_ambiente, on='N registro')\n",
    "\n",
    "df_estudiantes = pd.merge(df_estudiantes, est[['N registro']+col_autoeficacia].astype(int), on='N registro')\n",
    "\n",
    "df_estudiantes"
   ],
   "metadata": {
    "collapsed": false,
    "pycharm": {
     "name": "#%%\n"
    }
   }
  },
  {
   "cell_type": "markdown",
   "source": [
    "#### Calcular escalas"
   ],
   "metadata": {
    "collapsed": false,
    "pycharm": {
     "name": "#%% md\n"
    }
   }
  },
  {
   "cell_type": "code",
   "execution_count": 53,
   "outputs": [],
   "source": [
    "escalas_dict = {'medioambiente':\n",
    "                    {'cols':list(est.filter(regex='^4.*').columns),\n",
    "                     'cargas':[0.620,0.648,0.732,0.638,0.705,0.707,0.670]},\n",
    "                'autoeficaciaPC':\n",
    "                    {'cols':list(est.filter(regex='^3.1 |3.[2-5]|^3.7').columns),\n",
    "                'cargas':[0.724,0.822,0.782,0.745,0.574,0.390]},\n",
    "                'autoeficaciaProg':{\n",
    "                    'cols':list(est.filter(regex='^3.6 |3.[8-9]|3.10').columns),\n",
    "                    'cargas':[0.637,0.490,0.755,0.753]\n",
    "                }}"
   ],
   "metadata": {
    "collapsed": false,
    "pycharm": {
     "name": "#%%\n"
    }
   }
  },
  {
   "cell_type": "code",
   "execution_count": 54,
   "outputs": [],
   "source": [
    "for k in list(escalas_dict.keys()):\n",
    "    df_estudiantes[k] = 100*df_estudiantes[escalas_dict[k]['cols']].add(-1).multiply(escalas_dict[k]['cargas']).sum(axis=1)/(4*sum(escalas_dict[k]['cargas']))"
   ],
   "metadata": {
    "collapsed": false,
    "pycharm": {
     "name": "#%%\n"
    }
   }
  },
  {
   "cell_type": "code",
   "execution_count": 55,
   "outputs": [],
   "source": [
    "resultados = df_estudiantes[col_conocimiento].sum(axis=1)\n",
    "media = resultados.mean()\n",
    "desv = resultados.std()\n",
    "\n",
    "df_estudiantes['conocimiento'] = 50+(10*(resultados - media)/desv)\n",
    "\n"
   ],
   "metadata": {
    "collapsed": false,
    "pycharm": {
     "name": "#%%\n"
    }
   }
  },
  {
   "cell_type": "code",
   "execution_count": 56,
   "outputs": [
    {
     "data": {
      "text/plain": "       N registro  Edad       Sexo Sector vivienda Internet  \\\n0               1  14.0  Masculino          Urbana       Sí   \n1               2  16.0  Masculino          Urbana       Sí   \n2               3  14.0   Femenino          Urbana       Sí   \n3               4  15.0  Masculino          Urbana       No   \n4               5  14.0   Femenino          Urbana       Sí   \n...           ...   ...        ...             ...      ...   \n16464       18656  14.0   Femenino          Urbana       Sí   \n16465       18658  13.0   Femenino          Urbana       Sí   \n16466       18659  11.0   Femenino          Urbana       No   \n16467       18660  11.0   Femenino          Urbana       Sí   \n16468       18661  11.0  Masculino          Urbana       No   \n\n                              Uso del dispositivo móvil  \\\n0                          Uso propio (solo lo usas tú)   \n1                          Uso propio (solo lo usas tú)   \n2                     Uso compartido con otras personas   \n3      No tengo acceso a ningún dispositivo electrónico   \n4                     Uso compartido con otras personas   \n...                                                 ...   \n16464                      Uso propio (solo lo usas tú)   \n16465                      Uso propio (solo lo usas tú)   \n16466  No tengo acceso a ningún dispositivo electrónico   \n16467  No tengo acceso a ningún dispositivo electrónico   \n16468  No tengo acceso a ningún dispositivo electrónico   \n\n      Nivel escolaridad madre Nivel escolaridad padre Ocupación madre  \\\n0         Técnico o tecnólogo    Titulo universitario         Trabaja   \n1        Titulo universitario     Técnico o tecnólogo         Trabaja   \n2                  Secundaría              Secundaría         Trabaja   \n3                       No sé                   No sé         Trabaja   \n4        Titulo universitario              Secundaría         Trabaja   \n...                       ...                     ...             ...   \n16464     Técnico o tecnólogo                   No sé         Trabaja   \n16465                Maestría                Maestría         Trabaja   \n16466                   No sé                   No sé  Cuida el hogar   \n16467              Secundaría              Secundaría         Trabaja   \n16468                   No sé                   No sé  Cuida el hogar   \n\n      Ocupación padre  ...  \\\n0             Trabaja  ...   \n1             Trabaja  ...   \n2             Trabaja  ...   \n3             Trabaja  ...   \n4             Trabaja  ...   \n...               ...  ...   \n16464           No sé  ...   \n16465         Trabaja  ...   \n16466         Trabaja  ...   \n16467         Trabaja  ...   \n16468         Trabaja  ...   \n\n      3.5 Siento que puedo analizar un ejercicio y determinar qué sub-habilidades de pensamiento computacional busca desarrollar  \\\n0                                                      3                                                                           \n1                                                      5                                                                           \n2                                                      1                                                                           \n3                                                      4                                                                           \n4                                                      3                                                                           \n...                                                  ...                                                                           \n16464                                                  1                                                                           \n16465                                                  3                                                                           \n16466                                                  1                                                                           \n16467                                                  1                                                                           \n16468                                                  1                                                                           \n\n       3.6 Siento que puedo resolver problemas a través de programación  \\\n0                                                      3                  \n1                                                      5                  \n2                                                      1                  \n3                                                      4                  \n4                                                      3                  \n...                                                  ...                  \n16464                                                  3                  \n16465                                                  3                  \n16466                                                  1                  \n16467                                                  1                  \n16468                                                  1                  \n\n       3.7 Siento que puedo implementar algoritmos  \\\n0                                                2   \n1                                                5   \n2                                                3   \n3                                                4   \n4                                                4   \n...                                            ...   \n16464                                            1   \n16465                                            2   \n16466                                            1   \n16467                                            1   \n16468                                            1   \n\n       3.8 Siento que puedo crear un programa de computador  \\\n0                                                      1      \n1                                                      5      \n2                                                      2      \n3                                                      1      \n4                                                      3      \n...                                                  ...      \n16464                                                  1      \n16465                                                  4      \n16466                                                  1      \n16467                                                  1      \n16468                                                  1      \n\n      3.9 Siento que puedo automatizar tareas a través de la programación  \\\n0                                                      2                    \n1                                                      5                    \n2                                                      2                    \n3                                                      3                    \n4                                                      3                    \n...                                                  ...                    \n16464                                                  3                    \n16465                                                  5                    \n16466                                                  1                    \n16467                                                  1                    \n16468                                                  1                    \n\n       3.10 Siento que puedo utilizar la computación para resolver problemas simples  \\\n0                                                      3                               \n1                                                      5                               \n2                                                      2                               \n3                                                      5                               \n4                                                      3                               \n...                                                  ...                               \n16464                                                  4                               \n16465                                                  5                               \n16466                                                  1                               \n16467                                                  1                               \n16468                                                  1                               \n\n      medioambiente  autoeficaciaPC  autoeficaciaProg  conocimiento  \n0         57.621822       27.947733         33.538899     57.964655  \n1         75.000000       94.909586        100.000000     43.645839  \n2         79.713983        9.673025         18.956357     53.191716  \n3         92.521186       46.643547         61.034156     43.645839  \n4         71.461864       52.415160         50.000000     53.191716  \n...             ...             ...               ...           ...  \n16464     82.319915        9.573941         47.846300     48.418777  \n16465    100.000000       37.521675         83.263757     57.964655  \n16466     50.000000        0.000000          0.000000     34.099961  \n16467     75.000000        0.000000          0.000000     34.099961  \n16468      0.000000        0.000000          0.000000     34.099961  \n\n[16469 rows x 49 columns]",
      "text/html": "<div>\n<style scoped>\n    .dataframe tbody tr th:only-of-type {\n        vertical-align: middle;\n    }\n\n    .dataframe tbody tr th {\n        vertical-align: top;\n    }\n\n    .dataframe thead th {\n        text-align: right;\n    }\n</style>\n<table border=\"1\" class=\"dataframe\">\n  <thead>\n    <tr style=\"text-align: right;\">\n      <th></th>\n      <th>N registro</th>\n      <th>Edad</th>\n      <th>Sexo</th>\n      <th>Sector vivienda</th>\n      <th>Internet</th>\n      <th>Uso del dispositivo móvil</th>\n      <th>Nivel escolaridad madre</th>\n      <th>Nivel escolaridad padre</th>\n      <th>Ocupación madre</th>\n      <th>Ocupación padre</th>\n      <th>...</th>\n      <th>3.5 Siento que puedo analizar un ejercicio y determinar qué sub-habilidades de pensamiento computacional busca desarrollar</th>\n      <th>3.6 Siento que puedo resolver problemas a través de programación</th>\n      <th>3.7 Siento que puedo implementar algoritmos</th>\n      <th>3.8 Siento que puedo crear un programa de computador</th>\n      <th>3.9 Siento que puedo automatizar tareas a través de la programación</th>\n      <th>3.10 Siento que puedo utilizar la computación para resolver problemas simples</th>\n      <th>medioambiente</th>\n      <th>autoeficaciaPC</th>\n      <th>autoeficaciaProg</th>\n      <th>conocimiento</th>\n    </tr>\n  </thead>\n  <tbody>\n    <tr>\n      <th>0</th>\n      <td>1</td>\n      <td>14.0</td>\n      <td>Masculino</td>\n      <td>Urbana</td>\n      <td>Sí</td>\n      <td>Uso propio (solo lo usas tú)</td>\n      <td>Técnico o tecnólogo</td>\n      <td>Titulo universitario</td>\n      <td>Trabaja</td>\n      <td>Trabaja</td>\n      <td>...</td>\n      <td>3</td>\n      <td>3</td>\n      <td>2</td>\n      <td>1</td>\n      <td>2</td>\n      <td>3</td>\n      <td>57.621822</td>\n      <td>27.947733</td>\n      <td>33.538899</td>\n      <td>57.964655</td>\n    </tr>\n    <tr>\n      <th>1</th>\n      <td>2</td>\n      <td>16.0</td>\n      <td>Masculino</td>\n      <td>Urbana</td>\n      <td>Sí</td>\n      <td>Uso propio (solo lo usas tú)</td>\n      <td>Titulo universitario</td>\n      <td>Técnico o tecnólogo</td>\n      <td>Trabaja</td>\n      <td>Trabaja</td>\n      <td>...</td>\n      <td>5</td>\n      <td>5</td>\n      <td>5</td>\n      <td>5</td>\n      <td>5</td>\n      <td>5</td>\n      <td>75.000000</td>\n      <td>94.909586</td>\n      <td>100.000000</td>\n      <td>43.645839</td>\n    </tr>\n    <tr>\n      <th>2</th>\n      <td>3</td>\n      <td>14.0</td>\n      <td>Femenino</td>\n      <td>Urbana</td>\n      <td>Sí</td>\n      <td>Uso compartido con otras personas</td>\n      <td>Secundaría</td>\n      <td>Secundaría</td>\n      <td>Trabaja</td>\n      <td>Trabaja</td>\n      <td>...</td>\n      <td>1</td>\n      <td>1</td>\n      <td>3</td>\n      <td>2</td>\n      <td>2</td>\n      <td>2</td>\n      <td>79.713983</td>\n      <td>9.673025</td>\n      <td>18.956357</td>\n      <td>53.191716</td>\n    </tr>\n    <tr>\n      <th>3</th>\n      <td>4</td>\n      <td>15.0</td>\n      <td>Masculino</td>\n      <td>Urbana</td>\n      <td>No</td>\n      <td>No tengo acceso a ningún dispositivo electrónico</td>\n      <td>No sé</td>\n      <td>No sé</td>\n      <td>Trabaja</td>\n      <td>Trabaja</td>\n      <td>...</td>\n      <td>4</td>\n      <td>4</td>\n      <td>4</td>\n      <td>1</td>\n      <td>3</td>\n      <td>5</td>\n      <td>92.521186</td>\n      <td>46.643547</td>\n      <td>61.034156</td>\n      <td>43.645839</td>\n    </tr>\n    <tr>\n      <th>4</th>\n      <td>5</td>\n      <td>14.0</td>\n      <td>Femenino</td>\n      <td>Urbana</td>\n      <td>Sí</td>\n      <td>Uso compartido con otras personas</td>\n      <td>Titulo universitario</td>\n      <td>Secundaría</td>\n      <td>Trabaja</td>\n      <td>Trabaja</td>\n      <td>...</td>\n      <td>3</td>\n      <td>3</td>\n      <td>4</td>\n      <td>3</td>\n      <td>3</td>\n      <td>3</td>\n      <td>71.461864</td>\n      <td>52.415160</td>\n      <td>50.000000</td>\n      <td>53.191716</td>\n    </tr>\n    <tr>\n      <th>...</th>\n      <td>...</td>\n      <td>...</td>\n      <td>...</td>\n      <td>...</td>\n      <td>...</td>\n      <td>...</td>\n      <td>...</td>\n      <td>...</td>\n      <td>...</td>\n      <td>...</td>\n      <td>...</td>\n      <td>...</td>\n      <td>...</td>\n      <td>...</td>\n      <td>...</td>\n      <td>...</td>\n      <td>...</td>\n      <td>...</td>\n      <td>...</td>\n      <td>...</td>\n      <td>...</td>\n    </tr>\n    <tr>\n      <th>16464</th>\n      <td>18656</td>\n      <td>14.0</td>\n      <td>Femenino</td>\n      <td>Urbana</td>\n      <td>Sí</td>\n      <td>Uso propio (solo lo usas tú)</td>\n      <td>Técnico o tecnólogo</td>\n      <td>No sé</td>\n      <td>Trabaja</td>\n      <td>No sé</td>\n      <td>...</td>\n      <td>1</td>\n      <td>3</td>\n      <td>1</td>\n      <td>1</td>\n      <td>3</td>\n      <td>4</td>\n      <td>82.319915</td>\n      <td>9.573941</td>\n      <td>47.846300</td>\n      <td>48.418777</td>\n    </tr>\n    <tr>\n      <th>16465</th>\n      <td>18658</td>\n      <td>13.0</td>\n      <td>Femenino</td>\n      <td>Urbana</td>\n      <td>Sí</td>\n      <td>Uso propio (solo lo usas tú)</td>\n      <td>Maestría</td>\n      <td>Maestría</td>\n      <td>Trabaja</td>\n      <td>Trabaja</td>\n      <td>...</td>\n      <td>3</td>\n      <td>3</td>\n      <td>2</td>\n      <td>4</td>\n      <td>5</td>\n      <td>5</td>\n      <td>100.000000</td>\n      <td>37.521675</td>\n      <td>83.263757</td>\n      <td>57.964655</td>\n    </tr>\n    <tr>\n      <th>16466</th>\n      <td>18659</td>\n      <td>11.0</td>\n      <td>Femenino</td>\n      <td>Urbana</td>\n      <td>No</td>\n      <td>No tengo acceso a ningún dispositivo electrónico</td>\n      <td>No sé</td>\n      <td>No sé</td>\n      <td>Cuida el hogar</td>\n      <td>Trabaja</td>\n      <td>...</td>\n      <td>1</td>\n      <td>1</td>\n      <td>1</td>\n      <td>1</td>\n      <td>1</td>\n      <td>1</td>\n      <td>50.000000</td>\n      <td>0.000000</td>\n      <td>0.000000</td>\n      <td>34.099961</td>\n    </tr>\n    <tr>\n      <th>16467</th>\n      <td>18660</td>\n      <td>11.0</td>\n      <td>Femenino</td>\n      <td>Urbana</td>\n      <td>Sí</td>\n      <td>No tengo acceso a ningún dispositivo electrónico</td>\n      <td>Secundaría</td>\n      <td>Secundaría</td>\n      <td>Trabaja</td>\n      <td>Trabaja</td>\n      <td>...</td>\n      <td>1</td>\n      <td>1</td>\n      <td>1</td>\n      <td>1</td>\n      <td>1</td>\n      <td>1</td>\n      <td>75.000000</td>\n      <td>0.000000</td>\n      <td>0.000000</td>\n      <td>34.099961</td>\n    </tr>\n    <tr>\n      <th>16468</th>\n      <td>18661</td>\n      <td>11.0</td>\n      <td>Masculino</td>\n      <td>Urbana</td>\n      <td>No</td>\n      <td>No tengo acceso a ningún dispositivo electrónico</td>\n      <td>No sé</td>\n      <td>No sé</td>\n      <td>Cuida el hogar</td>\n      <td>Trabaja</td>\n      <td>...</td>\n      <td>1</td>\n      <td>1</td>\n      <td>1</td>\n      <td>1</td>\n      <td>1</td>\n      <td>1</td>\n      <td>0.000000</td>\n      <td>0.000000</td>\n      <td>0.000000</td>\n      <td>34.099961</td>\n    </tr>\n  </tbody>\n</table>\n<p>16469 rows × 49 columns</p>\n</div>"
     },
     "execution_count": 56,
     "metadata": {},
     "output_type": "execute_result"
    }
   ],
   "source": [
    "df_estudiantes"
   ],
   "metadata": {
    "collapsed": false,
    "pycharm": {
     "name": "#%%\n"
    }
   }
  },
  {
   "cell_type": "code",
   "execution_count": 57,
   "outputs": [],
   "source": [
    "estudiantes = pd.merge(est, df_estudiantes[['N registro', 'conocimiento', 'autoeficaciaPC', 'autoeficaciaProg', 'medioambiente']])"
   ],
   "metadata": {
    "collapsed": false,
    "pycharm": {
     "name": "#%%\n"
    }
   }
  },
  {
   "cell_type": "code",
   "execution_count": 60,
   "metadata": {
    "collapsed": false,
    "jupyter": {
     "outputs_hidden": false
    },
    "pycharm": {
     "name": "#%%\n"
    }
   },
   "outputs": [
    {
     "data": {
      "text/plain": "       N registro  Puntaje interes  Interesado en tecnologia\n0               1            100.0                         1\n1               2             50.0                         1\n2               3             50.0                         1\n3               4            100.0                         1\n4               5              0.0                         0\n...           ...              ...                       ...\n16464       18656              0.0                         0\n16465       18658             50.0                         1\n16466       18659              0.0                         0\n16467       18660            100.0                         1\n16468       18661             50.0                         1\n\n[16469 rows x 3 columns]",
      "text/html": "<div>\n<style scoped>\n    .dataframe tbody tr th:only-of-type {\n        vertical-align: middle;\n    }\n\n    .dataframe tbody tr th {\n        vertical-align: top;\n    }\n\n    .dataframe thead th {\n        text-align: right;\n    }\n</style>\n<table border=\"1\" class=\"dataframe\">\n  <thead>\n    <tr style=\"text-align: right;\">\n      <th></th>\n      <th>N registro</th>\n      <th>Puntaje interes</th>\n      <th>Interesado en tecnologia</th>\n    </tr>\n  </thead>\n  <tbody>\n    <tr>\n      <th>0</th>\n      <td>1</td>\n      <td>100.0</td>\n      <td>1</td>\n    </tr>\n    <tr>\n      <th>1</th>\n      <td>2</td>\n      <td>50.0</td>\n      <td>1</td>\n    </tr>\n    <tr>\n      <th>2</th>\n      <td>3</td>\n      <td>50.0</td>\n      <td>1</td>\n    </tr>\n    <tr>\n      <th>3</th>\n      <td>4</td>\n      <td>100.0</td>\n      <td>1</td>\n    </tr>\n    <tr>\n      <th>4</th>\n      <td>5</td>\n      <td>0.0</td>\n      <td>0</td>\n    </tr>\n    <tr>\n      <th>...</th>\n      <td>...</td>\n      <td>...</td>\n      <td>...</td>\n    </tr>\n    <tr>\n      <th>16464</th>\n      <td>18656</td>\n      <td>0.0</td>\n      <td>0</td>\n    </tr>\n    <tr>\n      <th>16465</th>\n      <td>18658</td>\n      <td>50.0</td>\n      <td>1</td>\n    </tr>\n    <tr>\n      <th>16466</th>\n      <td>18659</td>\n      <td>0.0</td>\n      <td>0</td>\n    </tr>\n    <tr>\n      <th>16467</th>\n      <td>18660</td>\n      <td>100.0</td>\n      <td>1</td>\n    </tr>\n    <tr>\n      <th>16468</th>\n      <td>18661</td>\n      <td>50.0</td>\n      <td>1</td>\n    </tr>\n  </tbody>\n</table>\n<p>16469 rows × 3 columns</p>\n</div>"
     },
     "execution_count": 60,
     "metadata": {},
     "output_type": "execute_result"
    }
   ],
   "source": [
    "df_interes = est[['N registro']+col_interes].melt(id_vars='N registro', value_name='Seleccion', var_name='Pregunta')\n",
    "df_interes['Interes en tecnologia'] = 1*(df_interes['Seleccion'].str.contains('Tecnología'))\n",
    "df_puntaje_interes = df_interes.pivot_table(index='N registro', values=['Interes en tecnologia'], aggfunc=['sum', 'max']).reset_index()\n",
    "df_puntaje_interes.columns = ['N registro', 'Puntaje interes', 'Interesado en tecnologia']\n",
    "df_puntaje_interes['Puntaje interes'] = 100*(df_puntaje_interes['Puntaje interes']/2)\n",
    "#df_puntaje_interes = (100*df_interes.groupby('index')['Interes en tecnologia'].sum()/4).reset_index()\n",
    "df_puntaje_interes"
   ]
  },
  {
   "cell_type": "code",
   "execution_count": 63,
   "metadata": {
    "collapsed": false,
    "jupyter": {
     "outputs_hidden": false
    },
    "pycharm": {
     "name": "#%%\n"
    }
   },
   "outputs": [
    {
     "data": {
      "text/plain": "       N registro Deseo participar en el estudio  Código IE  Grupo  \\\n0               1                             Sí        166      2   \n1               2                             Sí        166      2   \n2               3                             Sí        166      2   \n3               4                             Sí        166      2   \n4               5                             Sí        166      2   \n...           ...                            ...        ...    ...   \n16464       18656                             Sí        208      4   \n16465       18658                             Sí        208      4   \n16466       18659                             Sí        113      4   \n16467       18660                             Sí        113      4   \n16468       18661                             Sí        113      4   \n\n                             Nombre  Fecha         ID  Número de lista  Edad  \\\n0                               NaN  19/04  166090203                3  14.0   \n1                               NaN  19/04  166090207                7  16.0   \n2                               NaN  19/04  166090230               30  14.0   \n3                               NaN  19/04  166090206                6  15.0   \n4                               NaN  19/04  166090210               10  14.0   \n...                             ...    ...        ...              ...   ...   \n16464      Juanita Ramírez Saavedra  26/05  208090424               24  14.0   \n16465   Aura Alicia Mendoza Salinas  26/05  208090415               15  13.0   \n16466   Yarley Andrea Araujo Florez  26/05  113060401                1  11.0   \n16467         Yuliana Ayala Pacheco  26/05  113060403                3  11.0   \n16468  Carlos Miguel Aldana Barrera  26/05  113060402                2  11.0   \n\n            Sexo  ... Tipo de discapacidad  \\\n0      Masculino  ...                  NaN   \n1      Masculino  ...                  NaN   \n2       Femenino  ...                  NaN   \n3      Masculino  ...                  NaN   \n4       Femenino  ...                  NaN   \n...          ...  ...                  ...   \n16464   Femenino  ...                  NaN   \n16465   Femenino  ...                  NaN   \n16466   Femenino  ...                  NaN   \n16467   Femenino  ...                  NaN   \n16468  Masculino  ...                  NaN   \n\n      ¿Te reconoces como una persona con algún tipo de discapacidad?  \\\n0                                                     No               \n1                                                     No               \n2                                                     No               \n3                                                     No               \n4                                                     No               \n...                                                  ...               \n16464                                                 No               \n16465                                                 No               \n16466                                                 No               \n16467                                                 No               \n16468                                                 No               \n\n      Conoce GreenTIC           Instrumento conocimiento autoeficaciaPC  \\\n0                  No  Encuesta estudiantes    57.964655      27.947733   \n1                  No  Encuesta estudiantes    43.645839      94.909586   \n2                  No  Encuesta estudiantes    53.191716       9.673025   \n3                  No  Encuesta estudiantes    43.645839      46.643547   \n4                  No  Encuesta estudiantes    53.191716      52.415160   \n...               ...                   ...          ...            ...   \n16464              No  Encuesta estudiantes    48.418777       9.573941   \n16465              No  Encuesta estudiantes    57.964655      37.521675   \n16466              No  Encuesta estudiantes    34.099961       0.000000   \n16467              No  Encuesta estudiantes    34.099961       0.000000   \n16468              No  Encuesta estudiantes    34.099961       0.000000   \n\n      autoeficaciaProg medioambiente  Puntaje interes Interesado en tecnologia  \n0            33.538899     57.621822            100.0                        1  \n1           100.000000     75.000000             50.0                        1  \n2            18.956357     79.713983             50.0                        1  \n3            61.034156     92.521186            100.0                        1  \n4            50.000000     71.461864              0.0                        0  \n...                ...           ...              ...                      ...  \n16464        47.846300     82.319915              0.0                        0  \n16465        83.263757    100.000000             50.0                        1  \n16466         0.000000     50.000000              0.0                        0  \n16467         0.000000     75.000000            100.0                        1  \n16468         0.000000      0.000000             50.0                        1  \n\n[16469 rows x 80 columns]",
      "text/html": "<div>\n<style scoped>\n    .dataframe tbody tr th:only-of-type {\n        vertical-align: middle;\n    }\n\n    .dataframe tbody tr th {\n        vertical-align: top;\n    }\n\n    .dataframe thead th {\n        text-align: right;\n    }\n</style>\n<table border=\"1\" class=\"dataframe\">\n  <thead>\n    <tr style=\"text-align: right;\">\n      <th></th>\n      <th>N registro</th>\n      <th>Deseo participar en el estudio</th>\n      <th>Código IE</th>\n      <th>Grupo</th>\n      <th>Nombre</th>\n      <th>Fecha</th>\n      <th>ID</th>\n      <th>Número de lista</th>\n      <th>Edad</th>\n      <th>Sexo</th>\n      <th>...</th>\n      <th>Tipo de discapacidad</th>\n      <th>¿Te reconoces como una persona con algún tipo de discapacidad?</th>\n      <th>Conoce GreenTIC</th>\n      <th>Instrumento</th>\n      <th>conocimiento</th>\n      <th>autoeficaciaPC</th>\n      <th>autoeficaciaProg</th>\n      <th>medioambiente</th>\n      <th>Puntaje interes</th>\n      <th>Interesado en tecnologia</th>\n    </tr>\n  </thead>\n  <tbody>\n    <tr>\n      <th>0</th>\n      <td>1</td>\n      <td>Sí</td>\n      <td>166</td>\n      <td>2</td>\n      <td>NaN</td>\n      <td>19/04</td>\n      <td>166090203</td>\n      <td>3</td>\n      <td>14.0</td>\n      <td>Masculino</td>\n      <td>...</td>\n      <td>NaN</td>\n      <td>No</td>\n      <td>No</td>\n      <td>Encuesta estudiantes</td>\n      <td>57.964655</td>\n      <td>27.947733</td>\n      <td>33.538899</td>\n      <td>57.621822</td>\n      <td>100.0</td>\n      <td>1</td>\n    </tr>\n    <tr>\n      <th>1</th>\n      <td>2</td>\n      <td>Sí</td>\n      <td>166</td>\n      <td>2</td>\n      <td>NaN</td>\n      <td>19/04</td>\n      <td>166090207</td>\n      <td>7</td>\n      <td>16.0</td>\n      <td>Masculino</td>\n      <td>...</td>\n      <td>NaN</td>\n      <td>No</td>\n      <td>No</td>\n      <td>Encuesta estudiantes</td>\n      <td>43.645839</td>\n      <td>94.909586</td>\n      <td>100.000000</td>\n      <td>75.000000</td>\n      <td>50.0</td>\n      <td>1</td>\n    </tr>\n    <tr>\n      <th>2</th>\n      <td>3</td>\n      <td>Sí</td>\n      <td>166</td>\n      <td>2</td>\n      <td>NaN</td>\n      <td>19/04</td>\n      <td>166090230</td>\n      <td>30</td>\n      <td>14.0</td>\n      <td>Femenino</td>\n      <td>...</td>\n      <td>NaN</td>\n      <td>No</td>\n      <td>No</td>\n      <td>Encuesta estudiantes</td>\n      <td>53.191716</td>\n      <td>9.673025</td>\n      <td>18.956357</td>\n      <td>79.713983</td>\n      <td>50.0</td>\n      <td>1</td>\n    </tr>\n    <tr>\n      <th>3</th>\n      <td>4</td>\n      <td>Sí</td>\n      <td>166</td>\n      <td>2</td>\n      <td>NaN</td>\n      <td>19/04</td>\n      <td>166090206</td>\n      <td>6</td>\n      <td>15.0</td>\n      <td>Masculino</td>\n      <td>...</td>\n      <td>NaN</td>\n      <td>No</td>\n      <td>No</td>\n      <td>Encuesta estudiantes</td>\n      <td>43.645839</td>\n      <td>46.643547</td>\n      <td>61.034156</td>\n      <td>92.521186</td>\n      <td>100.0</td>\n      <td>1</td>\n    </tr>\n    <tr>\n      <th>4</th>\n      <td>5</td>\n      <td>Sí</td>\n      <td>166</td>\n      <td>2</td>\n      <td>NaN</td>\n      <td>19/04</td>\n      <td>166090210</td>\n      <td>10</td>\n      <td>14.0</td>\n      <td>Femenino</td>\n      <td>...</td>\n      <td>NaN</td>\n      <td>No</td>\n      <td>No</td>\n      <td>Encuesta estudiantes</td>\n      <td>53.191716</td>\n      <td>52.415160</td>\n      <td>50.000000</td>\n      <td>71.461864</td>\n      <td>0.0</td>\n      <td>0</td>\n    </tr>\n    <tr>\n      <th>...</th>\n      <td>...</td>\n      <td>...</td>\n      <td>...</td>\n      <td>...</td>\n      <td>...</td>\n      <td>...</td>\n      <td>...</td>\n      <td>...</td>\n      <td>...</td>\n      <td>...</td>\n      <td>...</td>\n      <td>...</td>\n      <td>...</td>\n      <td>...</td>\n      <td>...</td>\n      <td>...</td>\n      <td>...</td>\n      <td>...</td>\n      <td>...</td>\n      <td>...</td>\n      <td>...</td>\n    </tr>\n    <tr>\n      <th>16464</th>\n      <td>18656</td>\n      <td>Sí</td>\n      <td>208</td>\n      <td>4</td>\n      <td>Juanita Ramírez Saavedra</td>\n      <td>26/05</td>\n      <td>208090424</td>\n      <td>24</td>\n      <td>14.0</td>\n      <td>Femenino</td>\n      <td>...</td>\n      <td>NaN</td>\n      <td>No</td>\n      <td>No</td>\n      <td>Encuesta estudiantes</td>\n      <td>48.418777</td>\n      <td>9.573941</td>\n      <td>47.846300</td>\n      <td>82.319915</td>\n      <td>0.0</td>\n      <td>0</td>\n    </tr>\n    <tr>\n      <th>16465</th>\n      <td>18658</td>\n      <td>Sí</td>\n      <td>208</td>\n      <td>4</td>\n      <td>Aura Alicia Mendoza Salinas</td>\n      <td>26/05</td>\n      <td>208090415</td>\n      <td>15</td>\n      <td>13.0</td>\n      <td>Femenino</td>\n      <td>...</td>\n      <td>NaN</td>\n      <td>No</td>\n      <td>No</td>\n      <td>Encuesta estudiantes</td>\n      <td>57.964655</td>\n      <td>37.521675</td>\n      <td>83.263757</td>\n      <td>100.000000</td>\n      <td>50.0</td>\n      <td>1</td>\n    </tr>\n    <tr>\n      <th>16466</th>\n      <td>18659</td>\n      <td>Sí</td>\n      <td>113</td>\n      <td>4</td>\n      <td>Yarley Andrea Araujo Florez</td>\n      <td>26/05</td>\n      <td>113060401</td>\n      <td>1</td>\n      <td>11.0</td>\n      <td>Femenino</td>\n      <td>...</td>\n      <td>NaN</td>\n      <td>No</td>\n      <td>No</td>\n      <td>Encuesta estudiantes</td>\n      <td>34.099961</td>\n      <td>0.000000</td>\n      <td>0.000000</td>\n      <td>50.000000</td>\n      <td>0.0</td>\n      <td>0</td>\n    </tr>\n    <tr>\n      <th>16467</th>\n      <td>18660</td>\n      <td>Sí</td>\n      <td>113</td>\n      <td>4</td>\n      <td>Yuliana Ayala Pacheco</td>\n      <td>26/05</td>\n      <td>113060403</td>\n      <td>3</td>\n      <td>11.0</td>\n      <td>Femenino</td>\n      <td>...</td>\n      <td>NaN</td>\n      <td>No</td>\n      <td>No</td>\n      <td>Encuesta estudiantes</td>\n      <td>34.099961</td>\n      <td>0.000000</td>\n      <td>0.000000</td>\n      <td>75.000000</td>\n      <td>100.0</td>\n      <td>1</td>\n    </tr>\n    <tr>\n      <th>16468</th>\n      <td>18661</td>\n      <td>Sí</td>\n      <td>113</td>\n      <td>4</td>\n      <td>Carlos Miguel Aldana Barrera</td>\n      <td>26/05</td>\n      <td>113060402</td>\n      <td>2</td>\n      <td>11.0</td>\n      <td>Masculino</td>\n      <td>...</td>\n      <td>NaN</td>\n      <td>No</td>\n      <td>No</td>\n      <td>Encuesta estudiantes</td>\n      <td>34.099961</td>\n      <td>0.000000</td>\n      <td>0.000000</td>\n      <td>0.000000</td>\n      <td>50.0</td>\n      <td>1</td>\n    </tr>\n  </tbody>\n</table>\n<p>16469 rows × 80 columns</p>\n</div>"
     },
     "execution_count": 63,
     "metadata": {},
     "output_type": "execute_result"
    }
   ],
   "source": [
    "df_7 = pd.merge(estudiantes, df_puntaje_interes, on='N registro')\n",
    "df_7"
   ]
  },
  {
   "cell_type": "code",
   "execution_count": 66,
   "outputs": [
    {
     "data": {
      "text/plain": "62.04266068052876"
     },
     "execution_count": 66,
     "metadata": {},
     "output_type": "execute_result"
    }
   ],
   "source": [
    "df_7['autoeficaciaProg'].mean()"
   ],
   "metadata": {
    "collapsed": false,
    "pycharm": {
     "name": "#%%\n"
    }
   }
  },
  {
   "cell_type": "code",
   "execution_count": 67,
   "metadata": {
    "collapsed": false,
    "jupyter": {
     "outputs_hidden": false
    },
    "pycharm": {
     "name": "#%%\n"
    }
   },
   "outputs": [],
   "source": [
    "df_7['Media autoeficaciaProg'] = df_7['autoeficaciaProg'].mean()\n",
    "df_7['Media autoeficaciaPC'] = df_7['autoeficaciaPC'].mean()"
   ]
  },
  {
   "cell_type": "code",
   "execution_count": 21,
   "metadata": {
    "collapsed": false,
    "jupyter": {
     "outputs_hidden": false
    },
    "pycharm": {
     "name": "#%%\n"
    }
   },
   "outputs": [],
   "source": [
    "df_7['Media nacional interés'] = df_7['Puntaje interes'].mean()\n"
   ]
  },
  {
   "cell_type": "markdown",
   "metadata": {
    "collapsed": false,
    "jupyter": {
     "outputs_hidden": false
    },
    "pycharm": {
     "name": "#%% md\n"
    }
   },
   "source": [
    "### Calificar Dimensión"
   ]
  },
  {
   "cell_type": "code",
   "execution_count": 23,
   "metadata": {
    "collapsed": false,
    "jupyter": {
     "outputs_hidden": false
    },
    "pycharm": {
     "name": "#%%\n"
    }
   },
   "outputs": [],
   "source": [
    "cols_dimension7 = ['Puntaje conocimiento', 'Media nacional resultados','Puntaje interes', 'Interesado en tecnologia', 'Conoce PC', 'Puntaje conocimientos PC', 'Puntaje autoeficacia', 'Media nacional autoeficacia', 'Media nacional interés', 'index']\n",
    "agrupadores_dimension7 = ['mean', 'max', 'mean', 'sum', 'sum', 'mean','mean', 'max', 'max', 'count']\n",
    "agg_funcs = dict(zip(cols_dimension7, agrupadores_dimension7))"
   ]
  },
  {
   "cell_type": "code",
   "execution_count": 24,
   "metadata": {
    "collapsed": false,
    "jupyter": {
     "outputs_hidden": false
    },
    "pycharm": {
     "name": "#%%\n"
    }
   },
   "outputs": [],
   "source": [
    "df_institucion = df_7.pivot_table(index=['Código IE'], values=cols_dimension7, aggfunc=agg_funcs).rename(columns={'index':'Cantidad estudiantes'})\n",
    "df_institucion['% Conoce PC'] = (df_institucion['Conoce PC']/df_institucion['Cantidad estudiantes'])*100\n",
    "df_institucion['% Interesado'] = (df_institucion['Interesado en tecnologia']/df_institucion['Cantidad estudiantes'])*100"
   ]
  },
  {
   "cell_type": "code",
   "execution_count": 25,
   "metadata": {
    "collapsed": false,
    "jupyter": {
     "outputs_hidden": false
    },
    "pycharm": {
     "name": "#%%\n"
    }
   },
   "outputs": [],
   "source": [
    "df_institucion['Diferencia resultados'] = (df_institucion['Puntaje conocimiento'] - df_institucion['Media nacional resultados'])*100/df_institucion['Media nacional resultados']\n",
    "\n",
    "df_institucion['Diferencia Autoeficacia'] = (df_institucion['Puntaje autoeficacia'] - df_institucion['Media nacional autoeficacia'])*100/df_institucion['Media nacional autoeficacia']\n",
    "\n",
    "df_institucion['Diferencia interes'] = (df_institucion['Puntaje interes'] - df_institucion['Media nacional interés'])*100/df_institucion['Media nacional interés']"
   ]
  },
  {
   "cell_type": "code",
   "execution_count": 26,
   "metadata": {
    "collapsed": false,
    "jupyter": {
     "outputs_hidden": false
    },
    "pycharm": {
     "name": "#%%\n"
    }
   },
   "outputs": [
    {
     "data": {
      "text/html": [
       "<div>\n",
       "<style scoped>\n",
       "    .dataframe tbody tr th:only-of-type {\n",
       "        vertical-align: middle;\n",
       "    }\n",
       "\n",
       "    .dataframe tbody tr th {\n",
       "        vertical-align: top;\n",
       "    }\n",
       "\n",
       "    .dataframe thead th {\n",
       "        text-align: right;\n",
       "    }\n",
       "</style>\n",
       "<table border=\"1\" class=\"dataframe\">\n",
       "  <thead>\n",
       "    <tr style=\"text-align: right;\">\n",
       "      <th></th>\n",
       "      <th>Conoce PC</th>\n",
       "      <th>Interesado en tecnologia</th>\n",
       "      <th>Media nacional autoeficacia</th>\n",
       "      <th>Media nacional interés</th>\n",
       "      <th>Media nacional resultados</th>\n",
       "      <th>Puntaje autoeficacia</th>\n",
       "      <th>Puntaje conocimiento</th>\n",
       "      <th>Puntaje conocimientos PC</th>\n",
       "      <th>Puntaje interes</th>\n",
       "      <th>Cantidad estudiantes</th>\n",
       "      <th>% Conoce PC</th>\n",
       "      <th>% Interesado</th>\n",
       "      <th>Diferencia resultados</th>\n",
       "      <th>Diferencia Autoeficacia</th>\n",
       "      <th>Diferencia interes</th>\n",
       "    </tr>\n",
       "    <tr>\n",
       "      <th>Código IE</th>\n",
       "      <th></th>\n",
       "      <th></th>\n",
       "      <th></th>\n",
       "      <th></th>\n",
       "      <th></th>\n",
       "      <th></th>\n",
       "      <th></th>\n",
       "      <th></th>\n",
       "      <th></th>\n",
       "      <th></th>\n",
       "      <th></th>\n",
       "      <th></th>\n",
       "      <th></th>\n",
       "      <th></th>\n",
       "      <th></th>\n",
       "    </tr>\n",
       "  </thead>\n",
       "  <tbody>\n",
       "    <tr>\n",
       "      <th>1.0</th>\n",
       "      <td>90</td>\n",
       "      <td>109</td>\n",
       "      <td>66.752077</td>\n",
       "      <td>40.633652</td>\n",
       "      <td>32.216324</td>\n",
       "      <td>69.466667</td>\n",
       "      <td>28.363636</td>\n",
       "      <td>58.566667</td>\n",
       "      <td>36.333333</td>\n",
       "      <td>150</td>\n",
       "      <td>60.000000</td>\n",
       "      <td>72.666667</td>\n",
       "      <td>-11.958805</td>\n",
       "      <td>4.066675</td>\n",
       "      <td>-10.583146</td>\n",
       "    </tr>\n",
       "    <tr>\n",
       "      <th>2.0</th>\n",
       "      <td>35</td>\n",
       "      <td>53</td>\n",
       "      <td>66.752077</td>\n",
       "      <td>40.633652</td>\n",
       "      <td>32.216324</td>\n",
       "      <td>59.104478</td>\n",
       "      <td>24.830393</td>\n",
       "      <td>51.492537</td>\n",
       "      <td>47.388060</td>\n",
       "      <td>67</td>\n",
       "      <td>52.238806</td>\n",
       "      <td>79.104478</td>\n",
       "      <td>-22.926049</td>\n",
       "      <td>-11.456721</td>\n",
       "      <td>16.622694</td>\n",
       "    </tr>\n",
       "    <tr>\n",
       "      <th>3.0</th>\n",
       "      <td>41</td>\n",
       "      <td>43</td>\n",
       "      <td>66.752077</td>\n",
       "      <td>40.633652</td>\n",
       "      <td>32.216324</td>\n",
       "      <td>69.904762</td>\n",
       "      <td>29.870130</td>\n",
       "      <td>59.761905</td>\n",
       "      <td>39.285714</td>\n",
       "      <td>63</td>\n",
       "      <td>65.079365</td>\n",
       "      <td>68.253968</td>\n",
       "      <td>-7.282625</td>\n",
       "      <td>4.722977</td>\n",
       "      <td>-3.317294</td>\n",
       "    </tr>\n",
       "    <tr>\n",
       "      <th>4.0</th>\n",
       "      <td>24</td>\n",
       "      <td>35</td>\n",
       "      <td>66.752077</td>\n",
       "      <td>40.633652</td>\n",
       "      <td>32.216324</td>\n",
       "      <td>66.222222</td>\n",
       "      <td>33.737374</td>\n",
       "      <td>59.555556</td>\n",
       "      <td>46.666667</td>\n",
       "      <td>45</td>\n",
       "      <td>53.333333</td>\n",
       "      <td>77.777778</td>\n",
       "      <td>4.721364</td>\n",
       "      <td>-0.793765</td>\n",
       "      <td>14.847335</td>\n",
       "    </tr>\n",
       "    <tr>\n",
       "      <th>5.0</th>\n",
       "      <td>69</td>\n",
       "      <td>99</td>\n",
       "      <td>66.752077</td>\n",
       "      <td>40.633652</td>\n",
       "      <td>32.216324</td>\n",
       "      <td>73.981651</td>\n",
       "      <td>30.942452</td>\n",
       "      <td>61.422018</td>\n",
       "      <td>55.504587</td>\n",
       "      <td>109</td>\n",
       "      <td>63.302752</td>\n",
       "      <td>90.825688</td>\n",
       "      <td>-3.954119</td>\n",
       "      <td>10.830487</td>\n",
       "      <td>36.597584</td>\n",
       "    </tr>\n",
       "    <tr>\n",
       "      <th>...</th>\n",
       "      <td>...</td>\n",
       "      <td>...</td>\n",
       "      <td>...</td>\n",
       "      <td>...</td>\n",
       "      <td>...</td>\n",
       "      <td>...</td>\n",
       "      <td>...</td>\n",
       "      <td>...</td>\n",
       "      <td>...</td>\n",
       "      <td>...</td>\n",
       "      <td>...</td>\n",
       "      <td>...</td>\n",
       "      <td>...</td>\n",
       "      <td>...</td>\n",
       "      <td>...</td>\n",
       "    </tr>\n",
       "    <tr>\n",
       "      <th>250.0</th>\n",
       "      <td>37</td>\n",
       "      <td>50</td>\n",
       "      <td>66.752077</td>\n",
       "      <td>40.633652</td>\n",
       "      <td>32.216324</td>\n",
       "      <td>62.024096</td>\n",
       "      <td>23.767798</td>\n",
       "      <td>54.337349</td>\n",
       "      <td>24.397590</td>\n",
       "      <td>83</td>\n",
       "      <td>44.578313</td>\n",
       "      <td>60.240964</td>\n",
       "      <td>-26.224362</td>\n",
       "      <td>-7.082896</td>\n",
       "      <td>-39.957181</td>\n",
       "    </tr>\n",
       "    <tr>\n",
       "      <th>251.0</th>\n",
       "      <td>81</td>\n",
       "      <td>77</td>\n",
       "      <td>66.752077</td>\n",
       "      <td>40.633652</td>\n",
       "      <td>32.216324</td>\n",
       "      <td>66.909091</td>\n",
       "      <td>25.770098</td>\n",
       "      <td>59.504132</td>\n",
       "      <td>27.479339</td>\n",
       "      <td>121</td>\n",
       "      <td>66.942149</td>\n",
       "      <td>63.636364</td>\n",
       "      <td>-20.009192</td>\n",
       "      <td>0.235220</td>\n",
       "      <td>-32.372953</td>\n",
       "    </tr>\n",
       "    <tr>\n",
       "      <th>252.0</th>\n",
       "      <td>37</td>\n",
       "      <td>42</td>\n",
       "      <td>66.752077</td>\n",
       "      <td>40.633652</td>\n",
       "      <td>32.216324</td>\n",
       "      <td>62.714286</td>\n",
       "      <td>24.188312</td>\n",
       "      <td>57.946429</td>\n",
       "      <td>33.035714</td>\n",
       "      <td>56</td>\n",
       "      <td>66.071429</td>\n",
       "      <td>75.000000</td>\n",
       "      <td>-24.919082</td>\n",
       "      <td>-6.048937</td>\n",
       "      <td>-18.698634</td>\n",
       "    </tr>\n",
       "    <tr>\n",
       "      <th>259.0</th>\n",
       "      <td>1</td>\n",
       "      <td>0</td>\n",
       "      <td>66.752077</td>\n",
       "      <td>40.633652</td>\n",
       "      <td>32.216324</td>\n",
       "      <td>60.000000</td>\n",
       "      <td>9.090909</td>\n",
       "      <td>85.000000</td>\n",
       "      <td>0.000000</td>\n",
       "      <td>1</td>\n",
       "      <td>100.000000</td>\n",
       "      <td>0.000000</td>\n",
       "      <td>-71.781668</td>\n",
       "      <td>-10.115156</td>\n",
       "      <td>-100.000000</td>\n",
       "    </tr>\n",
       "    <tr>\n",
       "      <th>297.0</th>\n",
       "      <td>1</td>\n",
       "      <td>1</td>\n",
       "      <td>66.752077</td>\n",
       "      <td>40.633652</td>\n",
       "      <td>32.216324</td>\n",
       "      <td>76.000000</td>\n",
       "      <td>27.272727</td>\n",
       "      <td>70.000000</td>\n",
       "      <td>25.000000</td>\n",
       "      <td>1</td>\n",
       "      <td>100.000000</td>\n",
       "      <td>100.000000</td>\n",
       "      <td>-15.345005</td>\n",
       "      <td>13.854136</td>\n",
       "      <td>-38.474642</td>\n",
       "    </tr>\n",
       "  </tbody>\n",
       "</table>\n",
       "<p>135 rows × 15 columns</p>\n",
       "</div>"
      ],
      "text/plain": [
       "           Conoce PC  Interesado en tecnologia  Media nacional autoeficacia  \\\n",
       "Código IE                                                                     \n",
       "1.0               90                       109                    66.752077   \n",
       "2.0               35                        53                    66.752077   \n",
       "3.0               41                        43                    66.752077   \n",
       "4.0               24                        35                    66.752077   \n",
       "5.0               69                        99                    66.752077   \n",
       "...              ...                       ...                          ...   \n",
       "250.0             37                        50                    66.752077   \n",
       "251.0             81                        77                    66.752077   \n",
       "252.0             37                        42                    66.752077   \n",
       "259.0              1                         0                    66.752077   \n",
       "297.0              1                         1                    66.752077   \n",
       "\n",
       "           Media nacional interés  Media nacional resultados  \\\n",
       "Código IE                                                      \n",
       "1.0                     40.633652                  32.216324   \n",
       "2.0                     40.633652                  32.216324   \n",
       "3.0                     40.633652                  32.216324   \n",
       "4.0                     40.633652                  32.216324   \n",
       "5.0                     40.633652                  32.216324   \n",
       "...                           ...                        ...   \n",
       "250.0                   40.633652                  32.216324   \n",
       "251.0                   40.633652                  32.216324   \n",
       "252.0                   40.633652                  32.216324   \n",
       "259.0                   40.633652                  32.216324   \n",
       "297.0                   40.633652                  32.216324   \n",
       "\n",
       "           Puntaje autoeficacia  Puntaje conocimiento  \\\n",
       "Código IE                                               \n",
       "1.0                   69.466667             28.363636   \n",
       "2.0                   59.104478             24.830393   \n",
       "3.0                   69.904762             29.870130   \n",
       "4.0                   66.222222             33.737374   \n",
       "5.0                   73.981651             30.942452   \n",
       "...                         ...                   ...   \n",
       "250.0                 62.024096             23.767798   \n",
       "251.0                 66.909091             25.770098   \n",
       "252.0                 62.714286             24.188312   \n",
       "259.0                 60.000000              9.090909   \n",
       "297.0                 76.000000             27.272727   \n",
       "\n",
       "           Puntaje conocimientos PC  Puntaje interes  Cantidad estudiantes  \\\n",
       "Código IE                                                                    \n",
       "1.0                       58.566667        36.333333                   150   \n",
       "2.0                       51.492537        47.388060                    67   \n",
       "3.0                       59.761905        39.285714                    63   \n",
       "4.0                       59.555556        46.666667                    45   \n",
       "5.0                       61.422018        55.504587                   109   \n",
       "...                             ...              ...                   ...   \n",
       "250.0                     54.337349        24.397590                    83   \n",
       "251.0                     59.504132        27.479339                   121   \n",
       "252.0                     57.946429        33.035714                    56   \n",
       "259.0                     85.000000         0.000000                     1   \n",
       "297.0                     70.000000        25.000000                     1   \n",
       "\n",
       "           % Conoce PC  % Interesado  Diferencia resultados  \\\n",
       "Código IE                                                     \n",
       "1.0          60.000000     72.666667             -11.958805   \n",
       "2.0          52.238806     79.104478             -22.926049   \n",
       "3.0          65.079365     68.253968              -7.282625   \n",
       "4.0          53.333333     77.777778               4.721364   \n",
       "5.0          63.302752     90.825688              -3.954119   \n",
       "...                ...           ...                    ...   \n",
       "250.0        44.578313     60.240964             -26.224362   \n",
       "251.0        66.942149     63.636364             -20.009192   \n",
       "252.0        66.071429     75.000000             -24.919082   \n",
       "259.0       100.000000      0.000000             -71.781668   \n",
       "297.0       100.000000    100.000000             -15.345005   \n",
       "\n",
       "           Diferencia Autoeficacia  Diferencia interes  \n",
       "Código IE                                               \n",
       "1.0                       4.066675          -10.583146  \n",
       "2.0                     -11.456721           16.622694  \n",
       "3.0                       4.722977           -3.317294  \n",
       "4.0                      -0.793765           14.847335  \n",
       "5.0                      10.830487           36.597584  \n",
       "...                            ...                 ...  \n",
       "250.0                    -7.082896          -39.957181  \n",
       "251.0                     0.235220          -32.372953  \n",
       "252.0                    -6.048937          -18.698634  \n",
       "259.0                   -10.115156         -100.000000  \n",
       "297.0                    13.854136          -38.474642  \n",
       "\n",
       "[135 rows x 15 columns]"
      ]
     },
     "execution_count": 26,
     "metadata": {},
     "output_type": "execute_result"
    }
   ],
   "source": [
    "df_institucion"
   ]
  },
  {
   "cell_type": "code",
   "execution_count": 27,
   "metadata": {
    "collapsed": false,
    "jupyter": {
     "outputs_hidden": false
    },
    "pycharm": {
     "name": "#%%\n"
    }
   },
   "outputs": [
    {
     "data": {
      "text/html": [
       "<div>\n",
       "<style scoped>\n",
       "    .dataframe tbody tr th:only-of-type {\n",
       "        vertical-align: middle;\n",
       "    }\n",
       "\n",
       "    .dataframe tbody tr th {\n",
       "        vertical-align: top;\n",
       "    }\n",
       "\n",
       "    .dataframe thead th {\n",
       "        text-align: right;\n",
       "    }\n",
       "</style>\n",
       "<table border=\"1\" class=\"dataframe\">\n",
       "  <thead>\n",
       "    <tr style=\"text-align: right;\">\n",
       "      <th></th>\n",
       "      <th>Conoce PC</th>\n",
       "      <th>Interesado en tecnologia</th>\n",
       "      <th>Media nacional autoeficacia</th>\n",
       "      <th>Media nacional interés</th>\n",
       "      <th>Media nacional resultados</th>\n",
       "      <th>Puntaje autoeficacia</th>\n",
       "      <th>Puntaje conocimiento</th>\n",
       "      <th>Puntaje conocimientos PC</th>\n",
       "      <th>Puntaje interes</th>\n",
       "      <th>Cantidad estudiantes</th>\n",
       "      <th>...</th>\n",
       "      <th>Diferencia resultados</th>\n",
       "      <th>Diferencia Autoeficacia</th>\n",
       "      <th>Diferencia interes</th>\n",
       "      <th>Nivel ConocePC</th>\n",
       "      <th>Nivel PuntajePC</th>\n",
       "      <th>Nivel Resultados</th>\n",
       "      <th>Nivel Interes</th>\n",
       "      <th>Nivel Interes pares</th>\n",
       "      <th>Nivel Autoeficacia</th>\n",
       "      <th>Nivel Autoeficacia pares</th>\n",
       "    </tr>\n",
       "    <tr>\n",
       "      <th>Código IE</th>\n",
       "      <th></th>\n",
       "      <th></th>\n",
       "      <th></th>\n",
       "      <th></th>\n",
       "      <th></th>\n",
       "      <th></th>\n",
       "      <th></th>\n",
       "      <th></th>\n",
       "      <th></th>\n",
       "      <th></th>\n",
       "      <th></th>\n",
       "      <th></th>\n",
       "      <th></th>\n",
       "      <th></th>\n",
       "      <th></th>\n",
       "      <th></th>\n",
       "      <th></th>\n",
       "      <th></th>\n",
       "      <th></th>\n",
       "      <th></th>\n",
       "      <th></th>\n",
       "    </tr>\n",
       "  </thead>\n",
       "  <tbody>\n",
       "    <tr>\n",
       "      <th>1.0</th>\n",
       "      <td>90</td>\n",
       "      <td>109</td>\n",
       "      <td>66.752077</td>\n",
       "      <td>40.633652</td>\n",
       "      <td>32.216324</td>\n",
       "      <td>69.466667</td>\n",
       "      <td>28.363636</td>\n",
       "      <td>58.566667</td>\n",
       "      <td>36.333333</td>\n",
       "      <td>150</td>\n",
       "      <td>...</td>\n",
       "      <td>-11.958805</td>\n",
       "      <td>4.066675</td>\n",
       "      <td>-10.583146</td>\n",
       "      <td>2B</td>\n",
       "      <td>1B</td>\n",
       "      <td>2A</td>\n",
       "      <td>2B</td>\n",
       "      <td>2B</td>\n",
       "      <td>4</td>\n",
       "      <td>2B</td>\n",
       "    </tr>\n",
       "    <tr>\n",
       "      <th>2.0</th>\n",
       "      <td>35</td>\n",
       "      <td>53</td>\n",
       "      <td>66.752077</td>\n",
       "      <td>40.633652</td>\n",
       "      <td>32.216324</td>\n",
       "      <td>59.104478</td>\n",
       "      <td>24.830393</td>\n",
       "      <td>51.492537</td>\n",
       "      <td>47.388060</td>\n",
       "      <td>67</td>\n",
       "      <td>...</td>\n",
       "      <td>-22.926049</td>\n",
       "      <td>-11.456721</td>\n",
       "      <td>16.622694</td>\n",
       "      <td>2B</td>\n",
       "      <td>1B</td>\n",
       "      <td>2A</td>\n",
       "      <td>2B</td>\n",
       "      <td>4</td>\n",
       "      <td>2A</td>\n",
       "      <td>2A</td>\n",
       "    </tr>\n",
       "    <tr>\n",
       "      <th>3.0</th>\n",
       "      <td>41</td>\n",
       "      <td>43</td>\n",
       "      <td>66.752077</td>\n",
       "      <td>40.633652</td>\n",
       "      <td>32.216324</td>\n",
       "      <td>69.904762</td>\n",
       "      <td>29.870130</td>\n",
       "      <td>59.761905</td>\n",
       "      <td>39.285714</td>\n",
       "      <td>63</td>\n",
       "      <td>...</td>\n",
       "      <td>-7.282625</td>\n",
       "      <td>4.722977</td>\n",
       "      <td>-3.317294</td>\n",
       "      <td>3</td>\n",
       "      <td>1B</td>\n",
       "      <td>2A</td>\n",
       "      <td>2B</td>\n",
       "      <td>2B</td>\n",
       "      <td>4</td>\n",
       "      <td>2B</td>\n",
       "    </tr>\n",
       "    <tr>\n",
       "      <th>4.0</th>\n",
       "      <td>24</td>\n",
       "      <td>35</td>\n",
       "      <td>66.752077</td>\n",
       "      <td>40.633652</td>\n",
       "      <td>32.216324</td>\n",
       "      <td>66.222222</td>\n",
       "      <td>33.737374</td>\n",
       "      <td>59.555556</td>\n",
       "      <td>46.666667</td>\n",
       "      <td>45</td>\n",
       "      <td>...</td>\n",
       "      <td>4.721364</td>\n",
       "      <td>-0.793765</td>\n",
       "      <td>14.847335</td>\n",
       "      <td>2B</td>\n",
       "      <td>1B</td>\n",
       "      <td>2B</td>\n",
       "      <td>2B</td>\n",
       "      <td>4</td>\n",
       "      <td>4</td>\n",
       "      <td>2A</td>\n",
       "    </tr>\n",
       "    <tr>\n",
       "      <th>5.0</th>\n",
       "      <td>69</td>\n",
       "      <td>99</td>\n",
       "      <td>66.752077</td>\n",
       "      <td>40.633652</td>\n",
       "      <td>32.216324</td>\n",
       "      <td>73.981651</td>\n",
       "      <td>30.942452</td>\n",
       "      <td>61.422018</td>\n",
       "      <td>55.504587</td>\n",
       "      <td>109</td>\n",
       "      <td>...</td>\n",
       "      <td>-3.954119</td>\n",
       "      <td>10.830487</td>\n",
       "      <td>36.597584</td>\n",
       "      <td>3</td>\n",
       "      <td>2A</td>\n",
       "      <td>2A</td>\n",
       "      <td>4</td>\n",
       "      <td>4</td>\n",
       "      <td>4</td>\n",
       "      <td>3</td>\n",
       "    </tr>\n",
       "    <tr>\n",
       "      <th>...</th>\n",
       "      <td>...</td>\n",
       "      <td>...</td>\n",
       "      <td>...</td>\n",
       "      <td>...</td>\n",
       "      <td>...</td>\n",
       "      <td>...</td>\n",
       "      <td>...</td>\n",
       "      <td>...</td>\n",
       "      <td>...</td>\n",
       "      <td>...</td>\n",
       "      <td>...</td>\n",
       "      <td>...</td>\n",
       "      <td>...</td>\n",
       "      <td>...</td>\n",
       "      <td>...</td>\n",
       "      <td>...</td>\n",
       "      <td>...</td>\n",
       "      <td>...</td>\n",
       "      <td>...</td>\n",
       "      <td>...</td>\n",
       "      <td>...</td>\n",
       "    </tr>\n",
       "    <tr>\n",
       "      <th>250.0</th>\n",
       "      <td>37</td>\n",
       "      <td>50</td>\n",
       "      <td>66.752077</td>\n",
       "      <td>40.633652</td>\n",
       "      <td>32.216324</td>\n",
       "      <td>62.024096</td>\n",
       "      <td>23.767798</td>\n",
       "      <td>54.337349</td>\n",
       "      <td>24.397590</td>\n",
       "      <td>83</td>\n",
       "      <td>...</td>\n",
       "      <td>-26.224362</td>\n",
       "      <td>-7.082896</td>\n",
       "      <td>-39.957181</td>\n",
       "      <td>2A</td>\n",
       "      <td>1B</td>\n",
       "      <td>2A</td>\n",
       "      <td>2B</td>\n",
       "      <td>2A</td>\n",
       "      <td>4</td>\n",
       "      <td>2A</td>\n",
       "    </tr>\n",
       "    <tr>\n",
       "      <th>251.0</th>\n",
       "      <td>81</td>\n",
       "      <td>77</td>\n",
       "      <td>66.752077</td>\n",
       "      <td>40.633652</td>\n",
       "      <td>32.216324</td>\n",
       "      <td>66.909091</td>\n",
       "      <td>25.770098</td>\n",
       "      <td>59.504132</td>\n",
       "      <td>27.479339</td>\n",
       "      <td>121</td>\n",
       "      <td>...</td>\n",
       "      <td>-20.009192</td>\n",
       "      <td>0.235220</td>\n",
       "      <td>-32.372953</td>\n",
       "      <td>3</td>\n",
       "      <td>1B</td>\n",
       "      <td>2A</td>\n",
       "      <td>2B</td>\n",
       "      <td>2A</td>\n",
       "      <td>4</td>\n",
       "      <td>2B</td>\n",
       "    </tr>\n",
       "    <tr>\n",
       "      <th>252.0</th>\n",
       "      <td>37</td>\n",
       "      <td>42</td>\n",
       "      <td>66.752077</td>\n",
       "      <td>40.633652</td>\n",
       "      <td>32.216324</td>\n",
       "      <td>62.714286</td>\n",
       "      <td>24.188312</td>\n",
       "      <td>57.946429</td>\n",
       "      <td>33.035714</td>\n",
       "      <td>56</td>\n",
       "      <td>...</td>\n",
       "      <td>-24.919082</td>\n",
       "      <td>-6.048937</td>\n",
       "      <td>-18.698634</td>\n",
       "      <td>3</td>\n",
       "      <td>1B</td>\n",
       "      <td>2A</td>\n",
       "      <td>2B</td>\n",
       "      <td>2B</td>\n",
       "      <td>4</td>\n",
       "      <td>2A</td>\n",
       "    </tr>\n",
       "    <tr>\n",
       "      <th>259.0</th>\n",
       "      <td>1</td>\n",
       "      <td>0</td>\n",
       "      <td>66.752077</td>\n",
       "      <td>40.633652</td>\n",
       "      <td>32.216324</td>\n",
       "      <td>60.000000</td>\n",
       "      <td>9.090909</td>\n",
       "      <td>85.000000</td>\n",
       "      <td>0.000000</td>\n",
       "      <td>1</td>\n",
       "      <td>...</td>\n",
       "      <td>-71.781668</td>\n",
       "      <td>-10.115156</td>\n",
       "      <td>-100.000000</td>\n",
       "      <td>3</td>\n",
       "      <td>3</td>\n",
       "      <td>1A</td>\n",
       "      <td>1A</td>\n",
       "      <td>1B</td>\n",
       "      <td>2A</td>\n",
       "      <td>2A</td>\n",
       "    </tr>\n",
       "    <tr>\n",
       "      <th>297.0</th>\n",
       "      <td>1</td>\n",
       "      <td>1</td>\n",
       "      <td>66.752077</td>\n",
       "      <td>40.633652</td>\n",
       "      <td>32.216324</td>\n",
       "      <td>76.000000</td>\n",
       "      <td>27.272727</td>\n",
       "      <td>70.000000</td>\n",
       "      <td>25.000000</td>\n",
       "      <td>1</td>\n",
       "      <td>...</td>\n",
       "      <td>-15.345005</td>\n",
       "      <td>13.854136</td>\n",
       "      <td>-38.474642</td>\n",
       "      <td>3</td>\n",
       "      <td>2A</td>\n",
       "      <td>2A</td>\n",
       "      <td>4</td>\n",
       "      <td>2A</td>\n",
       "      <td>4</td>\n",
       "      <td>3</td>\n",
       "    </tr>\n",
       "  </tbody>\n",
       "</table>\n",
       "<p>135 rows × 22 columns</p>\n",
       "</div>"
      ],
      "text/plain": [
       "           Conoce PC  Interesado en tecnologia  Media nacional autoeficacia  \\\n",
       "Código IE                                                                     \n",
       "1.0               90                       109                    66.752077   \n",
       "2.0               35                        53                    66.752077   \n",
       "3.0               41                        43                    66.752077   \n",
       "4.0               24                        35                    66.752077   \n",
       "5.0               69                        99                    66.752077   \n",
       "...              ...                       ...                          ...   \n",
       "250.0             37                        50                    66.752077   \n",
       "251.0             81                        77                    66.752077   \n",
       "252.0             37                        42                    66.752077   \n",
       "259.0              1                         0                    66.752077   \n",
       "297.0              1                         1                    66.752077   \n",
       "\n",
       "           Media nacional interés  Media nacional resultados  \\\n",
       "Código IE                                                      \n",
       "1.0                     40.633652                  32.216324   \n",
       "2.0                     40.633652                  32.216324   \n",
       "3.0                     40.633652                  32.216324   \n",
       "4.0                     40.633652                  32.216324   \n",
       "5.0                     40.633652                  32.216324   \n",
       "...                           ...                        ...   \n",
       "250.0                   40.633652                  32.216324   \n",
       "251.0                   40.633652                  32.216324   \n",
       "252.0                   40.633652                  32.216324   \n",
       "259.0                   40.633652                  32.216324   \n",
       "297.0                   40.633652                  32.216324   \n",
       "\n",
       "           Puntaje autoeficacia  Puntaje conocimiento  \\\n",
       "Código IE                                               \n",
       "1.0                   69.466667             28.363636   \n",
       "2.0                   59.104478             24.830393   \n",
       "3.0                   69.904762             29.870130   \n",
       "4.0                   66.222222             33.737374   \n",
       "5.0                   73.981651             30.942452   \n",
       "...                         ...                   ...   \n",
       "250.0                 62.024096             23.767798   \n",
       "251.0                 66.909091             25.770098   \n",
       "252.0                 62.714286             24.188312   \n",
       "259.0                 60.000000              9.090909   \n",
       "297.0                 76.000000             27.272727   \n",
       "\n",
       "           Puntaje conocimientos PC  Puntaje interes  Cantidad estudiantes  \\\n",
       "Código IE                                                                    \n",
       "1.0                       58.566667        36.333333                   150   \n",
       "2.0                       51.492537        47.388060                    67   \n",
       "3.0                       59.761905        39.285714                    63   \n",
       "4.0                       59.555556        46.666667                    45   \n",
       "5.0                       61.422018        55.504587                   109   \n",
       "...                             ...              ...                   ...   \n",
       "250.0                     54.337349        24.397590                    83   \n",
       "251.0                     59.504132        27.479339                   121   \n",
       "252.0                     57.946429        33.035714                    56   \n",
       "259.0                     85.000000         0.000000                     1   \n",
       "297.0                     70.000000        25.000000                     1   \n",
       "\n",
       "           ...  Diferencia resultados  Diferencia Autoeficacia  \\\n",
       "Código IE  ...                                                   \n",
       "1.0        ...             -11.958805                 4.066675   \n",
       "2.0        ...             -22.926049               -11.456721   \n",
       "3.0        ...              -7.282625                 4.722977   \n",
       "4.0        ...               4.721364                -0.793765   \n",
       "5.0        ...              -3.954119                10.830487   \n",
       "...        ...                    ...                      ...   \n",
       "250.0      ...             -26.224362                -7.082896   \n",
       "251.0      ...             -20.009192                 0.235220   \n",
       "252.0      ...             -24.919082                -6.048937   \n",
       "259.0      ...             -71.781668               -10.115156   \n",
       "297.0      ...             -15.345005                13.854136   \n",
       "\n",
       "           Diferencia interes  Nivel ConocePC  Nivel PuntajePC  \\\n",
       "Código IE                                                        \n",
       "1.0                -10.583146              2B               1B   \n",
       "2.0                 16.622694              2B               1B   \n",
       "3.0                 -3.317294               3               1B   \n",
       "4.0                 14.847335              2B               1B   \n",
       "5.0                 36.597584               3               2A   \n",
       "...                       ...             ...              ...   \n",
       "250.0              -39.957181              2A               1B   \n",
       "251.0              -32.372953               3               1B   \n",
       "252.0              -18.698634               3               1B   \n",
       "259.0             -100.000000               3                3   \n",
       "297.0              -38.474642               3               2A   \n",
       "\n",
       "          Nivel Resultados Nivel Interes Nivel Interes pares  \\\n",
       "Código IE                                                      \n",
       "1.0                     2A            2B                  2B   \n",
       "2.0                     2A            2B                   4   \n",
       "3.0                     2A            2B                  2B   \n",
       "4.0                     2B            2B                   4   \n",
       "5.0                     2A             4                   4   \n",
       "...                    ...           ...                 ...   \n",
       "250.0                   2A            2B                  2A   \n",
       "251.0                   2A            2B                  2A   \n",
       "252.0                   2A            2B                  2B   \n",
       "259.0                   1A            1A                  1B   \n",
       "297.0                   2A             4                  2A   \n",
       "\n",
       "          Nivel Autoeficacia Nivel Autoeficacia pares  \n",
       "Código IE                                              \n",
       "1.0                        4                       2B  \n",
       "2.0                       2A                       2A  \n",
       "3.0                        4                       2B  \n",
       "4.0                        4                       2A  \n",
       "5.0                        4                        3  \n",
       "...                      ...                      ...  \n",
       "250.0                      4                       2A  \n",
       "251.0                      4                       2B  \n",
       "252.0                      4                       2A  \n",
       "259.0                     2A                       2A  \n",
       "297.0                      4                        3  \n",
       "\n",
       "[135 rows x 22 columns]"
      ]
     },
     "execution_count": 27,
     "metadata": {},
     "output_type": "execute_result"
    }
   ],
   "source": [
    "df_institucion['Nivel ConocePC'] =  pd.cut(df_institucion['% Conoce PC'], bins=[0, 20, 40, 50, 60, 100], labels=['1A', '1B', '2A', '2B', '3'], include_lowest=True)\n",
    "\n",
    "df_institucion['Nivel PuntajePC'] =  pd.cut(df_institucion['Puntaje conocimientos PC'], bins=[0, 50, 60,70, 100], labels=['1A', '1B',\"2A\",'3'], include_lowest=True)\n",
    "\n",
    "df_institucion['Nivel Resultados'] = pd.cut(df_institucion['Diferencia resultados'], bins=[-100, -50, -30,  0, 10,20, 100], labels=['1A', '1B', \"2A\", \"2B\", '3', '4'], include_lowest=True)\n",
    "\n",
    "df_institucion['Nivel Interes'] = pd.cut(df_institucion['% Interesado'], bins=[0, 20, 40, 60, 80, 100], labels=['1A', '1B', \"2A\", \"2B\", '4'], include_lowest=True)\n",
    "\n",
    "df_institucion['Nivel Interes pares'] = pd.cut(df_institucion['Diferencia interes'], bins=[-100,-50, -30, 0 , 200], labels=['1B', \"2A\", \"2B\", '4'], include_lowest=True)\n",
    "\n",
    "df_institucion['Nivel Autoeficacia'] = pd.cut(df_institucion['Puntaje autoeficacia'], bins=[0, 30, 60, 100], labels=['1B', \"2A\", '4'], include_lowest=True)\n",
    "\n",
    "df_institucion['Nivel Autoeficacia pares'] = pd.cut(df_institucion['Diferencia Autoeficacia'], bins=[-100, 0, 10, 20, 100], labels=['2A',\"2B\", \"3\", '4'], include_lowest=True)\n",
    "\n",
    "\n",
    "df_institucion"
   ]
  },
  {
   "cell_type": "code",
   "execution_count": 29,
   "metadata": {
    "collapsed": false,
    "jupyter": {
     "outputs_hidden": false
    },
    "pycharm": {
     "name": "#%%\n"
    }
   },
   "outputs": [
    {
     "data": {
      "text/plain": [
       "3     78\n",
       "2B    37\n",
       "2A    11\n",
       "1A     6\n",
       "1B     3\n",
       "Name: Nivel ConocePC, dtype: int64"
      ]
     },
     "execution_count": 29,
     "metadata": {},
     "output_type": "execute_result"
    }
   ],
   "source": [
    "df_institucion['Nivel ConocePC'].value_counts()"
   ]
  },
  {
   "cell_type": "code",
   "execution_count": 28,
   "metadata": {
    "collapsed": false,
    "jupyter": {
     "outputs_hidden": false
    },
    "pycharm": {
     "name": "#%%\n"
    }
   },
   "outputs": [],
   "source": [
    "df_institucion['Dimensión 7'] = df_institucion.filter(regex='^Nivel').min(axis=1)"
   ]
  },
  {
   "cell_type": "code",
   "execution_count": 30,
   "metadata": {
    "collapsed": false,
    "jupyter": {
     "outputs_hidden": false
    },
    "pycharm": {
     "name": "#%%\n"
    }
   },
   "outputs": [],
   "source": [
    "df_institucion.to_excel('Dimensión 7.xlsx')"
   ]
  },
  {
   "cell_type": "code",
   "execution_count": 29,
   "metadata": {
    "collapsed": false,
    "jupyter": {
     "outputs_hidden": false
    },
    "pycharm": {
     "name": "#%%\n"
    }
   },
   "outputs": [
    {
     "data": {
      "text/plain": [
       "Código IE\n",
       "1.0      1B\n",
       "2.0      1B\n",
       "3.0      1B\n",
       "4.0      1B\n",
       "5.0      2A\n",
       "         ..\n",
       "250.0    1B\n",
       "251.0    1B\n",
       "252.0    1B\n",
       "259.0    1A\n",
       "297.0    2A\n",
       "Name: Dimensión 7, Length: 135, dtype: object"
      ]
     },
     "execution_count": 29,
     "metadata": {},
     "output_type": "execute_result"
    }
   ],
   "source": [
    "df_institucion['Dimensión 7']"
   ]
  },
  {
   "cell_type": "code",
   "execution_count": null,
   "metadata": {
    "collapsed": false,
    "jupyter": {
     "outputs_hidden": false
    },
    "pycharm": {
     "name": "#%%\n"
    }
   },
   "outputs": [],
   "source": []
  }
 ],
 "metadata": {
  "kernelspec": {
   "display_name": "Python 3 (ipykernel)",
   "language": "python",
   "name": "python3"
  },
  "language_info": {
   "codemirror_mode": {
    "name": "ipython",
    "version": 3
   },
   "file_extension": ".py",
   "mimetype": "text/x-python",
   "name": "python",
   "nbconvert_exporter": "python",
   "pygments_lexer": "ipython3",
   "version": "3.10.4"
  }
 },
 "nbformat": 4,
 "nbformat_minor": 4
}