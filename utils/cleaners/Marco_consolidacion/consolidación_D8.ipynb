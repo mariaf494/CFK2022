{
 "cells": [
  {
   "cell_type": "code",
   "execution_count": 1,
   "metadata": {
    "collapsed": true
   },
   "outputs": [],
   "source": [
    "import pandas as pd\n",
    "import pathlib "
   ]
  },
  {
   "cell_type": "markdown",
   "source": [
    "#### Lista de chequeo líder de área"
   ],
   "metadata": {
    "collapsed": false,
    "pycharm": {
     "name": "#%% md\n"
    }
   }
  },
  {
   "cell_type": "code",
   "execution_count": 2,
   "outputs": [],
   "source": [
    "ruta_git = pathlib.Path().cwd().parent.parent.parent"
   ],
   "metadata": {
    "collapsed": false,
    "pycharm": {
     "name": "#%%\n"
    }
   }
  },
  {
   "cell_type": "code",
   "execution_count": 3,
   "outputs": [
    {
     "data": {
      "text/plain": "PosixPath('/home/mariana/Documents/GitHub/CFK2022')"
     },
     "execution_count": 3,
     "metadata": {},
     "output_type": "execute_result"
    }
   ],
   "source": [
    "ruta_git"
   ],
   "metadata": {
    "collapsed": false,
    "pycharm": {
     "name": "#%%\n"
    }
   }
  },
  {
   "cell_type": "code",
   "execution_count": 4,
   "outputs": [],
   "source": [
    "lider = pd.read_excel(ruta_git/'data/descargables/LiderCFK.xlsx', index_col=0)"
   ],
   "metadata": {
    "collapsed": false,
    "pycharm": {
     "name": "#%%\n"
    }
   }
  },
  {
   "cell_type": "code",
   "execution_count": 5,
   "outputs": [
    {
     "data": {
      "text/plain": "Index(['N registro', 'Fecha', 'Instrumento', 'ID', 'Código IE',\n       '1.1 Los docentes encargados del área son los responsables de definir lo que se enseña',\n       '1.2 El plan de estudios del área cuenta con mejoras realizadas por los docentes de la IE gracias a espacios colaborativos',\n       '1.3 El plan de estudio incluye actividades básicas de ofimática y/o alfabetización digital, programación y/o desarrollo del pensamiento computacional.',\n       '1.4 En el plan de estudio se da mayor relevancia al pensamiento computacional',\n       '1.5 El plan de estudio del área promueve la transición desde la alfabetización digital a las ciencias de la computación',\n       '1.6 El plan de estudios del área comprende el pensamiento computacional y su impacto dentro del proceso enseñanza-aprendizaje',\n       '1.7 El plan de estudios del área es coherente con la transición de un grado a otro y permite al estudiante desarrollar conocimientos, habilidades y comprensión del pensamiento computacional',\n       '1.8 El plan de estudios del área incluye trabajo práctico para el desarrollo del pensamiento computacional.',\n       '1.9 El plan de estudio del área cuenta con espacios de socialización a los estudiantes de personas que trabajan en ocupaciones relacionadas al área STEM',\n       '1.10 El plan de estudio de las asignaturas No-STEM integran eficientemente los aprendizajes adquiridos por sus estudiantes sobre pensamiento computacional',\n       '1.11 La visión institucional menciona el impacto y lugar de la enseñanza del desarrollo del pensamiento computacional dentro del plan de estudios.',\n       'Comentarios P1',\n       '2.1 La IE identifica a los estudiantes que cuentan con necesidades educativas especiales',\n       '2.2 La IE implementa algunas acciones para brindar apoyo a los estudiantes con necesidades educativas especiales en su participación en el área',\n       '2.3 La IE establece un plan para la atención de estudiantes con necesidades educativas especiales para su participación en actividades asociadas al pensamiento computacional',\n       '2.4 La IE promueve la participación de personas con necesidades educativas especiales en actividades extracurricules para garantiza la inclusión y participación en áreas STEM',\n       '2.5 La IE genera estrategias que visibilizan modelos a seguir en carreras en áreas STEM en estudiantes con necesidades educativas especiales',\n       '2.6 Los docentes del área que incluyen pensamiento computacional y/o ciencias de la computación muestran la asignatura como accesible para todos(as)',\n       '2.7 La IE promueve al trabajo conjunto entre los docente y profesionales externos para impulsar prácticas inclusivas en la enseñanza de la computación y/o pensamiento computacional',\n       '2.8 El plan de estudio considera aspectos para la inclusión de estudiantes con trastornos de aprendizaje y/o discapacidad',\n       '2.9 El plan de estudios del área incluye acciones de apoyo y adecuaciones a los materiales educativos articuladas con las estrategias de atención de estudiantes con necesidades educativas especiales',\n       '2.10  El plan de estudios del área y los recursos educativos se revisan con apoyo de personal experto en la atención a estudiantes con necesidades educativas especiales',\n       '2.11 El plan de estudios del área hace explícita la pedagogía a utilizar que incluye adaptaciones para estudiantes con necesidades educativas especiales',\n       'Comentarios P2',\n       '3.1 La IE hace seguimiento de las diferencias de género en los resultados y el desempeño académico de niños y niñas en áreas STEM',\n       '3.2 La IE crea espacios de reflexión sobre las causas y orígenes de las diferencias entre niños y niñas',\n       '3.3 La IE realiza iniciativas cívicas y campañas comunicativas con estudiantes para visibilizar las diferencias de género en áreas STEM',\n       '3.4 La IE toma acciones concretas para disminuir la diferencias de resultados entre niños y niñas Por ejemplo: organizar competencias diferenciadas entre niños y niñas en áreas STEM',\n       '3.5 La IE tiene alianzas con entidades externas que promuevan la equidad género en las áreas STEM',\n       '3.6 La institución posee una propuesta estructurada donde garantiza que los niños y niñas continúen su trayectoria de formación educativa en pensamiento computacional y/o ciencias de la computación.',\n       '3.7 El plan de estudios del área promueve en niños y niñas el desarrollo de sus conocimientos, habilidades y actitudes',\n       '3.8 El plan de estudio del área cuentan con una estructura clara que permite disminuir las diferencias en el desempeño de niños y niñas',\n       '3.9 El plan de estudio del área se encuentran en constante revisión e incorporan nuevas estrategias para promover la igualdad en el desempeño de niños y niñas',\n       '3.10 El plan de estudio considera aspectos para disminuir las diferencias entre niños y niñas y la inclusión de estudiantes con trastornos de aprendizaje y/o discapacidad',\n       'Comentarios P3',\n       '4.1 La IE tiene en cuenta el plan de estudios para determinar las actividades de desarrollo profesional',\n       '4.2 La IE identifica las necesidades de los docentes para determinar actividades de desarrollo profesional',\n       '4.3 La IE cuenta con espacios de discusión y planeación para actividades de desarrollo profesional',\n       '4.4 La IE capacita a los docentes en temas de equidad de género y apoya la implementación de acciones afirmativas en el aula de clases',\n       '4.5 La IE lleva un registro formal de las necesidades y participación de los docentes en actividades de desarrollo profesional',\n       '4.6 Los docentes de otras áreas se interesan por el área de tecnología e informática y la integran a su enseñanza',\n       '4.7 La IE incentiva el trabajo coordinado entre los/las responsables del área',\n       '4.8 La IE tiene en cuenta los conocimientos del personal docente para enriquecer la visión institucional sobre la enseñanza de la computación y potenciar la comprensión de las/los estudiantes y desarrollo',\n       '4.9 La IE promueve al trabajo conjunto entre los docente y profesionales líderes externos para impulsar prácticas inclusivas en la enseñanza de la computación y/o pensamiento computacional',\n       '4.10 El Consejo Directivo del colegio está al tanto de que en la institución se está enseñando ciencias de la computación, y se encuentran involucrados en el proceso.',\n       '4.11 Las directivas y el Consejo Directivo participan y evalúan la implementación de sistemas eficientes del plan de estudios del área.]',\n       'Comentarios P4'],\n      dtype='object')"
     },
     "execution_count": 5,
     "metadata": {},
     "output_type": "execute_result"
    }
   ],
   "source": [
    "lider.columns"
   ],
   "metadata": {
    "collapsed": false,
    "pycharm": {
     "name": "#%%\n"
    }
   }
  },
  {
   "cell_type": "code",
   "execution_count": 9,
   "outputs": [],
   "source": [
    "cols_lider_d8 = {\n",
    "    '3.1 La IE hace seguimiento de las diferencias de género en los resultados y el desempeño académico de niños y niñas en áreas STEM':{\n",
    "        \"Sí\":\"4\",\"No\": \"1A\", \"No aplica\":\"1A\"  },\n",
    "    '3.2 La IE crea espacios de reflexión sobre las causas y orígenes de las diferencias entre niños y niñas': {\n",
    "        \"Sí\":\"4\",\"No\": \"1B\" ,\"No aplica\": \"1B\"  },\n",
    "   '3.4 La IE toma acciones concretas para disminuir la diferencias de resultados entre niños y niñas Por ejemplo: organizar competencias diferenciadas entre niños y niñas en áreas STEM': {\n",
    "       \"Sí\":\"4\",\"No\":\"2A\",\"No aplica\":\"2A\"},\n",
    "    '3.10 El plan de estudio considera aspectos para disminuir las diferencias entre niños y niñas y la inclusión de estudiantes con trastornos de aprendizaje y/o discapacidad': {\n",
    "       \"Sí\":\"4\",\"No\":\"2B\",\"No aplica\":\"2B\"},\n",
    "    '3.3 La IE realiza iniciativas cívicas y campañas comunicativas con estudiantes para visibilizar las diferencias de género en áreas STEM': {\n",
    "       \"Sí\":\"4\",\"No\":\"2A\",\"No aplica\":\"2A\"},\n",
    "    \"3.5 La IE tiene alianzas con entidades externas que promuevan la equidad género en las áreas STEM\":{\n",
    "        \"Sí\":\"4\",\"No\":\"2B\" , \"No aplica\":\"2B\" },\n",
    "    '4.4 La IE capacita a los docentes en temas de equidad de género y apoya la implementación de acciones afirmativas en el aula de clases':{\n",
    "       \"Sí\":\"4\",\"No\":\"3\",\"No aplica\":\"3\"},\n",
    "    '3.8 El plan de estudio del área cuentan con una estructura clara que permite disminuir las diferencias en el desempeño de niños y niñas': {\n",
    "       \"Sí\":\"5\",\"No\":\"4\",\"No aplica\":\"4\"}}"
   ],
   "metadata": {
    "collapsed": false,
    "pycharm": {
     "name": "#%%\n"
    }
   }
  },
  {
   "cell_type": "code",
   "execution_count": 10,
   "outputs": [
    {
     "data": {
      "text/plain": "     Código IE  \\\n0            1   \n1            2   \n2            3   \n3            4   \n4            5   \n..         ...   \n223        248   \n224        249   \n225        250   \n226        251   \n227        252   \n\n    3.1 La IE hace seguimiento de las diferencias de género en los resultados y el desempeño académico de niños y niñas en áreas STEM  \\\n0                                                    4                                                                                  \n1                                                   1A                                                                                  \n2                                                   1A                                                                                  \n3                                                   1A                                                                                  \n4                                                    4                                                                                  \n..                                                 ...                                                                                  \n223                                                 1A                                                                                  \n224                                                 1A                                                                                  \n225                                                 1A                                                                                  \n226                                                  4                                                                                  \n227                                                 1A                                                                                  \n\n    3.2 La IE crea espacios de reflexión sobre las causas y orígenes de las diferencias entre niños y niñas  \\\n0                                                   1B                                                        \n1                                                    4                                                        \n2                                                    4                                                        \n3                                                   1B                                                        \n4                                                    4                                                        \n..                                                 ...                                                        \n223                                                 1B                                                        \n224                                                 1B                                                        \n225                                                 1B                                                        \n226                                                  4                                                        \n227                                                 1B                                                        \n\n    3.4 La IE toma acciones concretas para disminuir la diferencias de resultados entre niños y niñas Por ejemplo: organizar competencias diferenciadas entre niños y niñas en áreas STEM  \\\n0                                                   2A                                                                                                                                      \n1                                                   2A                                                                                                                                      \n2                                                   2A                                                                                                                                      \n3                                                   2A                                                                                                                                      \n4                                                    4                                                                                                                                      \n..                                                 ...                                                                                                                                      \n223                                                 2A                                                                                                                                      \n224                                                 2A                                                                                                                                      \n225                                                 2A                                                                                                                                      \n226                                                 2A                                                                                                                                      \n227                                                 2A                                                                                                                                      \n\n    3.10 El plan de estudio considera aspectos para disminuir las diferencias entre niños y niñas y la inclusión de estudiantes con trastornos de aprendizaje y/o discapacidad  \\\n0                                                   2B                                                                                                                           \n1                                                    4                                                                                                                           \n2                                                   2B                                                                                                                           \n3                                                   2B                                                                                                                           \n4                                                    4                                                                                                                           \n..                                                 ...                                                                                                                           \n223                                                 2B                                                                                                                           \n224                                                  4                                                                                                                           \n225                                                 2B                                                                                                                           \n226                                                  4                                                                                                                           \n227                                                 2B                                                                                                                           \n\n    3.3 La IE realiza iniciativas cívicas y campañas comunicativas con estudiantes para visibilizar las diferencias de género en áreas STEM  \\\n0                                                   2A                                                                                        \n1                                                   2A                                                                                        \n2                                                   2A                                                                                        \n3                                                   2A                                                                                        \n4                                                    4                                                                                        \n..                                                 ...                                                                                        \n223                                                 2A                                                                                        \n224                                                 2A                                                                                        \n225                                                 2A                                                                                        \n226                                                 2A                                                                                        \n227                                                 2A                                                                                        \n\n    3.5 La IE tiene alianzas con entidades externas que promuevan la equidad género en las áreas STEM  \\\n0                                                    4                                                  \n1                                                    4                                                  \n2                                                    4                                                  \n3                                                   2B                                                  \n4                                                    4                                                  \n..                                                 ...                                                  \n223                                                 2B                                                  \n224                                                 2B                                                  \n225                                                 2B                                                  \n226                                                 2B                                                  \n227                                                 2B                                                  \n\n    4.4 La IE capacita a los docentes en temas de equidad de género y apoya la implementación de acciones afirmativas en el aula de clases  \\\n0                                                    3                                                                                       \n1                                                    4                                                                                       \n2                                                    4                                                                                       \n3                                                    3                                                                                       \n4                                                    4                                                                                       \n..                                                 ...                                                                                       \n223                                                  3                                                                                       \n224                                                  4                                                                                       \n225                                                  3                                                                                       \n226                                                  4                                                                                       \n227                                                  3                                                                                       \n\n    3.8 El plan de estudio del área cuentan con una estructura clara que permite disminuir las diferencias en el desempeño de niños y niñas  \\\n0                                                    4                                                                                        \n1                                                    5                                                                                        \n2                                                    5                                                                                        \n3                                                    4                                                                                        \n4                                                    5                                                                                        \n..                                                 ...                                                                                        \n223                                                  4                                                                                        \n224                                                  5                                                                                        \n225                                                  4                                                                                        \n226                                                  5                                                                                        \n227                                                  4                                                                                        \n\n    Dimensión 8  \n0            1B  \n1            1A  \n2            1A  \n3            1A  \n4             4  \n..          ...  \n223          1A  \n224          1A  \n225          1A  \n226          2A  \n227          1A  \n\n[228 rows x 10 columns]",
      "text/html": "<div>\n<style scoped>\n    .dataframe tbody tr th:only-of-type {\n        vertical-align: middle;\n    }\n\n    .dataframe tbody tr th {\n        vertical-align: top;\n    }\n\n    .dataframe thead th {\n        text-align: right;\n    }\n</style>\n<table border=\"1\" class=\"dataframe\">\n  <thead>\n    <tr style=\"text-align: right;\">\n      <th></th>\n      <th>Código IE</th>\n      <th>3.1 La IE hace seguimiento de las diferencias de género en los resultados y el desempeño académico de niños y niñas en áreas STEM</th>\n      <th>3.2 La IE crea espacios de reflexión sobre las causas y orígenes de las diferencias entre niños y niñas</th>\n      <th>3.4 La IE toma acciones concretas para disminuir la diferencias de resultados entre niños y niñas Por ejemplo: organizar competencias diferenciadas entre niños y niñas en áreas STEM</th>\n      <th>3.10 El plan de estudio considera aspectos para disminuir las diferencias entre niños y niñas y la inclusión de estudiantes con trastornos de aprendizaje y/o discapacidad</th>\n      <th>3.3 La IE realiza iniciativas cívicas y campañas comunicativas con estudiantes para visibilizar las diferencias de género en áreas STEM</th>\n      <th>3.5 La IE tiene alianzas con entidades externas que promuevan la equidad género en las áreas STEM</th>\n      <th>4.4 La IE capacita a los docentes en temas de equidad de género y apoya la implementación de acciones afirmativas en el aula de clases</th>\n      <th>3.8 El plan de estudio del área cuentan con una estructura clara que permite disminuir las diferencias en el desempeño de niños y niñas</th>\n      <th>Dimensión 8</th>\n    </tr>\n  </thead>\n  <tbody>\n    <tr>\n      <th>0</th>\n      <td>1</td>\n      <td>4</td>\n      <td>1B</td>\n      <td>2A</td>\n      <td>2B</td>\n      <td>2A</td>\n      <td>4</td>\n      <td>3</td>\n      <td>4</td>\n      <td>1B</td>\n    </tr>\n    <tr>\n      <th>1</th>\n      <td>2</td>\n      <td>1A</td>\n      <td>4</td>\n      <td>2A</td>\n      <td>4</td>\n      <td>2A</td>\n      <td>4</td>\n      <td>4</td>\n      <td>5</td>\n      <td>1A</td>\n    </tr>\n    <tr>\n      <th>2</th>\n      <td>3</td>\n      <td>1A</td>\n      <td>4</td>\n      <td>2A</td>\n      <td>2B</td>\n      <td>2A</td>\n      <td>4</td>\n      <td>4</td>\n      <td>5</td>\n      <td>1A</td>\n    </tr>\n    <tr>\n      <th>3</th>\n      <td>4</td>\n      <td>1A</td>\n      <td>1B</td>\n      <td>2A</td>\n      <td>2B</td>\n      <td>2A</td>\n      <td>2B</td>\n      <td>3</td>\n      <td>4</td>\n      <td>1A</td>\n    </tr>\n    <tr>\n      <th>4</th>\n      <td>5</td>\n      <td>4</td>\n      <td>4</td>\n      <td>4</td>\n      <td>4</td>\n      <td>4</td>\n      <td>4</td>\n      <td>4</td>\n      <td>5</td>\n      <td>4</td>\n    </tr>\n    <tr>\n      <th>...</th>\n      <td>...</td>\n      <td>...</td>\n      <td>...</td>\n      <td>...</td>\n      <td>...</td>\n      <td>...</td>\n      <td>...</td>\n      <td>...</td>\n      <td>...</td>\n      <td>...</td>\n    </tr>\n    <tr>\n      <th>223</th>\n      <td>248</td>\n      <td>1A</td>\n      <td>1B</td>\n      <td>2A</td>\n      <td>2B</td>\n      <td>2A</td>\n      <td>2B</td>\n      <td>3</td>\n      <td>4</td>\n      <td>1A</td>\n    </tr>\n    <tr>\n      <th>224</th>\n      <td>249</td>\n      <td>1A</td>\n      <td>1B</td>\n      <td>2A</td>\n      <td>4</td>\n      <td>2A</td>\n      <td>2B</td>\n      <td>4</td>\n      <td>5</td>\n      <td>1A</td>\n    </tr>\n    <tr>\n      <th>225</th>\n      <td>250</td>\n      <td>1A</td>\n      <td>1B</td>\n      <td>2A</td>\n      <td>2B</td>\n      <td>2A</td>\n      <td>2B</td>\n      <td>3</td>\n      <td>4</td>\n      <td>1A</td>\n    </tr>\n    <tr>\n      <th>226</th>\n      <td>251</td>\n      <td>4</td>\n      <td>4</td>\n      <td>2A</td>\n      <td>4</td>\n      <td>2A</td>\n      <td>2B</td>\n      <td>4</td>\n      <td>5</td>\n      <td>2A</td>\n    </tr>\n    <tr>\n      <th>227</th>\n      <td>252</td>\n      <td>1A</td>\n      <td>1B</td>\n      <td>2A</td>\n      <td>2B</td>\n      <td>2A</td>\n      <td>2B</td>\n      <td>3</td>\n      <td>4</td>\n      <td>1A</td>\n    </tr>\n  </tbody>\n</table>\n<p>228 rows × 10 columns</p>\n</div>"
     },
     "execution_count": 10,
     "metadata": {},
     "output_type": "execute_result"
    }
   ],
   "source": [
    "lider_d8 = lider[['Código IE']+list(cols_lider_d8.keys())]\n",
    "lider_d8 = lider_d8.replace(cols_lider_d8)\n",
    "lider_d8 = lider_d8.groupby('Código IE').max().reset_index()\n",
    "lider_d8['Dimensión 8'] = lider_d8.iloc[:,1:].min(axis=1)\n",
    "lider_d8"
   ],
   "metadata": {
    "collapsed": false,
    "pycharm": {
     "name": "#%%\n"
    }
   }
  },
  {
   "cell_type": "code",
   "execution_count": 11,
   "outputs": [],
   "source": [
    "lider_d8.to_excel('Dimensión 8.xlsx', index=False)"
   ],
   "metadata": {
    "collapsed": false,
    "pycharm": {
     "name": "#%%\n"
    }
   }
  }
 ],
 "metadata": {
  "kernelspec": {
   "display_name": "Python 3",
   "language": "python",
   "name": "python3"
  },
  "language_info": {
   "codemirror_mode": {
    "name": "ipython",
    "version": 2
   },
   "file_extension": ".py",
   "mimetype": "text/x-python",
   "name": "python",
   "nbconvert_exporter": "python",
   "pygments_lexer": "ipython2",
   "version": "2.7.6"
  }
 },
 "nbformat": 4,
 "nbformat_minor": 0
}